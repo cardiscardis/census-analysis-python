{
 "cells": [
  {
   "cell_type": "markdown",
   "metadata": {},
   "source": [
    "### 1. Data Issues:\n",
    "#### - Direct Observation:\n",
    "#### - Analytical Observation:\n",
    "\n",
    "### 2. Preprocessing\n",
    "#### - Inference on data entries, types and corrections procedures:\n",
    "\n",
    "### 3. Visualization\n",
    "\n",
    "### 4. Other things we could do..."
   ]
  },
  {
   "cell_type": "code",
   "execution_count": 575,
   "metadata": {},
   "outputs": [],
   "source": [
    "import pandas as pd\n",
    "import matplotlib.pyplot as plt\n",
    "import numpy as np\n",
    "import matplotlib\n",
    "\n",
    "# Use Pandas to read in the CSV data here.\n",
    "census_data = pd.read_csv('census_07_2022.csv')"
   ]
  },
  {
   "cell_type": "markdown",
   "metadata": {},
   "source": [
    "The very first thing I did was observe the column headers of my dataset for comprehension of what my data actually contains. This step is also to gain some possible insights on reasonable (or sensible) types of data that should be intended and how well they have been represented, as well as to check if there are first-sight correlation possibilities."
   ]
  },
  {
   "cell_type": "code",
   "execution_count": 576,
   "metadata": {},
   "outputs": [
    {
     "data": {
      "text/plain": [
       "Index(['Unnamed: 0', 'House Number', 'Street', 'First Name', 'Surname', 'Age',\n",
       "       'Relationship to Head of House', 'Marital Status', 'Gender',\n",
       "       'Occupation', 'Infirmity', 'Religion'],\n",
       "      dtype='object')"
      ]
     },
     "execution_count": 576,
     "metadata": {},
     "output_type": "execute_result"
    }
   ],
   "source": [
    "census_data.columns"
   ]
  },
  {
   "cell_type": "markdown",
   "metadata": {},
   "source": [
    "It is important to observe and scrutinize the dataset to ensure they are usable by taking a peep into the data using the .head() function."
   ]
  },
  {
   "cell_type": "code",
   "execution_count": 577,
   "metadata": {},
   "outputs": [
    {
     "data": {
      "text/html": [
       "<div>\n",
       "<style scoped>\n",
       "    .dataframe tbody tr th:only-of-type {\n",
       "        vertical-align: middle;\n",
       "    }\n",
       "\n",
       "    .dataframe tbody tr th {\n",
       "        vertical-align: top;\n",
       "    }\n",
       "\n",
       "    .dataframe thead th {\n",
       "        text-align: right;\n",
       "    }\n",
       "</style>\n",
       "<table border=\"1\" class=\"dataframe\">\n",
       "  <thead>\n",
       "    <tr style=\"text-align: right;\">\n",
       "      <th></th>\n",
       "      <th>Unnamed: 0</th>\n",
       "      <th>House Number</th>\n",
       "      <th>Street</th>\n",
       "      <th>First Name</th>\n",
       "      <th>Surname</th>\n",
       "      <th>Age</th>\n",
       "      <th>Relationship to Head of House</th>\n",
       "      <th>Marital Status</th>\n",
       "      <th>Gender</th>\n",
       "      <th>Occupation</th>\n",
       "      <th>Infirmity</th>\n",
       "      <th>Religion</th>\n",
       "    </tr>\n",
       "  </thead>\n",
       "  <tbody>\n",
       "    <tr>\n",
       "      <th>0</th>\n",
       "      <td>0</td>\n",
       "      <td>1</td>\n",
       "      <td>Forgotten Gardens</td>\n",
       "      <td>Laura</td>\n",
       "      <td>White</td>\n",
       "      <td>56</td>\n",
       "      <td>Head</td>\n",
       "      <td>Married</td>\n",
       "      <td>Female</td>\n",
       "      <td>Unemployed</td>\n",
       "      <td>None</td>\n",
       "      <td>Christian</td>\n",
       "    </tr>\n",
       "    <tr>\n",
       "      <th>1</th>\n",
       "      <td>1</td>\n",
       "      <td>1</td>\n",
       "      <td>Forgotten Gardens</td>\n",
       "      <td>Elliot</td>\n",
       "      <td>White</td>\n",
       "      <td>57</td>\n",
       "      <td>Husband</td>\n",
       "      <td>Married</td>\n",
       "      <td>Male</td>\n",
       "      <td>Education officer, community</td>\n",
       "      <td>None</td>\n",
       "      <td>Christian</td>\n",
       "    </tr>\n",
       "    <tr>\n",
       "      <th>2</th>\n",
       "      <td>2</td>\n",
       "      <td>1</td>\n",
       "      <td>Forgotten Gardens</td>\n",
       "      <td>Nicole</td>\n",
       "      <td>White</td>\n",
       "      <td>15</td>\n",
       "      <td>Daughter</td>\n",
       "      <td>NaN</td>\n",
       "      <td>Female</td>\n",
       "      <td>Student</td>\n",
       "      <td>None</td>\n",
       "      <td>NaN</td>\n",
       "    </tr>\n",
       "    <tr>\n",
       "      <th>3</th>\n",
       "      <td>3</td>\n",
       "      <td>2</td>\n",
       "      <td>Forgotten Gardens</td>\n",
       "      <td>Michelle</td>\n",
       "      <td>John</td>\n",
       "      <td>44</td>\n",
       "      <td>Head</td>\n",
       "      <td>Divorced</td>\n",
       "      <td>Female</td>\n",
       "      <td>Administrator, arts</td>\n",
       "      <td>None</td>\n",
       "      <td>Christian</td>\n",
       "    </tr>\n",
       "    <tr>\n",
       "      <th>4</th>\n",
       "      <td>4</td>\n",
       "      <td>2</td>\n",
       "      <td>Forgotten Gardens</td>\n",
       "      <td>Jeffrey</td>\n",
       "      <td>John</td>\n",
       "      <td>9</td>\n",
       "      <td>Son</td>\n",
       "      <td>NaN</td>\n",
       "      <td>Male</td>\n",
       "      <td>Student</td>\n",
       "      <td>None</td>\n",
       "      <td>NaN</td>\n",
       "    </tr>\n",
       "  </tbody>\n",
       "</table>\n",
       "</div>"
      ],
      "text/plain": [
       "   Unnamed: 0 House Number             Street First Name Surname Age  \\\n",
       "0           0            1  Forgotten Gardens      Laura   White  56   \n",
       "1           1            1  Forgotten Gardens     Elliot   White  57   \n",
       "2           2            1  Forgotten Gardens     Nicole   White  15   \n",
       "3           3            2  Forgotten Gardens   Michelle    John  44   \n",
       "4           4            2  Forgotten Gardens    Jeffrey    John   9   \n",
       "\n",
       "  Relationship to Head of House Marital Status  Gender  \\\n",
       "0                          Head        Married  Female   \n",
       "1                       Husband        Married    Male   \n",
       "2                      Daughter            NaN  Female   \n",
       "3                          Head       Divorced  Female   \n",
       "4                           Son            NaN    Male   \n",
       "\n",
       "                     Occupation Infirmity   Religion  \n",
       "0                    Unemployed      None  Christian  \n",
       "1  Education officer, community      None  Christian  \n",
       "2                       Student      None        NaN  \n",
       "3           Administrator, arts      None  Christian  \n",
       "4                       Student      None        NaN  "
      ]
     },
     "execution_count": 577,
     "metadata": {},
     "output_type": "execute_result"
    }
   ],
   "source": [
    "census_data.head()"
   ]
  },
  {
   "cell_type": "markdown",
   "metadata": {},
   "source": [
    "# Data Issues:\n",
    "\n",
    "#### Direct Observation:\n",
    "Census data obviously has error data at third and fifth records (Married and Religion columns) just from observing the first five records. This is also seen when dataframe is enlisted by converting the dataframe to a list."
   ]
  },
  {
   "cell_type": "markdown",
   "metadata": {},
   "source": [
    "#### Analytical Observation:\n",
    "Also, taking a preliminary overview of the overall data and extending the error-data finding process to all columns in the dataset using the .describe() method reveals a lot of data issues. For instance, Marital Status and the Religion columns show count deficiencies compared to the others. About 2000 entries relatively had issues in each cases."
   ]
  },
  {
   "cell_type": "code",
   "execution_count": 578,
   "metadata": {},
   "outputs": [
    {
     "data": {
      "text/html": [
       "<div>\n",
       "<style scoped>\n",
       "    .dataframe tbody tr th:only-of-type {\n",
       "        vertical-align: middle;\n",
       "    }\n",
       "\n",
       "    .dataframe tbody tr th {\n",
       "        vertical-align: top;\n",
       "    }\n",
       "\n",
       "    .dataframe thead th {\n",
       "        text-align: right;\n",
       "    }\n",
       "</style>\n",
       "<table border=\"1\" class=\"dataframe\">\n",
       "  <thead>\n",
       "    <tr style=\"text-align: right;\">\n",
       "      <th></th>\n",
       "      <th>Unnamed: 0</th>\n",
       "      <th>House Number</th>\n",
       "      <th>Street</th>\n",
       "      <th>First Name</th>\n",
       "      <th>Surname</th>\n",
       "      <th>Age</th>\n",
       "      <th>Relationship to Head of House</th>\n",
       "      <th>Marital Status</th>\n",
       "      <th>Gender</th>\n",
       "      <th>Occupation</th>\n",
       "      <th>Infirmity</th>\n",
       "      <th>Religion</th>\n",
       "    </tr>\n",
       "  </thead>\n",
       "  <tbody>\n",
       "    <tr>\n",
       "      <th>count</th>\n",
       "      <td>7773.000000</td>\n",
       "      <td>7773</td>\n",
       "      <td>7773</td>\n",
       "      <td>7773</td>\n",
       "      <td>7773</td>\n",
       "      <td>7773</td>\n",
       "      <td>7773</td>\n",
       "      <td>5960</td>\n",
       "      <td>7773</td>\n",
       "      <td>7773</td>\n",
       "      <td>7773</td>\n",
       "      <td>5910</td>\n",
       "    </tr>\n",
       "    <tr>\n",
       "      <th>unique</th>\n",
       "      <td>NaN</td>\n",
       "      <td>222</td>\n",
       "      <td>105</td>\n",
       "      <td>366</td>\n",
       "      <td>630</td>\n",
       "      <td>110</td>\n",
       "      <td>21</td>\n",
       "      <td>9</td>\n",
       "      <td>9</td>\n",
       "      <td>1086</td>\n",
       "      <td>8</td>\n",
       "      <td>14</td>\n",
       "    </tr>\n",
       "    <tr>\n",
       "      <th>top</th>\n",
       "      <td>NaN</td>\n",
       "      <td>1</td>\n",
       "      <td>Wong Light</td>\n",
       "      <td>James</td>\n",
       "      <td>Smith</td>\n",
       "      <td>43</td>\n",
       "      <td>Head</td>\n",
       "      <td>Single</td>\n",
       "      <td>Female</td>\n",
       "      <td>Student</td>\n",
       "      <td>None</td>\n",
       "      <td>None</td>\n",
       "    </tr>\n",
       "    <tr>\n",
       "      <th>freq</th>\n",
       "      <td>NaN</td>\n",
       "      <td>301</td>\n",
       "      <td>701</td>\n",
       "      <td>36</td>\n",
       "      <td>225</td>\n",
       "      <td>146</td>\n",
       "      <td>2912</td>\n",
       "      <td>2660</td>\n",
       "      <td>3889</td>\n",
       "      <td>1477</td>\n",
       "      <td>7721</td>\n",
       "      <td>2594</td>\n",
       "    </tr>\n",
       "    <tr>\n",
       "      <th>mean</th>\n",
       "      <td>3886.000000</td>\n",
       "      <td>NaN</td>\n",
       "      <td>NaN</td>\n",
       "      <td>NaN</td>\n",
       "      <td>NaN</td>\n",
       "      <td>NaN</td>\n",
       "      <td>NaN</td>\n",
       "      <td>NaN</td>\n",
       "      <td>NaN</td>\n",
       "      <td>NaN</td>\n",
       "      <td>NaN</td>\n",
       "      <td>NaN</td>\n",
       "    </tr>\n",
       "    <tr>\n",
       "      <th>std</th>\n",
       "      <td>2244.016154</td>\n",
       "      <td>NaN</td>\n",
       "      <td>NaN</td>\n",
       "      <td>NaN</td>\n",
       "      <td>NaN</td>\n",
       "      <td>NaN</td>\n",
       "      <td>NaN</td>\n",
       "      <td>NaN</td>\n",
       "      <td>NaN</td>\n",
       "      <td>NaN</td>\n",
       "      <td>NaN</td>\n",
       "      <td>NaN</td>\n",
       "    </tr>\n",
       "    <tr>\n",
       "      <th>min</th>\n",
       "      <td>0.000000</td>\n",
       "      <td>NaN</td>\n",
       "      <td>NaN</td>\n",
       "      <td>NaN</td>\n",
       "      <td>NaN</td>\n",
       "      <td>NaN</td>\n",
       "      <td>NaN</td>\n",
       "      <td>NaN</td>\n",
       "      <td>NaN</td>\n",
       "      <td>NaN</td>\n",
       "      <td>NaN</td>\n",
       "      <td>NaN</td>\n",
       "    </tr>\n",
       "    <tr>\n",
       "      <th>25%</th>\n",
       "      <td>1943.000000</td>\n",
       "      <td>NaN</td>\n",
       "      <td>NaN</td>\n",
       "      <td>NaN</td>\n",
       "      <td>NaN</td>\n",
       "      <td>NaN</td>\n",
       "      <td>NaN</td>\n",
       "      <td>NaN</td>\n",
       "      <td>NaN</td>\n",
       "      <td>NaN</td>\n",
       "      <td>NaN</td>\n",
       "      <td>NaN</td>\n",
       "    </tr>\n",
       "    <tr>\n",
       "      <th>50%</th>\n",
       "      <td>3886.000000</td>\n",
       "      <td>NaN</td>\n",
       "      <td>NaN</td>\n",
       "      <td>NaN</td>\n",
       "      <td>NaN</td>\n",
       "      <td>NaN</td>\n",
       "      <td>NaN</td>\n",
       "      <td>NaN</td>\n",
       "      <td>NaN</td>\n",
       "      <td>NaN</td>\n",
       "      <td>NaN</td>\n",
       "      <td>NaN</td>\n",
       "    </tr>\n",
       "    <tr>\n",
       "      <th>75%</th>\n",
       "      <td>5829.000000</td>\n",
       "      <td>NaN</td>\n",
       "      <td>NaN</td>\n",
       "      <td>NaN</td>\n",
       "      <td>NaN</td>\n",
       "      <td>NaN</td>\n",
       "      <td>NaN</td>\n",
       "      <td>NaN</td>\n",
       "      <td>NaN</td>\n",
       "      <td>NaN</td>\n",
       "      <td>NaN</td>\n",
       "      <td>NaN</td>\n",
       "    </tr>\n",
       "    <tr>\n",
       "      <th>max</th>\n",
       "      <td>7772.000000</td>\n",
       "      <td>NaN</td>\n",
       "      <td>NaN</td>\n",
       "      <td>NaN</td>\n",
       "      <td>NaN</td>\n",
       "      <td>NaN</td>\n",
       "      <td>NaN</td>\n",
       "      <td>NaN</td>\n",
       "      <td>NaN</td>\n",
       "      <td>NaN</td>\n",
       "      <td>NaN</td>\n",
       "      <td>NaN</td>\n",
       "    </tr>\n",
       "  </tbody>\n",
       "</table>\n",
       "</div>"
      ],
      "text/plain": [
       "         Unnamed: 0 House Number      Street First Name Surname   Age  \\\n",
       "count   7773.000000         7773        7773       7773    7773  7773   \n",
       "unique          NaN          222         105        366     630   110   \n",
       "top             NaN            1  Wong Light      James   Smith    43   \n",
       "freq            NaN          301         701         36     225   146   \n",
       "mean    3886.000000          NaN         NaN        NaN     NaN   NaN   \n",
       "std     2244.016154          NaN         NaN        NaN     NaN   NaN   \n",
       "min        0.000000          NaN         NaN        NaN     NaN   NaN   \n",
       "25%     1943.000000          NaN         NaN        NaN     NaN   NaN   \n",
       "50%     3886.000000          NaN         NaN        NaN     NaN   NaN   \n",
       "75%     5829.000000          NaN         NaN        NaN     NaN   NaN   \n",
       "max     7772.000000          NaN         NaN        NaN     NaN   NaN   \n",
       "\n",
       "       Relationship to Head of House Marital Status  Gender Occupation  \\\n",
       "count                           7773           5960    7773       7773   \n",
       "unique                            21              9       9       1086   \n",
       "top                             Head         Single  Female    Student   \n",
       "freq                            2912           2660    3889       1477   \n",
       "mean                             NaN            NaN     NaN        NaN   \n",
       "std                              NaN            NaN     NaN        NaN   \n",
       "min                              NaN            NaN     NaN        NaN   \n",
       "25%                              NaN            NaN     NaN        NaN   \n",
       "50%                              NaN            NaN     NaN        NaN   \n",
       "75%                              NaN            NaN     NaN        NaN   \n",
       "max                              NaN            NaN     NaN        NaN   \n",
       "\n",
       "       Infirmity Religion  \n",
       "count       7773     5910  \n",
       "unique         8       14  \n",
       "top         None     None  \n",
       "freq        7721     2594  \n",
       "mean         NaN      NaN  \n",
       "std          NaN      NaN  \n",
       "min          NaN      NaN  \n",
       "25%          NaN      NaN  \n",
       "50%          NaN      NaN  \n",
       "75%          NaN      NaN  \n",
       "max          NaN      NaN  "
      ]
     },
     "execution_count": 578,
     "metadata": {},
     "output_type": "execute_result"
    }
   ],
   "source": [
    "census_data.describe(include='all')"
   ]
  },
  {
   "cell_type": "markdown",
   "metadata": {},
   "source": [
    "Observing the overall statistics computed from the .describe function, it is therefore confirmed that there are a handful of error data that are preventing the algorithms from evaluating preliminary analysis such as finding proper values for mean, standard deviation, percentile, etc. We will need to get closer to the data to find all possible issues.\n",
    "\n",
    "The .isnull(), .unique() and the .isspace() functions are used extensively to reveal problematic data column by column. Problematic data includes empty data, spaces and other irrelevant data such as NaN."
   ]
  },
  {
   "cell_type": "markdown",
   "metadata": {},
   "source": [
    " I did this by looping through the data to get:\n",
    " 1. isnull status of each column, \n",
    " 2. isspace status of each column, \n",
    " 3. unique values of each column values and\n",
    " 4. displayed the index of all problematic data.\n",
    "\n",
    "For the complete observation of data values and types."
   ]
  },
  {
   "cell_type": "code",
   "execution_count": 579,
   "metadata": {
    "scrolled": true
   },
   "outputs": [
    {
     "name": "stdout",
     "output_type": "stream",
     "text": [
      "1 .    House Number\n",
      "------------------------------------\n",
      "\n",
      "isNull and isEmpty data status is False\n",
      "\n",
      "isspace data status: False\n",
      "\n",
      "Problematic data indexes {}\n",
      "\n",
      "House Number unique data are: ['1', '10', '100', '101', '102', '103', '104', '105', '106', '107', '108', '109', '11', '110', '111', '112', '113', '114', '115', '116', '117', '118', '119', '12', '120', '121', '122', '123', '124', '125', '126', '127', '128', '129', '13', '130', '131', '132', '133', '134', '135', '136', '137', '138', '139', '14', '140', '141', '142', '143', '144', '145', '146', '147', '148', '149', '15', '150', '151', '152', '153', '154', '155', '156', '157', '158', '159', '16', '160', '161', '162', '163', '164', '165', '166', '167', '168', '169', '17', '170', '171', '172', '173', '174', '175', '176', '177', '178', '179', '18', '180', '181', '182', '183', '184', '185', '186', '187', '188', '189', '19', '190', '191', '192', '193', '194', '195', '196', '197', '198', '199', '2', '20', '200', '201', '202', '203', '204', '205', '206', '207', '208', '209', '21', '210', '211', '212', '213', '214', '215', '216', '217', '218', '219', '22', '220', '221', '23', '24', '25', '26', '27', '28', '29', '3', '30', '31', '32', '33', '34', '35', '36', '37', '38', '39', '4', '40', '41', '42', '43', '44', '45', '46', '47', '48', '49', '5', '50', '51', '52', '53', '54', '55', '56', '57', '58', '59', '6', '60', '61', '62', '63', '64', '65', '66', '67', '68', '69', '7', '70', '71', '72', '73', '74', '75', '76', '77', '78', '79', '8', '80', '81', '82', '83', '84', '85', '86', '87', '88', '89', '9', '90', '91', '92', '93', '94', '95', '96', '97', '98', '99', 'One']\n",
      "\n",
      "\n",
      "\n",
      "\n",
      "\n",
      "2 .    Street\n",
      "------------------------------------\n",
      "\n",
      "isNull and isEmpty data status is False\n",
      "\n",
      "isspace data status: False\n",
      "\n",
      "Problematic data indexes {}\n",
      "\n",
      "Street unique data are: ['Adams Cottage', 'Alba Granary', 'Aprildraw Avenue', 'Aquarius Lane', 'Baker Springs', 'Barbican Prairie', 'Beechpush Lane', 'Briggs Avenue', 'Brown Obervatory', 'Butcher Burgs', 'Cancer Palace', 'Cardifflake Lane', 'Chapman Landing', 'Chester Street', 'Cooke Avenue', 'Copper Loaf', 'Coronation Rocks', 'Cottingham Drive', 'Davies Orchard', 'Derbyrush Road', 'Dixon Longhouse', 'Donnelly Cliffs', 'Eagle Corners', 'Ebor Drive', 'Edwards Garden', 'Elephant Folly', 'Embassy Stream', 'Estuary Drive', 'Field Throughway', 'Fish Harbor', 'Fletcher Farmhouse', 'Forgotten Gardens', 'Forgottencrib Lane', 'Gold Street', 'Guardian Mews', 'Higgins Burgs', 'Honeysucklebank Avenue', 'Hope Commune', 'Hopevane Road', 'Hutchinson Longhouse', 'Iqbal Plaza', 'Iron Track', 'Jenkins Extensions', 'Jordan Haven', 'Joyce Mill', 'July Avenue', 'Kerr Avenue', 'Khan Valley', 'Kielder Avenue', 'Kraken Road', 'Laurel Road', 'Lee Villa', 'Lucas Groves', 'Mahogany Club', 'Manchester Flats', 'Manchestercharm Street', 'March Views', 'Matthews Rectory', 'Matthews River', 'Metropolis Alley', 'Monument Lodge', 'Murray Road', 'Newfound Creek', 'Newfound Drive', 'Newman Ridges', 'Nicholson Road', 'North Glens', 'Norwich Cliffs', 'Oaktree Pass', 'Oaktree Road', 'Paladin Avenue', 'Palmer Track', 'Palmtree Haven', 'Pillar Avenue', 'Plymouth Way', 'Portsmouthcurl Road', 'Pratt Via', 'Quayside Drive', 'Repton Lane', 'Roberts Unions', 'Robinson Avenue', 'Robinson Bridge', 'Romantraps Avenue', 'Scepter Lane', 'Scorpio Ville', 'Simpson Flats', 'Sinclair Passage', 'Singh Landing', 'Skylock Curve', 'Smith Manor', 'Springban Street', 'Stirling Avenue', 'Sullivan Ridges', 'Temple Rectory', 'Thames Street', 'Thomas Brook', 'Thompson Street', 'United Drive', 'Wade Manors', 'Wakefieldthorpe Street', 'Webster Street', 'Wilkins Street', 'William Citadel', 'Wolverhampton Avenue', 'Wong Light']\n",
      "\n",
      "\n",
      "\n",
      "\n",
      "\n",
      "3 .    First Name\n",
      "------------------------------------\n",
      "\n",
      "isNull and isEmpty data status is False\n",
      "\n",
      "isspace data status: True\n",
      "\n",
      "Problematic data indexes {'space_data_index': [267, 6421]}\n",
      "\n",
      "First Name unique data are: [' ', 'Aaron', 'Abbie', 'Abdul', 'Abigail', 'Adam', 'Adrian', 'Aimee', 'Alan', 'Albert', 'Alex', 'Alexander', 'Alexandra', 'Alice', 'Alison', 'Allan', 'Amanda', 'Amber', 'Amelia', 'Amy', 'Andrea', 'Andrew', 'Angela', 'Ann', 'Anna', 'Anne', 'Annette', 'Anthony', 'Antony', 'Arthur', 'Ashleigh', 'Ashley', 'Barbara', 'Barry', 'Ben', 'Benjamin', 'Bernard', 'Beth', 'Bethan', 'Bethany', 'Beverley', 'Billy', 'Bradley', 'Brandon', 'Brenda', 'Brett', 'Brian', 'Bruce', 'Bryan', 'Callum', 'Cameron', 'Carl', 'Carly', 'Carol', 'Carole', 'Caroline', 'Carolyn', 'Catherine', 'Charlene', 'Charles', 'Charlie', 'Charlotte', 'Chelsea', 'Cheryl', 'Chloe', 'Christian', 'Christine', 'Christopher', 'Claire', 'Clare', 'Clifford', 'Clive', 'Colin', 'Connor', 'Conor', 'Craig', 'Dale', 'Damian', 'Damien', 'Daniel', 'Danielle', 'Danny', 'Darren', 'David', 'Dawn', 'Dean', 'Deborah', 'Debra', 'Declan', 'Denis', 'Denise', 'Dennis', 'Derek', 'Diana', 'Diane', 'Dominic', 'Donald', 'Donna', 'Dorothy', 'Douglas', 'Duncan', 'Dylan', 'Edward', 'Eileen', 'Elaine', 'Eleanor', 'Elizabeth', 'Ellie', 'Elliot', 'Elliott', 'Emily', 'Emma', 'Eric', 'Fiona', 'Frances', 'Francesca', 'Francis', 'Frank', 'Frederick', 'Gail', 'Gareth', 'Garry', 'Gary', 'Gavin', 'Gemma', 'Geoffrey', 'George', 'Georgia', 'Georgina', 'Gerald', 'Geraldine', 'Gerard', 'Gillian', 'Glen', 'Glenn', 'Gordon', 'Grace', 'Graeme', 'Graham', 'Gregory', 'Guy', 'Hannah', 'Harriet', 'Harry', 'Hayley', 'Hazel', 'Heather', 'Helen', 'Henry', 'Hilary', 'Hollie', 'Holly', 'Howard', 'Hugh', 'Iain', 'Ian', 'Irene', 'Jack', 'Jacob', 'Jacqueline', 'Jade', 'Jake', 'James', 'Jamie', 'Jane', 'Janet', 'Janice', 'Jasmine', 'Jason', 'Jay', 'Jayne', 'Jean', 'Jeffrey', 'Jemma', 'Jenna', 'Jennifer', 'Jeremy', 'Jessica', 'Jill', 'Joan', 'Joanna', 'Joanne', 'Jodie', 'Joe', 'Joel', 'John', 'Jonathan', 'Jordan', 'Joseph', 'Josephine', 'Josh', 'Joshua', 'Joyce', 'Judith', 'Julia', 'Julian', 'Julie', 'June', 'Justin', 'Karen', 'Karl', 'Kate', 'Katherine', 'Kathleen', 'Kathryn', 'Katie', 'Katy', 'Kayleigh', 'Keith', 'Kelly', 'Kelly Marie', 'Kenneth', 'Kerry', 'Kevin', 'Kieran', 'Kim', 'Kimberley', 'Kirsty', 'Kyle', 'Laura', 'Lauren', 'Lawrence', 'Leah', 'Leanne', 'Lee', 'Leigh', 'Leon', 'Leonard', 'Lesley', 'Leslie', 'Lewis', 'Liam', 'Linda', 'Lindsey', 'Lisa', 'Lorraine', 'Louis', 'Louise', 'Lucy', 'Luke', 'Lydia', 'Lynda', 'Lynn', 'Lynne', 'Malcolm', 'Mandy', 'Marc', 'Marcus', 'Margaret', 'Maria', 'Marian', 'Marie', 'Marilyn', 'Marion', 'Mark', 'Martin', 'Martyn', 'Mary', 'Mathew', 'Matthew', 'Maureen', 'Maurice', 'Max', 'Megan', 'Melanie', 'Melissa', 'Michael', 'Michelle', 'Mitchell', 'Mohamed', 'Mohammad', 'Mohammed', 'Molly', 'Naomi', 'Natalie', 'Natasha', 'Nathan', 'Neil', 'Nicholas', 'Nicola', 'Nicole', 'Nigel', 'Norman', 'Oliver', 'Olivia', 'Owen', 'Paige', 'Pamela', 'Patricia', 'Patrick', 'Paul', 'Paula', 'Pauline', 'Peter', 'Philip', 'Phillip', 'Rachael', 'Rachel', 'Raymond', 'Rebecca', 'Reece', 'Rhys', 'Richard', 'Ricky', 'Rita', 'Robert', 'Robin', 'Roger', 'Ronald', 'Rosemary', 'Rosie', 'Ross', 'Roy', 'Russell', 'Ruth', 'Ryan', 'Sally', 'Sam', 'Samantha', 'Samuel', 'Sandra', 'Sara', 'Sarah', 'Scott', 'Sean', 'Shane', 'Shannon', 'Sharon', 'Shaun', 'Sheila', 'Shirley', 'Sian', 'Simon', 'Sophie', 'Stacey', 'Stanley', 'Stephanie', 'Stephen', 'Steven', 'Stewart', 'Stuart', 'Susan', 'Suzanne', 'Sylvia', 'Terence', 'Teresa', 'Terry', 'Thomas', 'Timothy', 'Tina', 'Toby', 'Tom', 'Tony', 'Tracey', 'Tracy', 'Trevor', 'Valerie', 'Vanessa', 'Victor', 'Victoria', 'Vincent', 'Wayne', 'Wendy', 'William', 'Yvonne', 'Zoe']\n",
      "\n",
      "\n",
      "\n",
      "\n",
      "\n",
      "4 .    Surname\n",
      "------------------------------------\n",
      "\n",
      "isNull and isEmpty data status is False\n",
      "\n",
      "isspace data status: False\n",
      "\n",
      "Problematic data indexes {}\n",
      "\n",
      "Surname unique data are: ['Abbott', 'Adams', 'Ahmed', 'Ahmed-Hall', 'Akhtar', 'Akhtar-Spencer', 'Alexander', 'Ali', 'Allan', 'Allen', 'Anderson', 'Andrews', 'Andrews-Powell', 'Archer', 'Armstrong', 'Arnold', 'Ashton', 'Atkins', 'Atkins-Chapman', 'Atkinson', 'Austin', 'Bailey', 'Bailey-Jones', 'Bailey-Willis', 'Baker', 'Baker-Walsh', 'Baldwin', 'Ball', 'Banks', 'Banks-Slater', 'Barber', 'Barker', 'Barlow', 'Barlow-Price', 'Barnes', 'Barnett', 'Barnett-Green', 'Barrett', 'Barry', 'Bartlett', 'Barton', 'Barton-Morley', 'Bates', 'Baxter', 'Baxter-McDonald', 'Begum', 'Begum-Phillips', 'Bell', 'Bell-Sharp', 'Bennett', 'Benson', 'Bentley', 'Berry', 'Bevan', 'Bibi', 'Birch', 'Bird', 'Bird-Short', 'Bishop', 'Black', 'Blackburn', 'Blake', 'Bolton', 'Bond', 'Booth', 'Bowen', 'Boyle', 'Bradley', 'Bradshaw', 'Brady', 'Bray', 'Brennan', 'Briggs', 'Brookes', 'Brooks', 'Brown', 'Brown-Bailey', 'Brown-Robinson', 'Browne', 'Bruce', 'Bruce-Rose', 'Bryan', 'Bryant', 'Buckley', 'Bull', 'Bull-Cooke', 'Burke', 'Burns', 'Burrows', 'Burton', 'Butcher', 'Butler', 'Byrne', 'Cameron', 'Campbell', 'Campbell-Morris', 'Carey', 'Carpenter', 'Carr', 'Carroll', 'Carter', 'Cartwright', 'Chadwick', 'Chamberlain', 'Chambers', 'Chan', 'Chandler', 'Chapman', 'Chapman-Davis', 'Charlton', 'Clark', 'Clark-Lee', 'Clarke', 'Clayton', 'Clements', 'Coates', 'Cole', 'Cole-Jones', 'Coleman', 'Coles', 'Collier', 'Collins', 'Connolly', 'Connor', 'Conway', 'Cook', 'Cooke', 'Cooper', 'Cooper-Berry', 'Cox', 'Craig', 'Crawford', 'Cross', 'Cunningham', 'Cunningham-Hammond', 'Curtis', 'Dale', 'Daly', 'Daniels', 'Davey', 'Davidson', 'Davies', 'Davies-Green', 'Davies-Townsend', 'Davis', 'Davis-Patel', 'Davison', 'Dawson', 'Dawson-Bailey', 'Day', 'Dean', 'Dennis', 'Dickinson', 'Dixon', 'Dobson', 'Dodd', 'Doherty', 'Donnelly', 'Douglas', 'Doyle', 'Duffy', 'Duncan', 'Dunn', 'Dyer', 'Edwards', 'Elliott', 'Ellis', 'Ellis-King', 'Evans', 'Evans-White', 'Farmer', 'Farrell', 'Faulkner', 'Ferguson', 'Field', 'Finch', 'Finch-Johnson', 'Finch-Taylor', 'Fisher', 'Fisher-Potter', 'Fitzgerald', 'Fleming', 'Fletcher', 'Fletcher-Cox', 'Fletcher-Watson', 'Flynn', 'Ford', 'Forster', 'Foster', 'Foster-Pickering', 'Foster-Watson', 'Fowler', 'Fox', 'Francis', 'Franklin', 'Fraser', 'Freeman', 'French', 'Frost', 'Fry', 'Fuller', 'Fuller-Richardson', 'Gallagher', 'Gardiner', 'Gardner', 'Garner', 'George', 'Gibbons', 'Gibbs', 'Gibson', 'Gilbert', 'Giles', 'Gill', 'Glover', 'Goddard', 'Godfrey', 'Goodwin', 'Gordon', 'Gordon-Walsh', 'Gough', 'Gough-Jones', 'Gould', 'Graham', 'Graham-Richardson', 'Grant', 'Gray', 'Gray-Pearce', 'Green', 'Green-Hartley', 'Green-Jones', 'Greenwood', 'Gregory', 'Griffin', 'Griffiths', 'Hall', 'Hall-Kelly', 'Hall-Murphy', 'Hall-Taylor', 'Hamilton', 'Hammond', 'Hancock', 'Hanson', 'Harding', 'Hardy', 'Hargreaves', 'Harper', 'Harris', 'Harris-Lowe', 'Harrison', 'Harrison-McLean', 'Hart', 'Hartley', 'Harvey', 'Harvey-Vaughan', 'Hawkins', 'Hayes', 'Haynes', 'Hayward', 'Heath', 'Henderson', 'Henry', 'Herbert', 'Hewitt', 'Hicks', 'Higgins', 'Hill', 'Hilton', 'Hobbs', 'Hodgson', 'Holden', 'Holland', 'Holland-Pearce', 'Holland-Walsh', 'Holloway', 'Holmes', 'Holt', 'Hooper', 'Hope', 'Hopkins', 'Hopkins-Holt', 'Horton', 'Houghton', 'Howard', 'Howarth', 'Howe', 'Howell', 'Howell-Talbot', 'Howells', 'Hudson', 'Hughes', 'Hughes-Charlton', 'Humphreys', 'Humphreys-Barrett', 'Humphries', 'Hunt', 'Hunt-Powell', 'Hunter', 'Hurst', 'Hussain', 'Hutchinson', 'Hyde', 'Ingram', 'Iqbal', 'Jackson', 'Jackson-Baker', 'Jackson-Davies', 'Jackson-Ryan', 'James', 'Jarvis', 'Jarvis-Douglas', 'Jarvis-Morgan', 'Jenkins', 'Jennings', 'Jennings-Patel', 'John', 'John-Williams', 'Johnson', 'Johnson-Taylor', 'Johnston', 'Jones', 'Jones-Lees', 'Jordan', 'Joyce', 'Kaur', 'Kay', 'Kelly', 'Kelly-Burrows', 'Kemp', 'Kennedy', 'Kent', 'Kerr', 'Khan', 'King', 'King-Robinson', 'Kirby', 'Kirk', 'Knight', 'Knowles', 'Lamb', 'Lambert', 'Lane', 'Law', 'Lawrence', 'Lawson', 'Leach', 'Lee', 'Lee-Bray', 'Lee-Howe', 'Lees', 'Leonard', 'Lewis', 'Lewis-Whittaker', 'Lewis-Wood', 'Little', 'Lloyd', 'Long', 'Lord', 'Lowe', 'Lucas', 'Lucas-Barrett', 'Lynch', 'Lyons', 'Lyons-Gallagher', 'Macdonald', 'Mahmood', 'Mann', 'Manning', 'Manning-Davies', 'Marsh', 'Marsh-Thomson', 'Marshall', 'Marshall-Hunter', 'Marshall-Perry', 'Martin', 'Mason', 'Mason-Woodward', 'Matthews', 'May', 'McCarthy', 'McDonald', 'McKenzie', 'McLean', 'Mellor', 'Metcalfe-Price', 'Miah', 'Miah-Lambert', 'Middleton', 'Miles', 'Miller', 'Mills', 'Mistry', 'Mistry-Begum', 'Mitchell', 'Moore', 'Moran', 'Morgan', 'Morris', 'Morris-Moore', 'Morrison', 'Morrison-Connolly', 'Morton', 'Moss', 'Moss-Houghton', 'Murphy', 'Murphy-Brown', 'Murray', 'Murray-Evans', 'Myers', 'Nash', 'Naylor', 'Nelson', 'Newman', 'Newton', 'Nicholls', 'Nicholson', 'Nixon', 'Noble', 'Nolan', 'Norris', 'North', 'North-Davison', 'Norton', \"O'Brien\", \"O'Connor\", \"O'Donnell\", \"O'Neill\", \"O'Sullivan\", 'Oliver', 'Osborne', 'Owen', 'Owen-Dixon', 'Owens', 'Page', 'Palmer', 'Parker', 'Parkes', 'Parkin', 'Parkin-Fitzgerald', 'Parkinson', 'Parry', 'Parsons', 'Parsons-May', 'Patel', 'Patel-Miles', 'Patterson', 'Payne', 'Peacock', 'Pearce', 'Pearson', 'Pearson-Robinson-Morgan', 'Perkins', 'Perkins-Harrison', 'Perry', 'Peters', 'Phillips', 'Pickering', 'Pollard', 'Poole', 'Poole-Collier', 'Poole-Smith', 'Pope', 'Porter', 'Potter', 'Potts', 'Powell', 'Power', 'Pratt', 'Preston', 'Price', 'Price-Davison', 'Pritchard', 'Pugh', 'Quinn', 'Rahman', 'Rahman-Chambers', 'Randall', 'Read', 'Reed', 'Rees', 'Reeves', 'Reid', 'Reynolds', 'Rhodes', 'Rice', 'Richards', 'Richardson', 'Riley', 'Roberts', 'Roberts-Perry', 'Robertson', 'Robinson', 'Robinson-Frost', 'Robinson-Morgan', 'Robson', 'Rogers', 'Rose', 'Ross', 'Rowe', 'Rowley', 'Russell', 'Ryan', 'Sanders', 'Sanderson', 'Saunders', 'Savage', 'Schofield', 'Scott', 'Scott-Baxter', 'Scott-Rogers', 'Shah', 'Shah-Wright', 'Sharp', 'Sharpe', 'Sharpe-Burke', 'Shaw', 'Shaw-Nelson', 'Shepherd', 'Sheppard', 'Short', 'Simmons', 'Simpson', 'Simpson-Holloway', 'Simpson-Knight', 'Sims', 'Sinclair', 'Singh', 'Skinner', 'Slater', 'Smart', 'Smith', 'Smith-Harrison', 'Smith-Rees', 'Spencer', 'Stanley', 'Steele', 'Stephens', 'Stephens-Smith', 'Stephenson', 'Stevens', 'Stevenson', 'Stewart', 'Stokes', 'Stokes-Campbell', 'Stokes-Hart', 'Stone', 'Storey', 'Sullivan', 'Summers', 'Summers-Taylor', 'Sutton', 'Sutton-Whitehouse', 'Swift', 'Sykes', 'Talbot', 'Taylor', 'Thomas', 'Thompson', 'Thompson-Bradshaw', 'Thompson-Gough-Jones', 'Thomson', 'Thomson-Foster', 'Thornton', 'Thorpe', 'Todd', 'Tomlinson', 'Townsend', 'Tucker', 'Turnbull', 'Turner', 'Turner-Thompson', 'Tyler', 'Vaughan', 'Vincent', 'Wade', 'Walker', 'Wall', 'Wallace', 'Wallis', 'Walsh', 'Walsh-Baker', 'Walsh-Lewis', 'Walters', 'Walton', 'Walton-Hughes', 'Ward', 'Ward-Bray', 'Ward-Hargreaves', 'Warner', 'Warner-Ali', 'Warren', 'Waters', 'Watkins', 'Watson', 'Watts', 'Webb', 'Webb-Davies', \"Webb-O'Sullivan\", 'Webster', 'Welch', 'Welch-Martin', 'Wells', 'West', 'Weston', 'Wheeler', 'White', 'White-Bradley', 'Whitehead', 'Whitehead-Lawson', 'Whitehouse', 'Whittaker', 'Wilkins', 'Wilkinson', 'Williams', 'Williams-Clark', 'Williams-Wilson-Cooper', 'Williamson', 'Williamson-Jones', 'Willis', 'Wilson', 'Wilson-Cooper', 'Winter', 'Wong', 'Wood', 'Wood-Khan', 'Woods', 'Woodward', 'Wright', 'Wyatt', 'Yates', 'Young']\n",
      "\n",
      "\n",
      "\n",
      "\n",
      "\n",
      "5 .    Age\n",
      "------------------------------------\n",
      "\n",
      "isNull and isEmpty data status is False\n",
      "\n",
      "isspace data status: True\n",
      "\n",
      "Problematic data indexes {'space_data_index': [5998]}\n",
      "\n",
      "Age unique data are: [' ', '0', '1', '10', '101', '102', '103', '104', '105', '11', '12', '13', '14', '15', '16', '17', '18', '19', '2', '20', '21', '22', '23', '24', '25', '26', '27', '28', '29', '3', '30', '31', '32', '33', '34', '35', '36', '37', '38', '39', '4', '40', '41', '42', '43', '44', '45', '46', '47', '48', '49', '5', '50', '51', '52', '53', '54', '55', '56', '57', '58', '59', '6', '60', '61', '62', '63', '64', '65', '66', '67', '68', '69', '7', '7.11E-15', '70', '71', '72', '72.38784457', '73', '74', '74.38784457', '75', '76', '77', '77.57582061', '78', '79', '8', '80', '80.57582061', '81', '82', '83', '84', '85', '86', '87', '88', '89', '9', '90', '91', '92', '93', '94', '96', '97', '98', '99']\n",
      "\n",
      "\n",
      "\n",
      "\n",
      "\n",
      "6 .    Relationship to Head of House\n",
      "------------------------------------\n",
      "\n",
      "isNull and isEmpty data status is False\n",
      "\n",
      "isspace data status: True\n",
      "\n",
      "Problematic data indexes {'space_data_index': [2240]}\n",
      "\n",
      "Relationship to Head of House unique data are: [' ', 'Adopted Daughter', 'Adopted Granddaughter', 'Adopted Son', 'Cousin', 'Daughter', 'Granddaughter', 'Grandson', 'Head', 'Husband', 'Lodger', 'Neice', 'Nephew', 'None', 'Partner', 'Sibling', 'Son', 'Step-Daughter', 'Step-Son', 'Visitor', 'Wife']\n",
      "\n",
      "\n",
      "\n",
      "\n",
      "\n"
     ]
    },
    {
     "name": "stdout",
     "output_type": "stream",
     "text": [
      "7 .    Marital Status\n",
      "------------------------------------\n",
      "\n",
      "isNull and isEmpty data status is True\n",
      "\n",
      "isspace data status: True\n",
      "\n",
      "Problematic data indexes {'null_data_index': [2, 4, 7, 8, 9, 12, 22, 23, 25, 26, 27, 32, 33, 34, 41, 42, 43, 52, 53, 54, 70, 78, 79, 80, 81, 83, 84, 100, 101, 108, 109, 128, 141, 144, 145, 146, 149, 151, 152, 156, 157, 159, 160, 161, 164, 165, 167, 172, 181, 182, 183, 184, 185, 200, 201, 202, 205, 206, 209, 210, 213, 214, 215, 217, 222, 231, 232, 237, 239, 240, 241, 245, 246, 247, 251, 252, 258, 262, 263, 271, 275, 282, 290, 291, 292, 300, 301, 302, 305, 312, 315, 316, 319, 323, 324, 330, 332, 333, 334, 337, 346, 355, 356, 357, 360, 361, 364, 365, 372, 376, 379, 380, 381, 384, 385, 398, 399, 400, 404, 406, 407, 408, 413, 416, 417, 424, 426, 427, 428, 433, 436, 438, 439, 440, 445, 448, 449, 460, 462, 463, 464, 465, 467, 468, 469, 470, 488, 499, 500, 505, 507, 508, 519, 541, 551, 552, 553, 554, 557, 559, 560, 562, 590, 595, 596, 598, 615, 619, 626, 627, 628, 631, 638, 645, 647, 657, 658, 667, 668, 669, 693, 696, 700, 712, 713, 717, 721, 727, 728, 730, 731, 732, 733, 734, 740, 741, 742, 743, 747, 749, 750, 758, 761, 774, 775, 778, 779, 780, 784, 785, 786, 789, 793, 794, 799, 800, 809, 810, 822, 823, 830, 834, 843, 846, 847, 848, 852, 855, 856, 864, 875, 915, 920, 940, 942, 968, 969, 996, 997, 999, 1024, 1026, 1045, 1048, 1049, 1050, 1056, 1057, 1067, 1070, 1081, 1082, 1087, 1088, 1091, 1106, 1115, 1124, 1127, 1128, 1132, 1133, 1138, 1139, 1140, 1144, 1146, 1147, 1150, 1158, 1163, 1166, 1167, 1168, 1169, 1170, 1174, 1176, 1177, 1187, 1214, 1217, 1232, 1233, 1236, 1253, 1265, 1266, 1268, 1271, 1272, 1273, 1276, 1277, 1278, 1282, 1292, 1295, 1304, 1309, 1310, 1311, 1314, 1330, 1338, 1342, 1348, 1349, 1350, 1351, 1352, 1358, 1359, 1360, 1364, 1367, 1368, 1369, 1371, 1372, 1377, 1385, 1386, 1406, 1414, 1424, 1425, 1426, 1429, 1436, 1444, 1446, 1454, 1467, 1498, 1499, 1505, 1526, 1553, 1554, 1557, 1560, 1566, 1595, 1596, 1603, 1606, 1611, 1612, 1619, 1620, 1627, 1628, 1634, 1635, 1640, 1646, 1653, 1657, 1673, 1674, 1685, 1690, 1695, 1696, 1697, 1699, 1705, 1711, 1715, 1716, 1720, 1723, 1725, 1726, 1727, 1731, 1732, 1736, 1737, 1741, 1742, 1745, 1746, 1748, 1749, 1750, 1755, 1758, 1764, 1765, 1769, 1772, 1773, 1774, 1777, 1779, 1780, 1781, 1782, 1783, 1789, 1798, 1799, 1801, 1802, 1803, 1808, 1811, 1812, 1816, 1823, 1824, 1826, 1827, 1828, 1837, 1838, 1842, 1843, 1850, 1856, 1862, 1875, 1884, 1887, 1888, 1897, 1898, 1904, 1907, 1908, 1909, 1913, 1916, 1917, 1920, 1921, 1927, 1939, 1946, 1947, 1953, 1955, 1959, 1965, 1968, 1970, 1971, 1979, 1982, 1990, 2006, 2024, 2026, 2027, 2029, 2030, 2031, 2032, 2035, 2036, 2054, 2058, 2060, 2073, 2074, 2079, 2080, 2081, 2083, 2086, 2088, 2094, 2104, 2105, 2116, 2120, 2121, 2126, 2127, 2128, 2129, 2134, 2136, 2139, 2142, 2143, 2154, 2159, 2161, 2166, 2167, 2171, 2172, 2173, 2174, 2177, 2178, 2181, 2182, 2187, 2188, 2189, 2190, 2207, 2217, 2218, 2219, 2222, 2223, 2228, 2242, 2243, 2246, 2247, 2248, 2257, 2258, 2266, 2273, 2288, 2289, 2304, 2314, 2315, 2324, 2351, 2352, 2354, 2355, 2356, 2365, 2376, 2383, 2384, 2385, 2386, 2387, 2388, 2395, 2409, 2410, 2411, 2414, 2415, 2416, 2423, 2434, 2435, 2436, 2447, 2453, 2454, 2455, 2463, 2464, 2465, 2467, 2468, 2469, 2470, 2478, 2479, 2480, 2481, 2484, 2485, 2486, 2489, 2490, 2491, 2492, 2493, 2502, 2503, 2504, 2505, 2506, 2510, 2511, 2512, 2513, 2517, 2518, 2519, 2520, 2531, 2532, 2547, 2551, 2552, 2564, 2565, 2566, 2569, 2570, 2571, 2581, 2596, 2619, 2622, 2623, 2624, 2627, 2628, 2633, 2634, 2635, 2636, 2637, 2644, 2645, 2652, 2653, 2654, 2658, 2659, 2660, 2661, 2662, 2663, 2664, 2668, 2669, 2670, 2673, 2677, 2678, 2680, 2681, 2682, 2686, 2692, 2693, 2694, 2695, 2696, 2709, 2716, 2719, 2726, 2727, 2728, 2733, 2736, 2739, 2740, 2747, 2755, 2776, 2780, 2781, 2784, 2785, 2791, 2792, 2795, 2796, 2801, 2827, 2845, 2852, 2853, 2854, 2855, 2856, 2859, 2860, 2861, 2863, 2864, 2865, 2866, 2867, 2874, 2876, 2880, 2886, 2889, 2890, 2891, 2892, 2893, 2901, 2902, 2910, 2913, 2914, 2915, 2918, 2919, 2920, 2921, 2922, 2936, 2944, 2958, 2959, 2960, 2968, 2971, 2972, 2980, 2981, 2982, 3001, 3002, 3003, 3004, 3014, 3015, 3026, 3027, 3033, 3034, 3035, 3036, 3053, 3054, 3057, 3063, 3064, 3065, 3070, 3073, 3074, 3075, 3076, 3077, 3078, 3085, 3086, 3087, 3103, 3104, 3105, 3106, 3107, 3115, 3119, 3120, 3130, 3145, 3154, 3160, 3161, 3162, 3172, 3178, 3179, 3180, 3183, 3184, 3189, 3192, 3195, 3198, 3202, 3207, 3209, 3210, 3213, 3218, 3229, 3230, 3241, 3243, 3244, 3257, 3262, 3264, 3265, 3266, 3269, 3274, 3282, 3287, 3290, 3291, 3294, 3296, 3297, 3298, 3299, 3305, 3308, 3316, 3318, 3319, 3328, 3331, 3338, 3342, 3345, 3353, 3362, 3373, 3376, 3378, 3379, 3397, 3398, 3399, 3400, 3402, 3403, 3414, 3422, 3430, 3431, 3432, 3433, 3438, 3439, 3440, 3449, 3450, 3451, 3454, 3460, 3461, 3475, 3480, 3485, 3495, 3498, 3504, 3505, 3507, 3508, 3514, 3519, 3520, 3532, 3535, 3540, 3545, 3550, 3555, 3556, 3562, 3565, 3566, 3568, 3569, 3575, 3590, 3591, 3596, 3597, 3601, 3602, 3610, 3611, 3612, 3618, 3636, 3637, 3645, 3651, 3654, 3657, 3658, 3659, 3668, 3670, 3671, 3675, 3681, 3682, 3683, 3684, 3692, 3695, 3699, 3703, 3704, 3711, 3720, 3725, 3730, 3733, 3734, 3742, 3749, 3750, 3751, 3752, 3755, 3756, 3760, 3763, 3767, 3768, 3771, 3782, 3792, 3799, 3805, 3806, 3809, 3820, 3821, 3831, 3843, 3844, 3858, 3868, 3869, 3879, 3882, 3883, 3894, 3897, 3906, 3918, 3957, 3958, 3964, 3974, 3980, 3983, 3984, 3986, 4001, 4015, 4022, 4023, 4025, 4026, 4030, 4037, 4038, 4039, 4040, 4041, 4042, 4043, 4044, 4051, 4052, 4053, 4057, 4058, 4059, 4060, 4067, 4068, 4076, 4077, 4078, 4079, 4084, 4111, 4112, 4113, 4114, 4115, 4122, 4123, 4124, 4132, 4135, 4136, 4138, 4139, 4140, 4143, 4144, 4146, 4154, 4158, 4159, 4162, 4163, 4168, 4174, 4175, 4176, 4187, 4188, 4189, 4191, 4195, 4196, 4197, 4200, 4201, 4206, 4208, 4209, 4210, 4216, 4218, 4219, 4220, 4221, 4227, 4231, 4232, 4233, 4237, 4241, 4250, 4251, 4260, 4261, 4262, 4265, 4275, 4276, 4277, 4278, 4282, 4285, 4286, 4290, 4293, 4294, 4295, 4305, 4306, 4309, 4310, 4311, 4312, 4317, 4318, 4319, 4324, 4325, 4334, 4335, 4338, 4339, 4340, 4343, 4348, 4354, 4370, 4375, 4379, 4391, 4392, 4398, 4399, 4402, 4404, 4405, 4406, 4415, 4419, 4420, 4421, 4424, 4430, 4433, 4436, 4437, 4442, 4444, 4445, 4446, 4447, 4456, 4457, 4458, 4464, 4465, 4466, 4468, 4471, 4475, 4477, 4499, 4501, 4502, 4510, 4526, 4529, 4539, 4543, 4546, 4556, 4557, 4563, 4577, 4586, 4587, 4590, 4610, 4611, 4614, 4622, 4623, 4642, 4643, 4656, 4665, 4671, 4677, 4680, 4690, 4693, 4697, 4705, 4718, 4719, 4720, 4727, 4730, 4743, 4746, 4749, 4758, 4764, 4767, 4768, 4769, 4771, 4772, 4775, 4777, 4781, 4783, 4784, 4785, 4786, 4789, 4790, 4793, 4796, 4801, 4802, 4806, 4807, 4812, 4818, 4829, 4830, 4835, 4837, 4839, 4844, 4846, 4847, 4848, 4849, 4868, 4869, 4873, 4874, 4875, 4877, 4891, 4895, 4899, 4900, 4912, 4916, 4923, 4924, 4925, 4927, 4928, 4931, 4934, 4937, 4938, 4939, 4946, 4949, 4950, 4954, 4956, 4957, 4964, 4973, 4976, 4979, 4982, 4987, 4988, 4989, 5000, 5001, 5004, 5005, 5006, 5009, 5010, 5014, 5020, 5022, 5023, 5024, 5025, 5029, 5032, 5035, 5037, 5039, 5040, 5055, 5058, 5062, 5065, 5081, 5102, 5103, 5107, 5112, 5120, 5122, 5132, 5135, 5148, 5150, 5151, 5173, 5174, 5177, 5182, 5190, 5192, 5195, 5196, 5197, 5199, 5214, 5225, 5230, 5232, 5247, 5270, 5271, 5272, 5279, 5280, 5288, 5289, 5291, 5292, 5293, 5296, 5297, 5300, 5301, 5302, 5304, 5311, 5315, 5318, 5323, 5326, 5327, 5328, 5329, 5333, 5338, 5340, 5341, 5342, 5363, 5369, 5375, 5379, 5382, 5387, 5391, 5414, 5444, 5450, 5456, 5460, 5471, 5474, 5477, 5490, 5491, 5504, 5505, 5506, 5510, 5511, 5512, 5519, 5521, 5523, 5528, 5529, 5530, 5533, 5542, 5543, 5544, 5550, 5556, 5557, 5558, 5559, 5565, 5573, 5576, 5584, 5591, 5593, 5598, 5600, 5608, 5614, 5615, 5616, 5621, 5633, 5647, 5648, 5652, 5655, 5662, 5663, 5671, 5674, 5675, 5679, 5682, 5683, 5685, 5686, 5687, 5688, 5701, 5704, 5705, 5706, 5707, 5712, 5722, 5723, 5737, 5739, 5746, 5747, 5750, 5770, 5773, 5777, 5779, 5780, 5792, 5801, 5802, 5818, 5820, 5836, 5838, 5841, 5846, 5849, 5853, 5862, 5863, 5867, 5879, 5883, 5884, 5887, 5889, 5895, 5917, 5923, 5927, 5928, 5929, 5936, 5939, 5940, 5943, 5944, 5945, 5949, 5952, 5953, 5954, 5964, 5965, 5966, 5969, 5978, 5979, 5981, 5982, 5983, 5984, 5986, 5991, 5992, 5995, 5996, 5998, 6002, 6003, 6004, 6005, 6013, 6014, 6023, 6024, 6031, 6035, 6038, 6040, 6041, 6042, 6044, 6045, 6046, 6052, 6053, 6054, 6068, 6079, 6080, 6081, 6094, 6097, 6098, 6099, 6112, 6119, 6120, 6126, 6127, 6131, 6150, 6151, 6152, 6154, 6155, 6156, 6157, 6158, 6160, 6161, 6162, 6165, 6166, 6174, 6176, 6177, 6178, 6179, 6180, 6188, 6189, 6205, 6208, 6213, 6214, 6215, 6221, 6226, 6237, 6239, 6246, 6247, 6254, 6255, 6256, 6259, 6260, 6261, 6277, 6278, 6279, 6287, 6288, 6289, 6293, 6298, 6303, 6309, 6314, 6318, 6319, 6327, 6328, 6329, 6335, 6367, 6368, 6369, 6378, 6379, 6380, 6382, 6390, 6400, 6414, 6415, 6416, 6429, 6430, 6433, 6434, 6440, 6444, 6445, 6447, 6456, 6469, 6470, 6471, 6472, 6476, 6479, 6480, 6489, 6502, 6505, 6510, 6511, 6514, 6524, 6527, 6529, 6530, 6532, 6533, 6536, 6538, 6541, 6542, 6543, 6556, 6557, 6560, 6561, 6562, 6564, 6565, 6571, 6574, 6575, 6577, 6578, 6580, 6583, 6588, 6595, 6596, 6597, 6598, 6600, 6601, 6602, 6607, 6608, 6622, 6629, 6632, 6639, 6644, 6648, 6654, 6667, 6668, 6670, 6671, 6672, 6726, 6734, 6735, 6748, 6751, 6752, 6754, 6759, 6760, 6761, 6763, 6765, 6768, 6769, 6778, 6779, 6789, 6790, 6799, 6802, 6803, 6805, 6808, 6814, 6815, 6816, 6827, 6828, 6837, 6840, 6843, 6844, 6850, 6851, 6870, 6873, 6874, 6875, 6877, 6878, 6879, 6893, 6894, 6897, 6900, 6901, 6902, 6905, 6912, 6915, 6918, 6919, 6921, 6922, 6932, 6938, 6945, 6946, 6947, 6951, 6968, 6982, 6983, 6984, 6985, 6992, 7008, 7009, 7015, 7023, 7025, 7028, 7033, 7036, 7037, 7042, 7048, 7052, 7053, 7054, 7055, 7060, 7082, 7087, 7098, 7112, 7113, 7114, 7117, 7118, 7121, 7123, 7139, 7147, 7148, 7149, 7152, 7153, 7164, 7165, 7179, 7192, 7202, 7203, 7206, 7209, 7210, 7221, 7243, 7251, 7253, 7255, 7266, 7268, 7269, 7270, 7276, 7284, 7285, 7288, 7289, 7296, 7301, 7302, 7311, 7314, 7315, 7316, 7319, 7320, 7321, 7323, 7324, 7325, 7328, 7329, 7332, 7335, 7338, 7340, 7341, 7345, 7348, 7353, 7358, 7364, 7373, 7374, 7386, 7391, 7395, 7398, 7406, 7407, 7416, 7417, 7447, 7449, 7451, 7457, 7458, 7465, 7467, 7470, 7479, 7502, 7503, 7506, 7507, 7508, 7511, 7512, 7515, 7516, 7531, 7534, 7537, 7546, 7549, 7552, 7553, 7557, 7563, 7566, 7578, 7581, 7605, 7611, 7612, 7618, 7624, 7627, 7631, 7633, 7634, 7639, 7640, 7647, 7648, 7653, 7654, 7657, 7659, 7660, 7661, 7663, 7664, 7665, 7668, 7669, 7672, 7675, 7676, 7677, 7683, 7687, 7693, 7703, 7704, 7705, 7706, 7710, 7711, 7716, 7717, 7718, 7721, 7722, 7727, 7728, 7729, 7730, 7731, 7732, 7733, 7743, 7744, 7747, 7748, 7766, 7767, 7769], 'space_data_index': [819]}\n",
      "\n",
      "Marital Status unique data are: [' ', 'D', 'Divorced', 'M', 'Married', 'S', 'Single', 'W', 'Widowed', 'nan']\n",
      "\n",
      "\n",
      "\n",
      "\n",
      "\n",
      "8 .    Gender\n",
      "------------------------------------\n",
      "\n",
      "isNull and isEmpty data status is False\n",
      "\n",
      "isspace data status: True\n",
      "\n",
      "Problematic data indexes {'space_data_index': [5394]}\n",
      "\n",
      "Gender unique data are: [' ', 'F', 'Female', 'M', 'Male', 'f', 'female', 'm', 'male']\n",
      "\n",
      "\n",
      "\n",
      "\n",
      "\n",
      "9 .    Occupation\n",
      "------------------------------------\n",
      "\n",
      "isNull and isEmpty data status is False\n",
      "\n",
      "isspace data status: True\n",
      "\n",
      "Problematic data indexes {'space_data_index': [949]}\n",
      "\n",
      "Occupation unique data are: [' ', 'Academic librarian', 'Accommodation manager', 'Accountant, chartered', 'Accountant, chartered certified', 'Accountant, chartered management', 'Accountant, chartered public finance', 'Accounting technician', 'Actor', 'Actuary', 'Acupuncturist', 'Administrator', 'Administrator, Civil Service', 'Administrator, arts', 'Administrator, charities/voluntary organisations', 'Administrator, education', 'Administrator, local government', 'Administrator, sports', 'Adult guidance worker', 'Adult nurse', 'Advertising account executive', 'Advertising account planner', 'Advertising art director', 'Advertising copywriter', 'Advice worker', 'Aeronautical engineer', 'Agricultural consultant', 'Agricultural engineer', 'Aid worker', 'Air broker', 'Air cabin crew', 'Air traffic controller', 'Airline pilot', 'Ambulance person', 'Amenity horticulturist', 'Analytical chemist', 'Animal nutritionist', 'Animal technologist', 'Animator', 'Applications developer', 'Arboriculturist', 'Archaeologist', 'Architect', 'Architectural technologist', 'Archivist', 'Armed forces logistics/support/administrative officer', 'Armed forces operational officer', 'Armed forces technical officer', 'Armed forces training and education officer', 'Art gallery manager', 'Art therapist', 'Artist', 'Arts administrator', 'Arts development officer', 'Associate Professor', 'Astronomer', 'Audiological scientist', 'Automotive engineer', 'Banker', 'Barista', 'Barrister', \"Barrister's clerk\", 'Best boy', 'Biochemist, clinical', 'Biomedical engineer', 'Biomedical scientist', 'Bonds trader', 'Bookseller', 'Brewing technologist', 'Broadcast engineer', 'Broadcast journalist', 'Broadcast presenter', 'Building control surveyor', 'Building services engineer', 'Building surveyor', 'Buyer, industrial', 'Buyer, retail', 'Cabin crew', 'Call centre manager', 'Camera operator', 'Careers adviser', 'Careers information officer', 'Cartographer', 'Catering manager', 'Ceramics designer', 'Charity fundraiser', 'Charity officer', 'Chartered accountant', 'Chartered certified accountant', 'Chartered legal executive (England and Wales)', 'Chartered loss adjuster', 'Chartered management accountant', 'Chartered public finance accountant', 'Chemical engineer', 'Chemist, analytical', 'Chief Executive Officer', 'Chief Financial Officer', 'Chief Marketing Officer', 'Chief Operating Officer', 'Chief Strategy Officer', 'Chief Technology Officer', 'Chief of Staff', 'Child', 'Child psychotherapist', 'Chiropodist', 'Chiropractor', 'Civil Service administrator', 'Civil Service fast streamer', 'Civil engineer, consulting', 'Civil engineer, contracting', 'Claims inspector/assessor', 'Clinical biochemist', 'Clinical cytogeneticist', 'Clinical embryologist', 'Clinical molecular geneticist', 'Clinical psychologist', 'Clinical research associate', 'Clinical scientist, histocompatibility and immunogenetics', 'Clothing/textile technologist', 'Colour technologist', 'Commercial art gallery manager', 'Commercial horticulturist', 'Commercial/residential surveyor', 'Commissioning editor', 'Communications engineer', 'Community arts worker', 'Community development worker', 'Community education officer', 'Community pharmacist', 'Company secretary', 'Comptroller', 'Computer games developer', 'Conference centre manager', 'Conservation officer, historic buildings', 'Conservation officer, nature', 'Conservator, furniture', 'Conservator, museum/gallery', 'Consulting civil engineer', 'Contracting civil engineer', 'Contractor', 'Control and instrumentation engineer', 'Copy', 'Copywriter, advertising', 'Corporate investment banker', 'Corporate treasurer', 'Counselling psychologist', 'Counsellor', 'Curator', 'Customer service manager', 'Cytogeneticist', 'Dance movement psychotherapist', 'Dancer', 'Data processing manager', 'Data scientist', 'Database administrator', 'Dealer', 'Dentist', 'Designer, blown glass/stained glass', 'Designer, ceramics/pottery', 'Designer, exhibition/display', 'Designer, fashion/clothing', 'Designer, furniture', 'Designer, graphic', 'Designer, industrial/product', 'Designer, interior/spatial', 'Designer, jewellery', 'Designer, multimedia', 'Designer, television/film set', 'Designer, textile', 'Development worker, community', 'Development worker, international aid', 'Diagnostic radiographer', 'Dietitian', 'Diplomatic Services operational officer', 'Dispensing optician', 'Doctor, general practice', 'Doctor, hospital', 'Dramatherapist', 'Drilling engineer', 'Early years teacher', 'Ecologist', 'Economist', 'Editor, commissioning', 'Editor, film/video', 'Editor, magazine features', 'Editorial assistant', 'Education administrator', 'Education officer, community', 'Education officer, environmental', 'Education officer, museum', 'Educational psychologist', 'Electrical engineer', 'Electronics engineer', 'Embryologist, clinical', 'Emergency planning/management officer', 'Energy engineer', 'Energy manager', 'Engineer, aeronautical', 'Engineer, agricultural', 'Engineer, automotive', 'Engineer, biomedical', 'Engineer, broadcasting (operations)', 'Engineer, building services', 'Engineer, chemical', 'Engineer, civil (consulting)', 'Engineer, civil (contracting)', 'Engineer, communications', 'Engineer, control and instrumentation', 'Engineer, drilling', 'Engineer, electrical', 'Engineer, electronics', 'Engineer, energy', 'Engineer, land', 'Engineer, maintenance', 'Engineer, maintenance (IT)', 'Engineer, manufacturing', 'Engineer, manufacturing systems', 'Engineer, materials', 'Engineer, mining', 'Engineer, petroleum', 'Engineer, production', 'Engineer, site', 'Engineer, structural', 'Engineer, technical sales', 'Engineer, water', 'Engineering geologist', 'English as a foreign language teacher', 'English as a second language teacher', 'Environmental consultant', 'Environmental education officer', 'Environmental health practitioner', 'Environmental manager', 'Equality and diversity officer', 'Equities trader', 'Ergonomist', 'Estate agent', 'Estate manager/land agent', 'Event organiser', 'Exercise physiologist', 'Exhibition designer', 'Exhibitions officer, museum/gallery', 'Facilities manager', 'Farm manager', 'Fashion designer', 'Fast food restaurant manager', 'Field seismologist', 'Field trials officer', 'Film/video editor', 'Financial adviser', 'Financial controller', 'Financial manager', 'Financial planner', 'Financial risk analyst', 'Financial trader', 'Fine artist', 'Firefighter', 'Fish farm manager', 'Fisheries officer', 'Fitness centre manager', 'Food technologist', 'Forensic psychologist', 'Forensic scientist', 'Forest/woodland manager', 'Freight forwarder', 'Furniture conservator/restorer', 'Furniture designer', 'Further education lecturer', 'Futures trader', 'Gaffer', 'Games developer', 'Garment/textile technologist', 'General practice doctor', 'Geneticist, molecular', 'Geochemist', 'Geographical information systems officer', 'Geologist, engineering', 'Geologist, wellsite', 'Geophysical data processor', 'Geophysicist/field seismologist', 'Geoscientist', 'Glass blower/designer', 'Government social research officer', 'Graphic designer', 'Haematologist', 'Health and safety adviser', 'Health and safety inspector', 'Health physicist', 'Health promotion specialist', 'Health service manager', 'Health visitor', 'Herbalist', 'Heritage manager', 'Herpetologist', 'Higher education careers adviser', 'Higher education lecturer', 'Historic buildings inspector/conservation officer', 'Holiday representative', 'Homeopath', 'Horticultural therapist', 'Horticulturist, amenity', 'Horticulturist, commercial', 'Hospital doctor', 'Hospital pharmacist', 'Hotel manager', 'Housing manager/officer', 'Human resources officer', 'Hydrogeologist', 'Hydrographic surveyor', 'Hydrologist', 'IT consultant', 'IT sales professional', 'IT technical support officer', 'IT trainer', 'Illustrator', 'Immigration officer', 'Immunologist', 'Industrial buyer', 'Industrial/product designer', 'Information officer', 'Information systems manager', 'Insurance account manager', 'Insurance broker', 'Insurance claims handler', 'Insurance risk surveyor', 'Insurance underwriter', 'Intelligence analyst', 'Interior and spatial designer', 'International aid/development worker', 'Interpreter', 'Investment analyst', 'Investment banker, corporate', 'Investment banker, operational', 'Jewellery designer', 'Journalist, broadcasting', 'Journalist, magazine', 'Journalist, newspaper', 'Land', 'Land/geomatics surveyor', 'Landscape architect', 'Lawyer', 'Learning disability nurse', 'Learning mentor', 'Lecturer, further education', 'Lecturer, higher education', 'Legal executive', 'Legal secretary', 'Leisure centre manager', 'Lexicographer', 'Librarian, academic', 'Librarian, public', 'Licensed conveyancer', 'Lighting technician, broadcasting/film/video', 'Lobbyist', 'Local government officer', 'Location manager', 'Logistics and distribution manager', 'Loss adjuster, chartered', 'Magazine features editor', 'Magazine journalist', 'Maintenance engineer', 'Make', 'Management consultant', 'Manufacturing engineer', 'Manufacturing systems engineer', 'Marine scientist', 'Market researcher', 'Marketing executive', 'Materials engineer', 'Mechanical engineer', 'Media buyer', 'Media planner', 'Medical illustrator', 'Medical laboratory scientific officer', 'Medical physicist', 'Medical sales representative', 'Medical secretary', 'Medical technical officer', 'Mental health nurse', 'Merchandiser, retail', 'Merchant navy officer', 'Metallurgist', 'Meteorologist', 'Microbiologist', 'Midwife', 'Minerals surveyor', 'Mining engineer', 'Mudlogger', 'Multimedia programmer', 'Multimedia specialist', 'Museum education officer', 'Museum/gallery conservator', 'Museum/gallery curator', 'Museum/gallery exhibitions officer', 'Music therapist', 'Music tutor', 'Musician', 'Nature conservation officer', 'Naval architect', 'Network engineer', 'Neurosurgeon', 'Newspaper journalist', 'Nurse, adult', \"Nurse, children's\", 'Nurse, learning disability', 'Nurse, mental health', 'Nutritional therapist', 'Occupational hygienist', 'Occupational psychologist', 'Occupational therapist', 'Oceanographer', 'Office manager', 'Oncologist', 'Operational investment banker', 'Operational researcher', 'Operations geologist', 'Ophthalmologist', 'Optician, dispensing', 'Optometrist', 'Orthoptist', 'Osteopath', 'Outdoor activities/education manager', 'Paediatric nurse', 'Paramedic', 'Passenger transport manager', 'Patent attorney', 'Patent examiner', 'Pathologist', 'Pension scheme manager', 'Pensions consultant', 'Personal assistant', 'Personnel officer', 'Petroleum engineer', 'PhD Student', 'Pharmacist, community', 'Pharmacist, hospital', 'Pharmacologist', 'Photographer', 'Physicist, medical', 'Physiological scientist', 'Physiotherapist', 'Phytotherapist', 'Pilot, airline', 'Planning and development surveyor', 'Plant breeder/geneticist', 'Podiatrist', 'Police officer', \"Politician's assistant\", 'Presenter, broadcasting', 'Press photographer', 'Press sub', 'Primary school teacher', 'Print production planner', 'Printmaker', 'Prison officer', 'Private music teacher', 'Probation officer', 'Producer, radio', 'Producer, television/film/video', 'Product designer', 'Product manager', 'Product/process development scientist', 'Production assistant, radio', 'Production assistant, television', 'Production designer, theatre/television/film', 'Production engineer', 'Production manager', 'Professor Emeritus', 'Programme researcher, broadcasting/film/video', 'Programmer, applications', 'Programmer, multimedia', 'Programmer, systems', 'Proofreader', 'Psychiatric nurse', 'Psychiatrist', 'Psychologist, clinical', 'Psychologist, counselling', 'Psychologist, educational', 'Psychologist, forensic', 'Psychologist, occupational', 'Psychologist, prison and probation services', 'Psychologist, sport and exercise', 'Psychotherapist', 'Psychotherapist, child', 'Psychotherapist, dance movement', 'Public affairs consultant', 'Public house manager', 'Public librarian', 'Public relations account executive', 'Public relations officer', 'Publishing copy', 'Publishing rights manager', 'Purchasing manager', 'Quality manager', 'Quantity surveyor', 'Quarry manager', 'Race relations officer', 'Radiation protection practitioner', 'Radio broadcast assistant', 'Radio producer', 'Radiographer, diagnostic', 'Radiographer, therapeutic', 'Ranger/warden', 'Records manager', 'Recruitment consultant', 'Recycling officer', 'Regulatory affairs officer', 'Research officer, government', 'Research officer, political party', 'Research officer, trade union', 'Research scientist (life sciences)', 'Research scientist (maths)', 'Research scientist (medical)', 'Research scientist (physical sciences)', 'Restaurant manager', 'Restaurant manager, fast food', 'Retail banker', 'Retail buyer', 'Retail manager', 'Retail merchandiser', 'Retired Academic librarian', 'Retired Accommodation manager', 'Retired Accountant, chartered', 'Retired Accountant, chartered management', 'Retired Accountant, chartered public finance', 'Retired Actor', 'Retired Acupuncturist', 'Retired Administrator', 'Retired Administrator, Civil Service', 'Retired Administrator, charities/voluntary organisations', 'Retired Administrator, education', 'Retired Administrator, local government', 'Retired Administrator, sports', 'Retired Adult nurse', 'Retired Advertising account planner', 'Retired Advertising art director', 'Retired Advertising copywriter', 'Retired Advice worker', 'Retired Agricultural engineer', 'Retired Aid worker', 'Retired Air broker', 'Retired Air cabin crew', 'Retired Air traffic controller', 'Retired Airline pilot', 'Retired Ambulance person', 'Retired Amenity horticulturist', 'Retired Animator', 'Retired Applications developer', 'Retired Arboriculturist', 'Retired Architect', 'Retired Archivist', 'Retired Armed forces logistics/support/administrative officer', 'Retired Armed forces operational officer', 'Retired Armed forces technical officer', 'Retired Arts development officer', 'Retired Astronomer', 'Retired Audiological scientist', 'Retired Automotive engineer', 'Retired Banker', 'Retired Barrister', \"Retired Barrister's clerk\", 'Retired Best boy', 'Retired Biochemist, clinical', 'Retired Biomedical engineer', 'Retired Biomedical scientist', 'Retired Bookseller', 'Retired Brewing technologist', 'Retired Broadcast journalist', 'Retired Broadcast presenter', 'Retired Building control surveyor', 'Retired Building services engineer', 'Retired Buyer, industrial', 'Retired Buyer, retail', 'Retired Cabin crew', 'Retired Call centre manager', 'Retired Camera operator', 'Retired Ceramics designer', 'Retired Charity fundraiser', 'Retired Charity officer', 'Retired Chartered public finance accountant', 'Retired Chief Executive Officer', 'Retired Chief Marketing Officer', 'Retired Chief Operating Officer', 'Retired Chief Strategy Officer', 'Retired Chief Technology Officer', 'Retired Chief of Staff', 'Retired Chiropodist', 'Retired Civil Service administrator', 'Retired Civil Service fast streamer', 'Retired Civil engineer, consulting', 'Retired Civil engineer, contracting', 'Retired Claims inspector/assessor', 'Retired Clinical cytogeneticist', 'Retired Clinical embryologist', 'Retired Clinical psychologist', 'Retired Clothing/textile technologist', 'Retired Commercial horticulturist', 'Retired Commissioning editor', 'Retired Communications engineer', 'Retired Community development worker', 'Retired Community education officer', 'Retired Community pharmacist', 'Retired Company secretary', 'Retired Computer games developer', 'Retired Conservation officer, historic buildings', 'Retired Conservation officer, nature', 'Retired Conservator, museum/gallery', 'Retired Consulting civil engineer', 'Retired Contracting civil engineer', 'Retired Contractor', 'Retired Control and instrumentation engineer', 'Retired Copy', 'Retired Copywriter, advertising', 'Retired Corporate investment banker', 'Retired Counsellor', 'Retired Curator', 'Retired Cytogeneticist', 'Retired Dance movement psychotherapist', 'Retired Data processing manager', 'Retired Data scientist', 'Retired Database administrator', 'Retired Dentist', 'Retired Designer, exhibition/display', 'Retired Designer, fashion/clothing', 'Retired Designer, furniture', 'Retired Designer, interior/spatial', 'Retired Designer, multimedia', 'Retired Designer, television/film set', 'Retired Designer, textile', 'Retired Development worker, community', 'Retired Development worker, international aid', 'Retired Diagnostic radiographer', 'Retired Diplomatic Services operational officer', 'Retired Dispensing optician', 'Retired Doctor, general practice', 'Retired Dramatherapist', 'Retired Drilling engineer', 'Retired Early years teacher', 'Retired Ecologist', 'Retired Economist', 'Retired Editor, commissioning', 'Retired Editor, film/video', 'Retired Editor, magazine features', 'Retired Editorial assistant', 'Retired Education administrator', 'Retired Education officer, community', 'Retired Education officer, environmental', 'Retired Education officer, museum', 'Retired Educational psychologist', 'Retired Electrical engineer', 'Retired Embryologist, clinical', 'Retired Emergency planning/management officer', 'Retired Engineer, agricultural', 'Retired Engineer, broadcasting (operations)', 'Retired Engineer, building services', 'Retired Engineer, chemical', 'Retired Engineer, communications', 'Retired Engineer, electrical', 'Retired Engineer, electronics', 'Retired Engineer, land', 'Retired Engineer, manufacturing', 'Retired Engineer, manufacturing systems', 'Retired Engineer, materials', 'Retired Engineer, mining', 'Retired Engineer, production', 'Retired Engineer, site', 'Retired Engineer, water', 'Retired English as a foreign language teacher', 'Retired Environmental consultant', 'Retired Environmental education officer', 'Retired Equality and diversity officer', 'Retired Equities trader', 'Retired Ergonomist', 'Retired Estate agent', 'Retired Estate manager/land agent', 'Retired Event organiser', 'Retired Exercise physiologist', 'Retired Exhibition designer', 'Retired Exhibitions officer, museum/gallery', 'Retired Facilities manager', 'Retired Farm manager', 'Retired Fashion designer', 'Retired Fast food restaurant manager', 'Retired Field seismologist', 'Retired Film/video editor', 'Retired Financial adviser', 'Retired Financial controller', 'Retired Financial manager', 'Retired Financial planner', 'Retired Financial trader', 'Retired Firefighter', 'Retired Fish farm manager', 'Retired Fisheries officer', 'Retired Food technologist', 'Retired Forensic psychologist', 'Retired Forensic scientist', 'Retired Forest/woodland manager', 'Retired Freight forwarder', 'Retired Furniture designer', 'Retired Games developer', 'Retired Garment/textile technologist', 'Retired General practice doctor', 'Retired Geochemist', 'Retired Geographical information systems officer', 'Retired Geologist, engineering', 'Retired Geologist, wellsite', 'Retired Geophysical data processor', 'Retired Geophysicist/field seismologist', 'Retired Geoscientist', 'Retired Glass blower/designer', 'Retired Government social research officer', 'Retired Haematologist', 'Retired Health and safety adviser', 'Retired Health physicist', 'Retired Herbalist', 'Retired Heritage manager', 'Retired Herpetologist', 'Retired Historic buildings inspector/conservation officer', 'Retired Homeopath', 'Retired Horticultural therapist', 'Retired Horticulturist, amenity', 'Retired Horticulturist, commercial', 'Retired Hospital doctor', 'Retired Hospital pharmacist', 'Retired Hotel manager', 'Retired Housing manager/officer', 'Retired Human resources officer', 'Retired Hydrologist', 'Retired IT sales professional', 'Retired IT technical support officer', 'Retired IT trainer', 'Retired Illustrator', 'Retired Immigration officer', 'Retired Immunologist', 'Retired Industrial buyer', 'Retired Industrial/product designer', 'Retired Information officer', 'Retired Information systems manager', 'Retired Insurance account manager', 'Retired Insurance claims handler', 'Retired Insurance underwriter', 'Retired Intelligence analyst', 'Retired Interior and spatial designer', 'Retired International aid/development worker', 'Retired Investment analyst', 'Retired Investment banker, corporate', 'Retired Investment banker, operational', 'Retired Jewellery designer', 'Retired Journalist, broadcasting', 'Retired Journalist, magazine', 'Retired Land/geomatics surveyor', 'Retired Landscape architect', 'Retired Lawyer', 'Retired Learning disability nurse', 'Retired Learning mentor', 'Retired Legal executive', 'Retired Legal secretary', 'Retired Lexicographer', 'Retired Librarian, public', 'Retired Licensed conveyancer', 'Retired Lighting technician, broadcasting/film/video', 'Retired Lobbyist', 'Retired Local government officer', 'Retired Location manager', 'Retired Logistics and distribution manager', 'Retired Magazine features editor', 'Retired Magazine journalist', 'Retired Make', 'Retired Management consultant', 'Retired Manufacturing engineer', 'Retired Marine scientist', 'Retired Market researcher', 'Retired Marketing executive', 'Retired Mechanical engineer', 'Retired Media buyer', 'Retired Media planner', 'Retired Medical sales representative', 'Retired Medical secretary', 'Retired Medical technical officer', 'Retired Merchandiser, retail', 'Retired Metallurgist', 'Retired Meteorologist', 'Retired Microbiologist', 'Retired Midwife', 'Retired Minerals surveyor', 'Retired Mudlogger', 'Retired Museum education officer', 'Retired Museum/gallery conservator', 'Retired Museum/gallery curator', 'Retired Museum/gallery exhibitions officer', 'Retired Music therapist', 'Retired Music tutor', 'Retired Musician', 'Retired Naval architect', 'Retired Network engineer', 'Retired Neurosurgeon', 'Retired Newspaper journalist', 'Retired Nurse, adult', \"Retired Nurse, children's\", 'Retired Nurse, learning disability', 'Retired Nutritional therapist', 'Retired Occupational psychologist', 'Retired Occupational therapist', 'Retired Oceanographer', 'Retired Office manager', 'Retired Oncologist', 'Retired Operational investment banker', 'Retired Operational researcher', 'Retired Optician, dispensing', 'Retired Osteopath', 'Retired Paediatric nurse', 'Retired Paramedic', 'Retired Passenger transport manager', 'Retired Patent attorney', 'Retired Patent examiner', 'Retired Pension scheme manager', 'Retired Personal assistant', 'Retired Personnel officer', 'Retired Petroleum engineer', 'Retired Pharmacist, community', 'Retired Photographer', 'Retired Physicist, medical', 'Retired Physiological scientist', 'Retired Physiotherapist', 'Retired Planning and development surveyor', 'Retired Podiatrist', \"Retired Politician's assistant\", 'Retired Press sub', 'Retired Primary school teacher', 'Retired Print production planner', 'Retired Printmaker', 'Retired Private music teacher', 'Retired Probation officer', 'Retired Producer, radio', 'Retired Producer, television/film/video', 'Retired Product manager', 'Retired Production assistant, radio', 'Retired Production assistant, television', 'Retired Production engineer', 'Retired Programmer, applications', 'Retired Programmer, systems', 'Retired Proofreader', 'Retired Psychiatric nurse', 'Retired Psychiatrist', 'Retired Psychologist, clinical', 'Retired Psychologist, educational', 'Retired Psychologist, forensic', 'Retired Psychologist, prison and probation services', 'Retired Psychotherapist', 'Retired Psychotherapist, child', 'Retired Psychotherapist, dance movement', 'Retired Public affairs consultant', 'Retired Public librarian', 'Retired Public relations officer', 'Retired Publishing copy', 'Retired Publishing rights manager', 'Retired Quality manager', 'Retired Quarry manager', 'Retired Radiation protection practitioner', 'Retired Radio broadcast assistant', 'Retired Radio producer', 'Retired Radiographer, therapeutic', 'Retired Ranger/warden', 'Retired Records manager', 'Retired Recruitment consultant', 'Retired Recycling officer', 'Retired Research officer, government', 'Retired Research scientist (life sciences)', 'Retired Research scientist (maths)', 'Retired Restaurant manager', 'Retired Restaurant manager, fast food', 'Retired Retail banker', 'Retired Retail manager', 'Retired Retail merchandiser', 'Retired Rural practice surveyor', 'Retired Sales executive', 'Retired Sales promotion account executive', 'Retired Science writer', 'Retired Scientific laboratory technician', 'Retired Scientist, audiological', 'Retired Scientist, biomedical', 'Retired Scientist, clinical (histocompatibility and immunogenetics)', 'Retired Scientist, forensic', 'Retired Scientist, marine', 'Retired Scientist, research (life sciences)', 'Retired Scientist, research (maths)', 'Retired Scientist, research (physical sciences)', 'Retired Secretary/administrator', 'Retired Seismic interpreter', 'Retired Senior tax professional/tax inspector', 'Retired Set designer', 'Retired Site engineer', 'Retired Social research officer, government', 'Retired Social researcher', 'Retired Social worker', 'Retired Soil scientist', 'Retired Solicitor', 'Retired Solicitor, Scotland', 'Retired Special effects artist', 'Retired Speech and language therapist', 'Retired Sport and exercise psychologist', 'Retired Sports administrator', 'Retired Sports coach', 'Retired Sports development officer', 'Retired Sports therapist', 'Retired Statistician', 'Retired Structural engineer', 'Retired Sub', 'Retired Surgeon', 'Retired Surveyor, building', 'Retired Surveyor, building control', 'Retired Surveyor, commercial/residential', 'Retired Surveyor, insurance', 'Retired Surveyor, land/geomatics', 'Retired Surveyor, minerals', 'Retired Surveyor, mining', 'Retired Surveyor, planning and development', 'Retired Surveyor, quantity', 'Retired Systems analyst', 'Retired Systems developer', 'Retired TEFL teacher', 'Retired Tax adviser', 'Retired Tax inspector', 'Retired Teacher, English as a foreign language', 'Retired Teacher, adult education', 'Retired Teacher, early years/pre', 'Retired Teacher, music', 'Retired Teacher, secondary school', 'Retired Teacher, special educational needs', 'Retired Technical brewer', 'Retired Technical sales engineer', 'Retired Television camera operator', 'Retired Television floor manager', 'Retired Textile designer', 'Retired Theme park manager', 'Retired Therapeutic radiographer', 'Retired Therapist, drama', 'Retired Therapist, horticultural', 'Retired Therapist, music', 'Retired Therapist, nutritional', 'Retired Therapist, occupational', 'Retired Therapist, speech and language', 'Retired Therapist, sports', 'Retired Tour manager', 'Retired Tourism officer', 'Retired Tourist information centre manager', 'Retired Toxicologist', 'Retired Trade mark attorney', 'Retired Trading standards officer', 'Retired Training and development officer', 'Retired Translator', 'Retired Transport planner', 'Retired Veterinary surgeon', 'Retired Video editor', 'Retired Visual merchandiser', 'Retired Volunteer coordinator', 'Retired Warehouse manager', 'Retired Water engineer', 'Retired Web designer', 'Retired Wellsite geologist', 'Retired Writer', 'Retired Youth worker', 'Risk analyst', 'Risk manager', 'Runner, broadcasting/film/video', 'Rural practice surveyor', 'Sales executive', 'Sales professional, IT', 'Sales promotion account executive', 'Science writer', 'Scientific laboratory technician', 'Scientist, audiological', 'Scientist, biomedical', 'Scientist, clinical (histocompatibility and immunogenetics)', 'Scientist, forensic', 'Scientist, marine', 'Scientist, physiological', 'Scientist, product/process development', 'Scientist, research (life sciences)', 'Scientist, research (maths)', 'Scientist, research (medical)', 'Scientist, research (physical sciences)', 'Scientist, water quality', 'Secondary school teacher', 'Secretary, company', 'Secretary/administrator', 'Seismic interpreter', 'Senior tax professional/tax inspector', 'Set designer', 'Ship broker', 'Site engineer', 'Social research officer, government', 'Social researcher', 'Social worker', 'Software engineer', 'Soil scientist', 'Solicitor', 'Solicitor, Scotland', 'Sound technician, broadcasting/film/video', 'Special educational needs teacher', 'Special effects artist', 'Speech and language therapist', 'Sport and exercise psychologist', 'Sports administrator', 'Sports coach', 'Sports development officer', 'Sports therapist', 'Stage manager', 'Statistician', 'Structural engineer', 'Student', 'Sub', 'Surgeon', 'Surveyor, building', 'Surveyor, building control', 'Surveyor, commercial/residential', 'Surveyor, hydrographic', 'Surveyor, insurance', 'Surveyor, land/geomatics', 'Surveyor, minerals', 'Surveyor, mining', 'Surveyor, planning and development', 'Surveyor, quantity', 'Surveyor, rural practice', 'Systems analyst', 'Systems developer', 'TEFL teacher', 'Tax adviser', 'Tax inspector', 'Teacher, English as a foreign language', 'Teacher, adult education', 'Teacher, early years/pre', 'Teacher, music', 'Teacher, primary school', 'Teacher, secondary school', 'Teacher, special educational needs', 'Teaching laboratory technician', 'Technical author', 'Technical brewer', 'Technical sales engineer', 'Telecommunications researcher', 'Television camera operator', 'Television floor manager', 'Television production assistant', 'Television/film/video producer', 'Textile designer', 'Theatre director', 'Theatre manager', 'Theatre stage manager', 'Theme park manager', 'Therapeutic radiographer', 'Therapist, art', 'Therapist, drama', 'Therapist, horticultural', 'Therapist, music', 'Therapist, nutritional', 'Therapist, occupational', 'Therapist, speech and language', 'Therapist, sports', 'Tour manager', 'Tourism officer', 'Tourist information centre manager', 'Town planner', 'Toxicologist', 'Trade mark attorney', 'Trade union research officer', 'Trading standards officer', 'Training and development officer', 'Translator', 'Transport planner', 'Travel agency manager', 'Tree surgeon', 'Unemployed', 'University Student', 'Veterinary surgeon', 'Video editor', 'Visual merchandiser', 'Volunteer coordinator', 'Warden/ranger', 'Warehouse manager', 'Waste management officer', 'Water engineer', 'Water quality scientist', 'Web designer', 'Wellsite geologist', 'Writer', 'Youth worker']\n",
      "\n",
      "\n",
      "\n",
      "\n",
      "\n",
      "10 .    Infirmity\n",
      "------------------------------------\n",
      "\n",
      "isNull and isEmpty data status is False\n",
      "\n",
      "isspace data status: True\n",
      "\n",
      "Problematic data indexes {'space_data_index': [430, 509, 2012, 2818, 6208, 6642]}\n",
      "\n",
      "Infirmity unique data are: [' ', 'Blind', 'Deaf', 'Disabled', 'Mental Disability', 'None', 'Physical Disability', 'Unknown Infection']\n",
      "\n",
      "\n",
      "\n",
      "\n",
      "\n",
      "11 .    Religion\n",
      "------------------------------------\n",
      "\n",
      "isNull and isEmpty data status is True\n",
      "\n",
      "isspace data status: True\n",
      "\n"
     ]
    },
    {
     "name": "stdout",
     "output_type": "stream",
     "text": [
      "Problematic data indexes {'null_data_index': [2, 4, 7, 8, 9, 12, 22, 23, 25, 26, 27, 32, 33, 34, 41, 42, 43, 52, 53, 54, 70, 78, 79, 80, 81, 83, 84, 100, 101, 108, 109, 128, 141, 144, 145, 146, 149, 151, 152, 156, 157, 159, 160, 161, 164, 165, 167, 172, 181, 182, 183, 184, 185, 193, 200, 201, 202, 205, 206, 209, 210, 213, 214, 215, 217, 222, 231, 232, 237, 239, 240, 241, 245, 246, 247, 251, 252, 258, 262, 263, 271, 275, 282, 290, 291, 292, 300, 301, 302, 305, 312, 315, 316, 319, 323, 324, 330, 332, 333, 334, 337, 346, 355, 356, 357, 360, 361, 364, 365, 372, 376, 379, 380, 381, 384, 385, 398, 399, 400, 404, 406, 407, 408, 413, 416, 417, 424, 426, 427, 428, 433, 436, 438, 439, 440, 445, 448, 449, 460, 462, 463, 464, 465, 467, 468, 469, 470, 488, 499, 500, 505, 507, 508, 519, 541, 551, 552, 553, 554, 557, 559, 560, 562, 565, 590, 595, 596, 598, 615, 619, 626, 627, 628, 631, 638, 645, 647, 657, 658, 667, 668, 669, 693, 696, 700, 712, 713, 717, 721, 727, 728, 730, 731, 732, 733, 734, 740, 741, 742, 743, 747, 749, 750, 758, 761, 774, 775, 778, 779, 780, 784, 785, 786, 789, 793, 794, 799, 800, 809, 810, 822, 823, 830, 834, 843, 846, 847, 848, 852, 855, 856, 864, 875, 880, 881, 887, 888, 915, 920, 940, 942, 956, 968, 969, 996, 997, 999, 1024, 1026, 1045, 1048, 1049, 1050, 1056, 1057, 1067, 1070, 1074, 1081, 1082, 1087, 1088, 1091, 1101, 1102, 1106, 1115, 1124, 1127, 1128, 1132, 1133, 1138, 1139, 1140, 1144, 1146, 1147, 1150, 1158, 1163, 1166, 1167, 1168, 1169, 1170, 1174, 1176, 1177, 1187, 1214, 1217, 1223, 1232, 1233, 1236, 1253, 1265, 1266, 1268, 1271, 1272, 1273, 1276, 1277, 1278, 1282, 1292, 1295, 1304, 1309, 1310, 1311, 1314, 1330, 1338, 1342, 1348, 1349, 1350, 1351, 1352, 1358, 1359, 1360, 1364, 1367, 1368, 1369, 1371, 1372, 1377, 1385, 1386, 1406, 1414, 1424, 1425, 1426, 1429, 1436, 1444, 1446, 1454, 1467, 1498, 1499, 1505, 1526, 1553, 1554, 1557, 1560, 1566, 1595, 1596, 1603, 1606, 1611, 1612, 1619, 1620, 1627, 1628, 1634, 1635, 1640, 1646, 1653, 1657, 1673, 1674, 1685, 1690, 1692, 1695, 1696, 1697, 1699, 1705, 1711, 1715, 1716, 1720, 1723, 1725, 1726, 1727, 1731, 1732, 1736, 1737, 1741, 1742, 1745, 1746, 1748, 1749, 1750, 1755, 1758, 1764, 1765, 1769, 1772, 1773, 1774, 1777, 1779, 1780, 1781, 1782, 1783, 1789, 1798, 1799, 1801, 1802, 1803, 1808, 1811, 1812, 1816, 1823, 1824, 1826, 1827, 1828, 1837, 1838, 1842, 1843, 1850, 1856, 1862, 1875, 1884, 1887, 1888, 1897, 1898, 1904, 1907, 1908, 1909, 1913, 1916, 1917, 1920, 1921, 1927, 1939, 1946, 1947, 1953, 1955, 1959, 1965, 1968, 1970, 1971, 1979, 1982, 1990, 1995, 2006, 2024, 2026, 2027, 2029, 2030, 2031, 2032, 2033, 2035, 2036, 2054, 2058, 2060, 2073, 2074, 2079, 2080, 2081, 2083, 2086, 2088, 2094, 2104, 2105, 2116, 2120, 2121, 2126, 2127, 2128, 2129, 2134, 2136, 2139, 2142, 2143, 2154, 2159, 2161, 2166, 2167, 2171, 2172, 2173, 2174, 2177, 2178, 2181, 2182, 2187, 2188, 2189, 2190, 2191, 2207, 2217, 2218, 2219, 2222, 2223, 2228, 2242, 2243, 2246, 2247, 2248, 2257, 2258, 2266, 2273, 2288, 2289, 2304, 2314, 2315, 2324, 2351, 2352, 2354, 2355, 2356, 2365, 2376, 2383, 2384, 2385, 2386, 2387, 2388, 2395, 2409, 2410, 2411, 2414, 2415, 2416, 2423, 2434, 2435, 2436, 2447, 2453, 2454, 2455, 2463, 2464, 2465, 2467, 2468, 2469, 2470, 2478, 2479, 2480, 2481, 2484, 2485, 2486, 2489, 2490, 2491, 2492, 2493, 2502, 2503, 2504, 2505, 2506, 2510, 2511, 2512, 2513, 2517, 2518, 2519, 2520, 2531, 2532, 2547, 2551, 2552, 2564, 2565, 2566, 2569, 2570, 2571, 2581, 2596, 2619, 2622, 2623, 2624, 2627, 2628, 2633, 2634, 2635, 2636, 2637, 2644, 2645, 2652, 2653, 2654, 2658, 2659, 2660, 2661, 2662, 2663, 2664, 2668, 2669, 2670, 2673, 2677, 2678, 2680, 2681, 2682, 2686, 2692, 2693, 2694, 2695, 2696, 2709, 2716, 2719, 2726, 2727, 2728, 2733, 2736, 2739, 2740, 2747, 2748, 2749, 2755, 2765, 2776, 2780, 2781, 2784, 2785, 2791, 2792, 2795, 2796, 2801, 2827, 2830, 2845, 2852, 2853, 2854, 2855, 2856, 2859, 2860, 2861, 2863, 2864, 2865, 2866, 2867, 2874, 2876, 2880, 2886, 2889, 2890, 2891, 2892, 2893, 2901, 2902, 2910, 2913, 2914, 2915, 2918, 2919, 2920, 2921, 2922, 2936, 2944, 2958, 2959, 2960, 2968, 2971, 2972, 2977, 2980, 2981, 2982, 2985, 2987, 3001, 3002, 3003, 3004, 3014, 3015, 3026, 3027, 3033, 3034, 3035, 3036, 3053, 3054, 3057, 3063, 3064, 3065, 3070, 3073, 3074, 3075, 3076, 3077, 3078, 3085, 3086, 3087, 3103, 3104, 3105, 3106, 3107, 3115, 3119, 3120, 3130, 3145, 3154, 3160, 3161, 3162, 3172, 3178, 3179, 3180, 3183, 3184, 3189, 3192, 3195, 3198, 3202, 3207, 3209, 3210, 3213, 3218, 3229, 3230, 3241, 3243, 3244, 3249, 3257, 3262, 3264, 3265, 3266, 3269, 3274, 3282, 3287, 3290, 3291, 3294, 3296, 3297, 3298, 3299, 3305, 3308, 3316, 3318, 3319, 3328, 3331, 3338, 3342, 3345, 3353, 3362, 3373, 3376, 3378, 3379, 3380, 3397, 3398, 3399, 3400, 3402, 3403, 3414, 3422, 3430, 3431, 3432, 3433, 3438, 3439, 3440, 3449, 3450, 3451, 3454, 3460, 3461, 3475, 3480, 3485, 3495, 3498, 3504, 3505, 3507, 3508, 3514, 3519, 3520, 3532, 3535, 3540, 3545, 3550, 3555, 3556, 3562, 3565, 3566, 3568, 3569, 3575, 3590, 3591, 3596, 3597, 3601, 3602, 3610, 3611, 3612, 3618, 3636, 3637, 3645, 3651, 3654, 3657, 3658, 3659, 3668, 3670, 3671, 3675, 3681, 3682, 3683, 3684, 3692, 3695, 3699, 3703, 3704, 3711, 3720, 3725, 3730, 3733, 3734, 3742, 3749, 3750, 3751, 3752, 3755, 3756, 3760, 3763, 3767, 3768, 3771, 3782, 3792, 3799, 3805, 3806, 3809, 3820, 3821, 3831, 3843, 3844, 3858, 3868, 3869, 3879, 3882, 3883, 3894, 3897, 3906, 3908, 3918, 3957, 3958, 3964, 3974, 3980, 3983, 3984, 3986, 4001, 4015, 4022, 4023, 4025, 4026, 4030, 4037, 4038, 4039, 4040, 4041, 4042, 4043, 4044, 4051, 4052, 4053, 4057, 4058, 4059, 4060, 4067, 4068, 4076, 4077, 4078, 4079, 4084, 4111, 4112, 4113, 4114, 4115, 4117, 4122, 4123, 4124, 4132, 4135, 4136, 4138, 4139, 4140, 4143, 4144, 4146, 4154, 4158, 4159, 4162, 4163, 4168, 4174, 4175, 4176, 4187, 4188, 4189, 4191, 4195, 4196, 4197, 4200, 4201, 4206, 4208, 4209, 4210, 4216, 4218, 4219, 4220, 4221, 4227, 4231, 4232, 4233, 4237, 4241, 4250, 4251, 4260, 4261, 4262, 4265, 4275, 4276, 4277, 4278, 4282, 4285, 4286, 4290, 4293, 4294, 4295, 4305, 4306, 4309, 4310, 4311, 4312, 4317, 4318, 4319, 4324, 4325, 4334, 4335, 4338, 4339, 4340, 4343, 4348, 4354, 4370, 4375, 4379, 4391, 4392, 4398, 4399, 4402, 4404, 4405, 4406, 4415, 4419, 4420, 4421, 4424, 4430, 4433, 4436, 4437, 4442, 4444, 4445, 4446, 4447, 4456, 4457, 4458, 4464, 4465, 4466, 4468, 4471, 4475, 4477, 4499, 4501, 4502, 4510, 4526, 4529, 4539, 4543, 4546, 4556, 4557, 4563, 4577, 4586, 4587, 4590, 4610, 4611, 4614, 4622, 4623, 4638, 4639, 4642, 4643, 4656, 4665, 4671, 4677, 4680, 4690, 4693, 4697, 4705, 4718, 4719, 4720, 4727, 4730, 4743, 4746, 4749, 4758, 4761, 4764, 4767, 4768, 4769, 4771, 4772, 4775, 4777, 4781, 4783, 4784, 4785, 4786, 4789, 4790, 4793, 4796, 4801, 4802, 4806, 4807, 4812, 4818, 4829, 4830, 4835, 4837, 4839, 4844, 4846, 4847, 4848, 4849, 4868, 4869, 4873, 4874, 4875, 4877, 4891, 4895, 4899, 4900, 4912, 4916, 4923, 4924, 4925, 4927, 4928, 4931, 4934, 4937, 4938, 4939, 4946, 4949, 4950, 4954, 4956, 4957, 4964, 4965, 4973, 4976, 4979, 4982, 4987, 4988, 4989, 5000, 5001, 5004, 5005, 5006, 5009, 5010, 5014, 5020, 5022, 5023, 5024, 5025, 5029, 5032, 5035, 5037, 5039, 5040, 5051, 5055, 5058, 5062, 5065, 5081, 5102, 5103, 5107, 5112, 5120, 5122, 5132, 5135, 5148, 5150, 5151, 5173, 5174, 5177, 5182, 5190, 5192, 5195, 5196, 5197, 5199, 5214, 5225, 5230, 5232, 5247, 5270, 5271, 5272, 5279, 5280, 5288, 5289, 5291, 5292, 5293, 5296, 5297, 5300, 5301, 5302, 5304, 5305, 5311, 5315, 5318, 5323, 5326, 5327, 5328, 5329, 5333, 5338, 5340, 5341, 5342, 5363, 5369, 5375, 5379, 5382, 5387, 5391, 5414, 5444, 5450, 5456, 5458, 5460, 5471, 5474, 5477, 5490, 5491, 5504, 5505, 5506, 5510, 5511, 5512, 5519, 5521, 5523, 5528, 5529, 5530, 5533, 5542, 5543, 5544, 5550, 5556, 5557, 5558, 5559, 5565, 5573, 5576, 5584, 5591, 5593, 5598, 5600, 5607, 5608, 5614, 5615, 5616, 5621, 5633, 5647, 5648, 5649, 5650, 5652, 5655, 5662, 5663, 5671, 5674, 5675, 5679, 5682, 5683, 5685, 5686, 5687, 5688, 5701, 5704, 5705, 5706, 5707, 5712, 5722, 5723, 5737, 5739, 5746, 5747, 5750, 5770, 5773, 5777, 5779, 5780, 5792, 5801, 5802, 5818, 5820, 5836, 5838, 5841, 5846, 5849, 5853, 5862, 5863, 5867, 5879, 5883, 5884, 5887, 5889, 5895, 5917, 5923, 5927, 5928, 5929, 5936, 5939, 5940, 5943, 5944, 5945, 5949, 5952, 5953, 5954, 5964, 5965, 5966, 5969, 5978, 5979, 5981, 5982, 5983, 5984, 5986, 5991, 5992, 5995, 5996, 5998, 6002, 6003, 6004, 6005, 6013, 6014, 6023, 6024, 6031, 6035, 6038, 6040, 6041, 6042, 6044, 6045, 6046, 6052, 6053, 6054, 6065, 6068, 6079, 6080, 6081, 6094, 6097, 6098, 6099, 6112, 6119, 6120, 6126, 6127, 6131, 6150, 6151, 6152, 6154, 6155, 6156, 6157, 6158, 6160, 6161, 6162, 6165, 6166, 6174, 6176, 6177, 6178, 6179, 6180, 6188, 6189, 6205, 6208, 6213, 6214, 6215, 6221, 6226, 6237, 6239, 6246, 6247, 6254, 6255, 6256, 6259, 6260, 6261, 6277, 6278, 6279, 6287, 6288, 6289, 6293, 6298, 6303, 6309, 6314, 6318, 6319, 6327, 6328, 6329, 6335, 6367, 6368, 6369, 6378, 6379, 6380, 6382, 6390, 6400, 6414, 6415, 6416, 6419, 6429, 6430, 6433, 6434, 6440, 6444, 6445, 6447, 6456, 6469, 6470, 6471, 6472, 6476, 6479, 6480, 6489, 6502, 6505, 6510, 6511, 6514, 6524, 6527, 6529, 6530, 6532, 6533, 6536, 6538, 6541, 6542, 6543, 6556, 6557, 6560, 6561, 6562, 6564, 6565, 6571, 6574, 6575, 6577, 6578, 6580, 6583, 6588, 6595, 6596, 6597, 6598, 6600, 6601, 6602, 6607, 6608, 6622, 6629, 6632, 6639, 6644, 6648, 6654, 6664, 6667, 6668, 6670, 6671, 6672, 6709, 6720, 6721, 6726, 6734, 6735, 6748, 6751, 6752, 6754, 6759, 6760, 6761, 6763, 6765, 6768, 6769, 6778, 6779, 6789, 6790, 6799, 6802, 6803, 6805, 6808, 6814, 6815, 6816, 6822, 6827, 6828, 6831, 6837, 6840, 6843, 6844, 6850, 6851, 6870, 6873, 6874, 6875, 6877, 6878, 6879, 6893, 6894, 6897, 6900, 6901, 6905, 6912, 6915, 6918, 6919, 6921, 6922, 6932, 6938, 6945, 6946, 6947, 6951, 6968, 6982, 6983, 6984, 6985, 6992, 7008, 7009, 7015, 7023, 7025, 7028, 7033, 7036, 7037, 7042, 7048, 7052, 7053, 7054, 7055, 7057, 7060, 7082, 7087, 7098, 7100, 7105, 7112, 7113, 7114, 7117, 7118, 7121, 7123, 7139, 7147, 7148, 7149, 7152, 7153, 7164, 7165, 7179, 7192, 7202, 7203, 7206, 7209, 7210, 7216, 7221, 7226, 7243, 7251, 7253, 7255, 7266, 7268, 7269, 7270, 7276, 7284, 7285, 7288, 7289, 7296, 7301, 7302, 7311, 7314, 7315, 7316, 7319, 7320, 7321, 7323, 7324, 7325, 7328, 7329, 7332, 7335, 7338, 7340, 7341, 7345, 7348, 7353, 7358, 7364, 7373, 7374, 7386, 7391, 7395, 7398, 7406, 7407, 7416, 7417, 7447, 7449, 7451, 7457, 7458, 7463, 7465, 7467, 7470, 7479, 7502, 7503, 7506, 7507, 7508, 7511, 7512, 7515, 7516, 7531, 7534, 7537, 7546, 7549, 7552, 7553, 7557, 7563, 7566, 7578, 7581, 7605, 7611, 7612, 7618, 7624, 7627, 7631, 7633, 7634, 7639, 7640, 7647, 7648, 7653, 7654, 7657, 7659, 7660, 7661, 7663, 7664, 7665, 7668, 7669, 7672, 7675, 7676, 7677, 7683, 7687, 7693, 7703, 7704, 7705, 7706, 7710, 7711, 7716, 7717, 7718, 7721, 7722, 7727, 7728, 7729, 7730, 7731, 7732, 7733, 7743, 7744, 7747, 7748, 7752, 7766, 7767, 7769], 'space_data_index': [6389, 6902, 7260]}\n",
      "\n",
      "Religion unique data are: [' ', 'Bahai', 'Baptist', 'Buddist', 'Catholic', 'Christian', 'Jewish', 'Methodist', 'Muslim', 'None', 'Orthodoxy', 'Private', 'Sikh', 'Sith', 'nan']\n",
      "\n",
      "\n",
      "\n",
      "\n",
      "\n"
     ]
    }
   ],
   "source": [
    "import math\n",
    "\n",
    "column_serial_number = 1\n",
    "\n",
    "# Loop over columns:    \n",
    "for column in  census_data.columns:\n",
    "    \n",
    "    # preparing a placeholder for problematic data and their indices:\n",
    "    problematic_data_and_coordinates = {}\n",
    "    \n",
    "    # let us hope there is no space value in the current column\n",
    "    is_space_status_of_current_column = False\n",
    "    \n",
    "    # initialize the record index to identify the coordinates of the problematic data.\n",
    "    record_index = 0\n",
    "    \n",
    "    # looping through each values in the column to find problematic data.\n",
    "    for record_value in census_data[column]:\n",
    "        \n",
    "        old_problematic_data = []\n",
    "        # is there space value in column?\n",
    "        if str(record_value).isspace():\n",
    "            \n",
    "            # notify of each existence of problematic data:            \n",
    "            # Oh yes! Space data exists in the column!\n",
    "            is_space_status_of_current_column = True\n",
    "            \n",
    "            # retrieve already stored problematic data and append to it, but group problem by type\n",
    "            # (whitespace or empty):\n",
    "            \n",
    "            # Have we stored any space data previously? If we have, let's retrieve it\n",
    "            # and append new ones. We store only the record index as the coordinates.\n",
    "            # We can easily combine this with the column names to find (or even replace)\n",
    "            # the data anytime.\n",
    "            \n",
    "            if 'space_data_index' in problematic_data_and_coordinates:\n",
    "                old_problematic_data = problematic_data_and_coordinates['space_data_index']\n",
    "                old_problematic_data.append(record_index)\n",
    "                problematic_data_and_coordinates.update({'space_data_index': old_problematic_data})\n",
    "                \n",
    "            # If we haven't recorded any space data problem in the past, we begin:\n",
    "            else:\n",
    "                problematic_data_and_coordinates.update({'space_data_index': [record_index]})\n",
    "                \n",
    "        # if on the other hand, the data is not space but rather empty or irrelevant, \n",
    "        # change the problematic group name to null_data_index. \n",
    "        # Well, it might make sense that space isn't the same as empty!\n",
    "        if len(str(record_value)) < 1 or record_value == None or \\\n",
    "            (type(record_value) == float and math.isnan(record_value)):\n",
    "            if 'null_data_index' in problematic_data_and_coordinates:\n",
    "                old_problematic_data = problematic_data_and_coordinates['null_data_index']\n",
    "                old_problematic_data.append(record_index)\n",
    "                problematic_data_and_coordinates.update({'null_data_index': old_problematic_data})\n",
    "                \n",
    "            # If we haven't recorded any empty data problem in the past, we begin:\n",
    "            else:\n",
    "                problematic_data_and_coordinates.update({'null_data_index': [record_index]})\n",
    "                \n",
    "            \n",
    "        record_index += 1\n",
    "    \n",
    "    # Display! Display!! Display!!!\n",
    "    \n",
    "    # print the results in the current column except the irrelevant unnamed column.\n",
    "    if column == census_data.columns[0]:\n",
    "        continue\n",
    "    else:\n",
    "        # checking if current column contains empty values\n",
    "        print(column_serial_number, '.', '  ', column)\n",
    "        print('------------------------------------')\n",
    "        print()\n",
    "        print('isNull and isEmpty data status is', census_data[column].isnull().values.any())\n",
    "        print()\n",
    "        # display if there is/are space data in the current column\n",
    "        print('isspace data status:', is_space_status_of_current_column)\n",
    "        print()\n",
    "        # Coordinates of the problematic data in the current column\n",
    "        print('Problematic data indexes', problematic_data_and_coordinates)\n",
    "        print()\n",
    "        # Unique entries are sorted as string to make problematic data more visible\n",
    "        unique_values_array = census_data[column].unique()\n",
    "        unique_values_array = [str(i) for i in unique_values_array]\n",
    "        unique_values_array.sort()\n",
    "        print(column, 'unique data are:', unique_values_array)\n",
    "        print()\n",
    "        print()\n",
    "        print()\n",
    "        print()\n",
    "        print()\n",
    "    column_serial_number += 1"
   ]
  },
  {
   "cell_type": "markdown",
   "metadata": {},
   "source": [
    "A test to prove the results are correct for any selected column."
   ]
  },
  {
   "cell_type": "code",
   "execution_count": 580,
   "metadata": {},
   "outputs": [
    {
     "data": {
      "text/plain": [
       "[' ', ' ', ' ', ' ', ' ', ' ']"
      ]
     },
     "execution_count": 580,
     "metadata": {},
     "output_type": "execute_result"
    }
   ],
   "source": [
    "infirmity_problematic = [430, 509, 2012, 2818, 6208, 6642]\n",
    "vals = [census_data['Infirmity'][i] for i in infirmity_problematic]\n",
    "vals\n"
   ]
  },
  {
   "cell_type": "markdown",
   "metadata": {},
   "source": [
    "#### Inference on data entries, types and corrections procedures:\n",
    "From analytical observation of data, I inferred that:\n",
    "1. House Number variable has only one inconsistent issue by including a spelt 'One' value rather than using a figure. It's type is insignificant. I corrected this misplelling below."
   ]
  },
  {
   "cell_type": "code",
   "execution_count": 581,
   "metadata": {},
   "outputs": [
    {
     "name": "stdout",
     "output_type": "stream",
     "text": [
      "1\n"
     ]
    }
   ],
   "source": [
    "index = census_data[census_data['House Number'] == 'One'].index.values\n",
    "census_data.at[index[0], 'House Number'] = 1\n",
    "print(census_data['House Number'][index[0]])"
   ]
  },
  {
   "cell_type": "markdown",
   "metadata": {},
   "source": [
    "2. Street (name) variable is OK. It's type would be retained as string alongside variables as First Name, Surname, Relationship with house head, Marital Status, Gender, Occupation, Infirmity and Religion."
   ]
  },
  {
   "cell_type": "markdown",
   "metadata": {},
   "source": [
    "3. First Name variable has 2 missing values. It does not matter what was there. Therefore, replacing with reference names would be okay. I have replaced with letters unknown 1 and unknown 2 respectively."
   ]
  },
  {
   "cell_type": "code",
   "execution_count": 582,
   "metadata": {},
   "outputs": [
    {
     "data": {
      "text/html": [
       "<div>\n",
       "<style scoped>\n",
       "    .dataframe tbody tr th:only-of-type {\n",
       "        vertical-align: middle;\n",
       "    }\n",
       "\n",
       "    .dataframe tbody tr th {\n",
       "        vertical-align: top;\n",
       "    }\n",
       "\n",
       "    .dataframe thead th {\n",
       "        text-align: right;\n",
       "    }\n",
       "</style>\n",
       "<table border=\"1\" class=\"dataframe\">\n",
       "  <thead>\n",
       "    <tr style=\"text-align: right;\">\n",
       "      <th></th>\n",
       "      <th>Unnamed: 0</th>\n",
       "      <th>House Number</th>\n",
       "      <th>Street</th>\n",
       "      <th>First Name</th>\n",
       "      <th>Surname</th>\n",
       "      <th>Age</th>\n",
       "      <th>Relationship to Head of House</th>\n",
       "      <th>Marital Status</th>\n",
       "      <th>Gender</th>\n",
       "      <th>Occupation</th>\n",
       "      <th>Infirmity</th>\n",
       "      <th>Religion</th>\n",
       "    </tr>\n",
       "  </thead>\n",
       "  <tbody>\n",
       "    <tr>\n",
       "      <th>267</th>\n",
       "      <td>267</td>\n",
       "      <td>51</td>\n",
       "      <td>Fish Harbor</td>\n",
       "      <td></td>\n",
       "      <td>Armstrong</td>\n",
       "      <td>55</td>\n",
       "      <td>None</td>\n",
       "      <td>Single</td>\n",
       "      <td>Male</td>\n",
       "      <td>Unemployed</td>\n",
       "      <td>None</td>\n",
       "      <td>Catholic</td>\n",
       "    </tr>\n",
       "    <tr>\n",
       "      <th>6421</th>\n",
       "      <td>6421</td>\n",
       "      <td>19</td>\n",
       "      <td>Wilkins Street</td>\n",
       "      <td></td>\n",
       "      <td>Clarke</td>\n",
       "      <td>69</td>\n",
       "      <td>Head</td>\n",
       "      <td>Single</td>\n",
       "      <td>Male</td>\n",
       "      <td>Retired Community development worker</td>\n",
       "      <td>None</td>\n",
       "      <td>Christian</td>\n",
       "    </tr>\n",
       "  </tbody>\n",
       "</table>\n",
       "</div>"
      ],
      "text/plain": [
       "      Unnamed: 0 House Number          Street First Name    Surname Age  \\\n",
       "267          267           51     Fish Harbor             Armstrong  55   \n",
       "6421        6421           19  Wilkins Street                Clarke  69   \n",
       "\n",
       "     Relationship to Head of House Marital Status Gender  \\\n",
       "267                           None         Single   Male   \n",
       "6421                          Head         Single   Male   \n",
       "\n",
       "                                Occupation Infirmity   Religion  \n",
       "267                             Unemployed      None   Catholic  \n",
       "6421  Retired Community development worker      None  Christian  "
      ]
     },
     "execution_count": 582,
     "metadata": {},
     "output_type": "execute_result"
    }
   ],
   "source": [
    "census_data.loc[census_data['First Name'] == \\\n",
    "               census_data['First Name'][267]]"
   ]
  },
  {
   "cell_type": "markdown",
   "metadata": {},
   "source": [
    "However, comparing other variables such as surname, street name and house number show that there was no duplicate, only omission."
   ]
  },
  {
   "cell_type": "code",
   "execution_count": 583,
   "metadata": {},
   "outputs": [
    {
     "data": {
      "text/html": [
       "<div>\n",
       "<style scoped>\n",
       "    .dataframe tbody tr th:only-of-type {\n",
       "        vertical-align: middle;\n",
       "    }\n",
       "\n",
       "    .dataframe tbody tr th {\n",
       "        vertical-align: top;\n",
       "    }\n",
       "\n",
       "    .dataframe thead th {\n",
       "        text-align: right;\n",
       "    }\n",
       "</style>\n",
       "<table border=\"1\" class=\"dataframe\">\n",
       "  <thead>\n",
       "    <tr style=\"text-align: right;\">\n",
       "      <th></th>\n",
       "      <th>Unnamed: 0</th>\n",
       "      <th>House Number</th>\n",
       "      <th>Street</th>\n",
       "      <th>First Name</th>\n",
       "      <th>Surname</th>\n",
       "      <th>Age</th>\n",
       "      <th>Relationship to Head of House</th>\n",
       "      <th>Marital Status</th>\n",
       "      <th>Gender</th>\n",
       "      <th>Occupation</th>\n",
       "      <th>Infirmity</th>\n",
       "      <th>Religion</th>\n",
       "    </tr>\n",
       "  </thead>\n",
       "  <tbody>\n",
       "    <tr>\n",
       "      <th>267</th>\n",
       "      <td>267</td>\n",
       "      <td>51</td>\n",
       "      <td>Fish Harbor</td>\n",
       "      <td></td>\n",
       "      <td>Armstrong</td>\n",
       "      <td>55</td>\n",
       "      <td>None</td>\n",
       "      <td>Single</td>\n",
       "      <td>Male</td>\n",
       "      <td>Unemployed</td>\n",
       "      <td>None</td>\n",
       "      <td>Catholic</td>\n",
       "    </tr>\n",
       "  </tbody>\n",
       "</table>\n",
       "</div>"
      ],
      "text/plain": [
       "     Unnamed: 0 House Number       Street First Name    Surname Age  \\\n",
       "267         267           51  Fish Harbor             Armstrong  55   \n",
       "\n",
       "    Relationship to Head of House Marital Status Gender  Occupation Infirmity  \\\n",
       "267                          None         Single   Male  Unemployed      None   \n",
       "\n",
       "     Religion  \n",
       "267  Catholic  "
      ]
     },
     "execution_count": 583,
     "metadata": {},
     "output_type": "execute_result"
    }
   ],
   "source": [
    "census_data.loc[(census_data['Surname'] == census_data['Surname'][267]) & \\\n",
    "                (census_data['Street'] == census_data['Street'][267]) & \\\n",
    "                (census_data['House Number'] == census_data['House Number'][267])]"
   ]
  },
  {
   "cell_type": "code",
   "execution_count": 584,
   "metadata": {},
   "outputs": [
    {
     "data": {
      "text/html": [
       "<div>\n",
       "<style scoped>\n",
       "    .dataframe tbody tr th:only-of-type {\n",
       "        vertical-align: middle;\n",
       "    }\n",
       "\n",
       "    .dataframe tbody tr th {\n",
       "        vertical-align: top;\n",
       "    }\n",
       "\n",
       "    .dataframe thead th {\n",
       "        text-align: right;\n",
       "    }\n",
       "</style>\n",
       "<table border=\"1\" class=\"dataframe\">\n",
       "  <thead>\n",
       "    <tr style=\"text-align: right;\">\n",
       "      <th></th>\n",
       "      <th>Unnamed: 0</th>\n",
       "      <th>House Number</th>\n",
       "      <th>Street</th>\n",
       "      <th>First Name</th>\n",
       "      <th>Surname</th>\n",
       "      <th>Age</th>\n",
       "      <th>Relationship to Head of House</th>\n",
       "      <th>Marital Status</th>\n",
       "      <th>Gender</th>\n",
       "      <th>Occupation</th>\n",
       "      <th>Infirmity</th>\n",
       "      <th>Religion</th>\n",
       "    </tr>\n",
       "  </thead>\n",
       "  <tbody>\n",
       "    <tr>\n",
       "      <th>6421</th>\n",
       "      <td>6421</td>\n",
       "      <td>19</td>\n",
       "      <td>Wilkins Street</td>\n",
       "      <td></td>\n",
       "      <td>Clarke</td>\n",
       "      <td>69</td>\n",
       "      <td>Head</td>\n",
       "      <td>Single</td>\n",
       "      <td>Male</td>\n",
       "      <td>Retired Community development worker</td>\n",
       "      <td>None</td>\n",
       "      <td>Christian</td>\n",
       "    </tr>\n",
       "  </tbody>\n",
       "</table>\n",
       "</div>"
      ],
      "text/plain": [
       "      Unnamed: 0 House Number          Street First Name Surname Age  \\\n",
       "6421        6421           19  Wilkins Street             Clarke  69   \n",
       "\n",
       "     Relationship to Head of House Marital Status Gender  \\\n",
       "6421                          Head         Single   Male   \n",
       "\n",
       "                                Occupation Infirmity   Religion  \n",
       "6421  Retired Community development worker      None  Christian  "
      ]
     },
     "execution_count": 584,
     "metadata": {},
     "output_type": "execute_result"
    }
   ],
   "source": [
    "census_data.loc[(census_data['Surname'] == census_data['Surname'][6421]) & \\\n",
    "                (census_data['Street'] == census_data['Street'][6421]) & \\\n",
    "                (census_data['House Number'] == census_data['House Number'][6421])]"
   ]
  },
  {
   "cell_type": "code",
   "execution_count": 585,
   "metadata": {},
   "outputs": [
    {
     "name": "stdout",
     "output_type": "stream",
     "text": [
      "unknown unknown\n"
     ]
    }
   ],
   "source": [
    "First_Name_Problematic = [267, 6421]\n",
    "name1 = census_data['First Name'][First_Name_Problematic[0]]\n",
    "name2 = census_data['First Name'][First_Name_Problematic[1]]\n",
    "\n",
    "if name1.isspace() and name2.isspace():\n",
    "    census_data.at[First_Name_Problematic[0], 'First Name'] = 'unknown'\n",
    "    census_data.at[First_Name_Problematic[1], 'First Name'] = 'unknown'\n",
    "\n",
    "print(census_data['First Name'][First_Name_Problematic[0]], census_data['First Name'][First_Name_Problematic[1]])\n"
   ]
  },
  {
   "cell_type": "markdown",
   "metadata": {},
   "source": [
    "4. The surname variable is OK as is. No issue."
   ]
  },
  {
   "cell_type": "markdown",
   "metadata": {},
   "source": [
    "5. The Age and the Relationship with the house head variables have 1 missing values each. None is a value option for the Relationship variable. However, considering name, age, marital status, gender, occupation, infirmity variables, gave a better suggestion for the individual as shown below. The the case of the age, zero was used to identify unknown."
   ]
  },
  {
   "cell_type": "code",
   "execution_count": 586,
   "metadata": {},
   "outputs": [
    {
     "data": {
      "text/html": [
       "<div>\n",
       "<style scoped>\n",
       "    .dataframe tbody tr th:only-of-type {\n",
       "        vertical-align: middle;\n",
       "    }\n",
       "\n",
       "    .dataframe tbody tr th {\n",
       "        vertical-align: top;\n",
       "    }\n",
       "\n",
       "    .dataframe thead th {\n",
       "        text-align: right;\n",
       "    }\n",
       "</style>\n",
       "<table border=\"1\" class=\"dataframe\">\n",
       "  <thead>\n",
       "    <tr style=\"text-align: right;\">\n",
       "      <th></th>\n",
       "      <th>Unnamed: 0</th>\n",
       "      <th>House Number</th>\n",
       "      <th>Street</th>\n",
       "      <th>First Name</th>\n",
       "      <th>Surname</th>\n",
       "      <th>Age</th>\n",
       "      <th>Relationship to Head of House</th>\n",
       "      <th>Marital Status</th>\n",
       "      <th>Gender</th>\n",
       "      <th>Occupation</th>\n",
       "      <th>Infirmity</th>\n",
       "      <th>Religion</th>\n",
       "    </tr>\n",
       "  </thead>\n",
       "  <tbody>\n",
       "    <tr>\n",
       "      <th>5998</th>\n",
       "      <td>5998</td>\n",
       "      <td>40</td>\n",
       "      <td>Skylock Curve</td>\n",
       "      <td>Jodie</td>\n",
       "      <td>Clarke</td>\n",
       "      <td></td>\n",
       "      <td>Daughter</td>\n",
       "      <td>NaN</td>\n",
       "      <td>Female</td>\n",
       "      <td>Child</td>\n",
       "      <td>None</td>\n",
       "      <td>NaN</td>\n",
       "    </tr>\n",
       "  </tbody>\n",
       "</table>\n",
       "</div>"
      ],
      "text/plain": [
       "      Unnamed: 0 House Number         Street First Name Surname Age  \\\n",
       "5998        5998           40  Skylock Curve      Jodie  Clarke       \n",
       "\n",
       "     Relationship to Head of House Marital Status  Gender Occupation  \\\n",
       "5998                      Daughter            NaN  Female      Child   \n",
       "\n",
       "     Infirmity Religion  \n",
       "5998      None      NaN  "
      ]
     },
     "execution_count": 586,
     "metadata": {},
     "output_type": "execute_result"
    }
   ],
   "source": [
    "census_data.loc[census_data['Age'] == \\\n",
    "               census_data['Age'][5998]]"
   ]
  },
  {
   "cell_type": "code",
   "execution_count": null,
   "metadata": {},
   "outputs": [],
   "source": []
  },
  {
   "cell_type": "code",
   "execution_count": 587,
   "metadata": {},
   "outputs": [
    {
     "data": {
      "text/plain": [
       "10"
      ]
     },
     "execution_count": 587,
     "metadata": {},
     "output_type": "execute_result"
    }
   ],
   "source": [
    "census_data.at[5998, 'Age'] = 10\n",
    "census_data['Age'][5998]"
   ]
  },
  {
   "cell_type": "code",
   "execution_count": 588,
   "metadata": {},
   "outputs": [
    {
     "data": {
      "text/html": [
       "<div>\n",
       "<style scoped>\n",
       "    .dataframe tbody tr th:only-of-type {\n",
       "        vertical-align: middle;\n",
       "    }\n",
       "\n",
       "    .dataframe tbody tr th {\n",
       "        vertical-align: top;\n",
       "    }\n",
       "\n",
       "    .dataframe thead th {\n",
       "        text-align: right;\n",
       "    }\n",
       "</style>\n",
       "<table border=\"1\" class=\"dataframe\">\n",
       "  <thead>\n",
       "    <tr style=\"text-align: right;\">\n",
       "      <th></th>\n",
       "      <th>Unnamed: 0</th>\n",
       "      <th>House Number</th>\n",
       "      <th>Street</th>\n",
       "      <th>First Name</th>\n",
       "      <th>Surname</th>\n",
       "      <th>Age</th>\n",
       "      <th>Relationship to Head of House</th>\n",
       "      <th>Marital Status</th>\n",
       "      <th>Gender</th>\n",
       "      <th>Occupation</th>\n",
       "      <th>Infirmity</th>\n",
       "      <th>Religion</th>\n",
       "    </tr>\n",
       "  </thead>\n",
       "  <tbody>\n",
       "    <tr>\n",
       "      <th>2240</th>\n",
       "      <td>2240</td>\n",
       "      <td>19</td>\n",
       "      <td>Norwich Cliffs</td>\n",
       "      <td>Emily</td>\n",
       "      <td>Hill</td>\n",
       "      <td>19</td>\n",
       "      <td></td>\n",
       "      <td>Single</td>\n",
       "      <td>Female</td>\n",
       "      <td>University Student</td>\n",
       "      <td>None</td>\n",
       "      <td>None</td>\n",
       "    </tr>\n",
       "  </tbody>\n",
       "</table>\n",
       "</div>"
      ],
      "text/plain": [
       "      Unnamed: 0 House Number          Street First Name Surname Age  \\\n",
       "2240        2240           19  Norwich Cliffs      Emily    Hill  19   \n",
       "\n",
       "     Relationship to Head of House Marital Status  Gender          Occupation  \\\n",
       "2240                                       Single  Female  University Student   \n",
       "\n",
       "     Infirmity Religion  \n",
       "2240      None     None  "
      ]
     },
     "execution_count": 588,
     "metadata": {},
     "output_type": "execute_result"
    }
   ],
   "source": [
    "census_data.loc[census_data['Relationship to Head of House'] == \\\n",
    "               census_data['Relationship to Head of House'][2240]]"
   ]
  },
  {
   "cell_type": "markdown",
   "metadata": {},
   "source": [
    "There was one entry whose age value was too low to be real (7.11E-15). However, considering other factors like marital status, I was able to make a fair adjustment.\n",
    "The were also records of decimals, which I convert to an integer."
   ]
  },
  {
   "cell_type": "markdown",
   "metadata": {},
   "source": [
    "The Age variable would be converted to the integer type."
   ]
  },
  {
   "cell_type": "code",
   "execution_count": 589,
   "metadata": {},
   "outputs": [
    {
     "data": {
      "text/html": [
       "<div>\n",
       "<style scoped>\n",
       "    .dataframe tbody tr th:only-of-type {\n",
       "        vertical-align: middle;\n",
       "    }\n",
       "\n",
       "    .dataframe tbody tr th {\n",
       "        vertical-align: top;\n",
       "    }\n",
       "\n",
       "    .dataframe thead th {\n",
       "        text-align: right;\n",
       "    }\n",
       "</style>\n",
       "<table border=\"1\" class=\"dataframe\">\n",
       "  <thead>\n",
       "    <tr style=\"text-align: right;\">\n",
       "      <th></th>\n",
       "      <th>Unnamed: 0</th>\n",
       "      <th>House Number</th>\n",
       "      <th>Street</th>\n",
       "      <th>First Name</th>\n",
       "      <th>Surname</th>\n",
       "      <th>Age</th>\n",
       "      <th>Relationship to Head of House</th>\n",
       "      <th>Marital Status</th>\n",
       "      <th>Gender</th>\n",
       "      <th>Occupation</th>\n",
       "      <th>Infirmity</th>\n",
       "      <th>Religion</th>\n",
       "    </tr>\n",
       "  </thead>\n",
       "  <tbody>\n",
       "    <tr>\n",
       "      <th>359</th>\n",
       "      <td>359</td>\n",
       "      <td>80</td>\n",
       "      <td>Fish Harbor</td>\n",
       "      <td>Alex</td>\n",
       "      <td>Ward</td>\n",
       "      <td>74.38784457</td>\n",
       "      <td>Husband</td>\n",
       "      <td>Married</td>\n",
       "      <td>Male</td>\n",
       "      <td>Unemployed</td>\n",
       "      <td>None</td>\n",
       "      <td>Christian</td>\n",
       "    </tr>\n",
       "    <tr>\n",
       "      <th>5060</th>\n",
       "      <td>5060</td>\n",
       "      <td>5</td>\n",
       "      <td>Kerr Avenue</td>\n",
       "      <td>Lewis</td>\n",
       "      <td>Turner</td>\n",
       "      <td>80.57582061</td>\n",
       "      <td>Head</td>\n",
       "      <td>Married</td>\n",
       "      <td>Male</td>\n",
       "      <td>Retired Haematologist</td>\n",
       "      <td>None</td>\n",
       "      <td>Christian</td>\n",
       "    </tr>\n",
       "    <tr>\n",
       "      <th>5061</th>\n",
       "      <td>5061</td>\n",
       "      <td>5</td>\n",
       "      <td>Kerr Avenue</td>\n",
       "      <td>Kirsty</td>\n",
       "      <td>Turner</td>\n",
       "      <td>77.57582061</td>\n",
       "      <td>Wife</td>\n",
       "      <td>Married</td>\n",
       "      <td>Female</td>\n",
       "      <td>Retired Theme park manager</td>\n",
       "      <td>None</td>\n",
       "      <td>None</td>\n",
       "    </tr>\n",
       "    <tr>\n",
       "      <th>5062</th>\n",
       "      <td>5062</td>\n",
       "      <td>5</td>\n",
       "      <td>Kerr Avenue</td>\n",
       "      <td>Jodie</td>\n",
       "      <td>Dixon</td>\n",
       "      <td>7.11E-15</td>\n",
       "      <td>Granddaughter</td>\n",
       "      <td>NaN</td>\n",
       "      <td>Female</td>\n",
       "      <td>Child</td>\n",
       "      <td>None</td>\n",
       "      <td>NaN</td>\n",
       "    </tr>\n",
       "  </tbody>\n",
       "</table>\n",
       "</div>"
      ],
      "text/plain": [
       "      Unnamed: 0 House Number       Street First Name Surname          Age  \\\n",
       "359          359           80  Fish Harbor       Alex    Ward  74.38784457   \n",
       "5060        5060            5  Kerr Avenue      Lewis  Turner  80.57582061   \n",
       "5061        5061            5  Kerr Avenue     Kirsty  Turner  77.57582061   \n",
       "5062        5062            5  Kerr Avenue      Jodie   Dixon     7.11E-15   \n",
       "\n",
       "     Relationship to Head of House Marital Status  Gender  \\\n",
       "359                        Husband        Married    Male   \n",
       "5060                          Head        Married    Male   \n",
       "5061                          Wife        Married  Female   \n",
       "5062                 Granddaughter            NaN  Female   \n",
       "\n",
       "                      Occupation Infirmity   Religion  \n",
       "359                   Unemployed      None  Christian  \n",
       "5060       Retired Haematologist      None  Christian  \n",
       "5061  Retired Theme park manager      None       None  \n",
       "5062                       Child      None        NaN  "
      ]
     },
     "execution_count": 589,
     "metadata": {},
     "output_type": "execute_result"
    }
   ],
   "source": [
    "#74.38784457, 7.11E-15, 77.57582061, 80.57582061\n",
    "census_data.loc[(census_data['Age'] == '74.38784457') | \\\n",
    "               (census_data['Age'] == '7.11E-15') | \\\n",
    "               (census_data['Age'] == '77.57582061') | \\\n",
    "               (census_data['Age'] == '80.57582061')]"
   ]
  },
  {
   "cell_type": "markdown",
   "metadata": {},
   "source": [
    "Result shows that of them are member of the same household who mistakingly appended decimals to their real ages. The ages were stripped below of all appendages."
   ]
  },
  {
   "cell_type": "code",
   "execution_count": 590,
   "metadata": {},
   "outputs": [
    {
     "name": "stdout",
     "output_type": "stream",
     "text": [
      "[359, 358, 5062, 5061, 5060]\n",
      "74\n",
      "72\n",
      "7\n",
      "77\n",
      "80\n"
     ]
    }
   ],
   "source": [
    "age_decimal_values = ['74.38784457', '72.38784457', '7.11E-15', '77.57582061', '80.57582061']\n",
    "\n",
    "indexes = [census_data[census_data['Age'] == i].index.values[0] for i in age_decimal_values]\n",
    "print(indexes)\n",
    "\n",
    "\n",
    "for i in indexes:    \n",
    "    census_data.at[[i], 'Age'] = census_data['Age'][i].split('.')[0]\n",
    "    print(census_data['Age'][i])\n"
   ]
  },
  {
   "cell_type": "markdown",
   "metadata": {},
   "source": [
    "### Other corrections made:\n",
    "6. Marital Status has 1 missing value value and thousands of unusable (NaN) data values.  This is the same with Religion. Also, comparing the Age and the gender variables could make a fair suggestion.\n",
    "In this case, I gave a 25 years threshold for female and 30 years threshold for male. Females that are 25 years and males, 30 years and beyond were tagged as married were status was irrelevant. On the other hand the 'mode' religion were used to clean missing or irrelevant religion data."
   ]
  },
  {
   "cell_type": "code",
   "execution_count": 591,
   "metadata": {},
   "outputs": [
    {
     "data": {
      "text/html": [
       "<div>\n",
       "<style scoped>\n",
       "    .dataframe tbody tr th:only-of-type {\n",
       "        vertical-align: middle;\n",
       "    }\n",
       "\n",
       "    .dataframe tbody tr th {\n",
       "        vertical-align: top;\n",
       "    }\n",
       "\n",
       "    .dataframe thead th {\n",
       "        text-align: right;\n",
       "    }\n",
       "</style>\n",
       "<table border=\"1\" class=\"dataframe\">\n",
       "  <thead>\n",
       "    <tr style=\"text-align: right;\">\n",
       "      <th></th>\n",
       "      <th>Unnamed: 0</th>\n",
       "      <th>House Number</th>\n",
       "      <th>Street</th>\n",
       "      <th>First Name</th>\n",
       "      <th>Surname</th>\n",
       "      <th>Age</th>\n",
       "      <th>Relationship to Head of House</th>\n",
       "      <th>Marital Status</th>\n",
       "      <th>Gender</th>\n",
       "      <th>Occupation</th>\n",
       "      <th>Infirmity</th>\n",
       "      <th>Religion</th>\n",
       "    </tr>\n",
       "  </thead>\n",
       "  <tbody>\n",
       "    <tr>\n",
       "      <th>819</th>\n",
       "      <td>819</td>\n",
       "      <td>31</td>\n",
       "      <td>Newfound Drive</td>\n",
       "      <td>Hilary</td>\n",
       "      <td>Morgan</td>\n",
       "      <td>22</td>\n",
       "      <td>Daughter</td>\n",
       "      <td></td>\n",
       "      <td>Female</td>\n",
       "      <td>University Student</td>\n",
       "      <td>None</td>\n",
       "      <td>None</td>\n",
       "    </tr>\n",
       "  </tbody>\n",
       "</table>\n",
       "</div>"
      ],
      "text/plain": [
       "     Unnamed: 0 House Number          Street First Name Surname Age  \\\n",
       "819         819           31  Newfound Drive     Hilary  Morgan  22   \n",
       "\n",
       "    Relationship to Head of House Marital Status  Gender          Occupation  \\\n",
       "819                      Daughter                 Female  University Student   \n",
       "\n",
       "    Infirmity Religion  \n",
       "819      None     None  "
      ]
     },
     "execution_count": 591,
     "metadata": {},
     "output_type": "execute_result"
    }
   ],
   "source": [
    "#819\n",
    "census_data.loc[census_data['Marital Status'] == \\\n",
    "               census_data['Marital Status'][819]]"
   ]
  },
  {
   "cell_type": "markdown",
   "metadata": {},
   "source": [
    "7. Gender variable has 1 missing value. Comparing other variables suggested something better. Mispelt values were corrected."
   ]
  },
  {
   "cell_type": "code",
   "execution_count": 592,
   "metadata": {},
   "outputs": [
    {
     "data": {
      "text/html": [
       "<div>\n",
       "<style scoped>\n",
       "    .dataframe tbody tr th:only-of-type {\n",
       "        vertical-align: middle;\n",
       "    }\n",
       "\n",
       "    .dataframe tbody tr th {\n",
       "        vertical-align: top;\n",
       "    }\n",
       "\n",
       "    .dataframe thead th {\n",
       "        text-align: right;\n",
       "    }\n",
       "</style>\n",
       "<table border=\"1\" class=\"dataframe\">\n",
       "  <thead>\n",
       "    <tr style=\"text-align: right;\">\n",
       "      <th></th>\n",
       "      <th>Unnamed: 0</th>\n",
       "      <th>House Number</th>\n",
       "      <th>Street</th>\n",
       "      <th>First Name</th>\n",
       "      <th>Surname</th>\n",
       "      <th>Age</th>\n",
       "      <th>Relationship to Head of House</th>\n",
       "      <th>Marital Status</th>\n",
       "      <th>Gender</th>\n",
       "      <th>Occupation</th>\n",
       "      <th>Infirmity</th>\n",
       "      <th>Religion</th>\n",
       "    </tr>\n",
       "  </thead>\n",
       "  <tbody>\n",
       "    <tr>\n",
       "      <th>5394</th>\n",
       "      <td>5394</td>\n",
       "      <td>13</td>\n",
       "      <td>Simpson Flats</td>\n",
       "      <td>Antony</td>\n",
       "      <td>Welch-Martin</td>\n",
       "      <td>61</td>\n",
       "      <td>Husband</td>\n",
       "      <td>Married</td>\n",
       "      <td></td>\n",
       "      <td>Psychologist, prison and probation services</td>\n",
       "      <td>None</td>\n",
       "      <td>Catholic</td>\n",
       "    </tr>\n",
       "  </tbody>\n",
       "</table>\n",
       "</div>"
      ],
      "text/plain": [
       "      Unnamed: 0 House Number         Street First Name       Surname Age  \\\n",
       "5394        5394           13  Simpson Flats     Antony  Welch-Martin  61   \n",
       "\n",
       "     Relationship to Head of House Marital Status Gender  \\\n",
       "5394                       Husband        Married          \n",
       "\n",
       "                                       Occupation Infirmity  Religion  \n",
       "5394  Psychologist, prison and probation services      None  Catholic  "
      ]
     },
     "execution_count": 592,
     "metadata": {},
     "output_type": "execute_result"
    }
   ],
   "source": [
    "#[5394]\n",
    "census_data.loc[census_data['Gender'] == \\\n",
    "               census_data['Gender'][5394]]"
   ]
  },
  {
   "cell_type": "code",
   "execution_count": 593,
   "metadata": {},
   "outputs": [
    {
     "name": "stdout",
     "output_type": "stream",
     "text": [
      "Male\n"
     ]
    }
   ],
   "source": [
    "census_data.at[5394, 'Gender'] = 'Male'\n",
    "print(census_data['Gender'][5394])"
   ]
  },
  {
   "cell_type": "markdown",
   "metadata": {},
   "source": [
    "8. Occupation has 1 missing value. 1 missing value was Ok. However, a 70 year old woman would better have retired rather than a 'None' option, which takes her out of consideration for a job planning into the aging planning."
   ]
  },
  {
   "cell_type": "code",
   "execution_count": 594,
   "metadata": {},
   "outputs": [
    {
     "data": {
      "text/html": [
       "<div>\n",
       "<style scoped>\n",
       "    .dataframe tbody tr th:only-of-type {\n",
       "        vertical-align: middle;\n",
       "    }\n",
       "\n",
       "    .dataframe tbody tr th {\n",
       "        vertical-align: top;\n",
       "    }\n",
       "\n",
       "    .dataframe thead th {\n",
       "        text-align: right;\n",
       "    }\n",
       "</style>\n",
       "<table border=\"1\" class=\"dataframe\">\n",
       "  <thead>\n",
       "    <tr style=\"text-align: right;\">\n",
       "      <th></th>\n",
       "      <th>Unnamed: 0</th>\n",
       "      <th>House Number</th>\n",
       "      <th>Street</th>\n",
       "      <th>First Name</th>\n",
       "      <th>Surname</th>\n",
       "      <th>Age</th>\n",
       "      <th>Relationship to Head of House</th>\n",
       "      <th>Marital Status</th>\n",
       "      <th>Gender</th>\n",
       "      <th>Occupation</th>\n",
       "      <th>Infirmity</th>\n",
       "      <th>Religion</th>\n",
       "    </tr>\n",
       "  </thead>\n",
       "  <tbody>\n",
       "    <tr>\n",
       "      <th>949</th>\n",
       "      <td>949</td>\n",
       "      <td>16</td>\n",
       "      <td>Newfound Creek</td>\n",
       "      <td>Danielle</td>\n",
       "      <td>Wood</td>\n",
       "      <td>70</td>\n",
       "      <td>Head</td>\n",
       "      <td>Single</td>\n",
       "      <td>Female</td>\n",
       "      <td></td>\n",
       "      <td>None</td>\n",
       "      <td>Christian</td>\n",
       "    </tr>\n",
       "  </tbody>\n",
       "</table>\n",
       "</div>"
      ],
      "text/plain": [
       "     Unnamed: 0 House Number          Street First Name Surname Age  \\\n",
       "949         949           16  Newfound Creek   Danielle    Wood  70   \n",
       "\n",
       "    Relationship to Head of House Marital Status  Gender Occupation Infirmity  \\\n",
       "949                          Head         Single  Female                 None   \n",
       "\n",
       "      Religion  \n",
       "949  Christian  "
      ]
     },
     "execution_count": 594,
     "metadata": {},
     "output_type": "execute_result"
    }
   ],
   "source": [
    "#949\n",
    "census_data.loc[census_data['Occupation'] == \\\n",
    "               census_data['Occupation'][949]]"
   ]
  },
  {
   "cell_type": "code",
   "execution_count": 670,
   "metadata": {},
   "outputs": [
    {
     "name": "stdout",
     "output_type": "stream",
     "text": [
      "Retired\n"
     ]
    }
   ],
   "source": [
    "census_data.at[949, 'Occupation'] = 'Retired'\n",
    "print(census_data['Occupation'][949])"
   ]
  },
  {
   "cell_type": "markdown",
   "metadata": {},
   "source": [
    "9. Infirmity has a couple of missing values which was OK. The 'None' option was used instead."
   ]
  },
  {
   "cell_type": "code",
   "execution_count": 595,
   "metadata": {},
   "outputs": [
    {
     "data": {
      "text/html": [
       "<div>\n",
       "<style scoped>\n",
       "    .dataframe tbody tr th:only-of-type {\n",
       "        vertical-align: middle;\n",
       "    }\n",
       "\n",
       "    .dataframe tbody tr th {\n",
       "        vertical-align: top;\n",
       "    }\n",
       "\n",
       "    .dataframe thead th {\n",
       "        text-align: right;\n",
       "    }\n",
       "</style>\n",
       "<table border=\"1\" class=\"dataframe\">\n",
       "  <thead>\n",
       "    <tr style=\"text-align: right;\">\n",
       "      <th></th>\n",
       "      <th>Unnamed: 0</th>\n",
       "      <th>House Number</th>\n",
       "      <th>Street</th>\n",
       "      <th>First Name</th>\n",
       "      <th>Surname</th>\n",
       "      <th>Age</th>\n",
       "      <th>Relationship to Head of House</th>\n",
       "      <th>Marital Status</th>\n",
       "      <th>Gender</th>\n",
       "      <th>Occupation</th>\n",
       "      <th>Infirmity</th>\n",
       "      <th>Religion</th>\n",
       "    </tr>\n",
       "  </thead>\n",
       "  <tbody>\n",
       "    <tr>\n",
       "      <th>430</th>\n",
       "      <td>430</td>\n",
       "      <td>1</td>\n",
       "      <td>Matthews River</td>\n",
       "      <td>Lawrence</td>\n",
       "      <td>Parker</td>\n",
       "      <td>45</td>\n",
       "      <td>Husband</td>\n",
       "      <td>Married</td>\n",
       "      <td>Male</td>\n",
       "      <td>Lawyer</td>\n",
       "      <td></td>\n",
       "      <td>Methodist</td>\n",
       "    </tr>\n",
       "    <tr>\n",
       "      <th>509</th>\n",
       "      <td>509</td>\n",
       "      <td>23</td>\n",
       "      <td>Butcher Burgs</td>\n",
       "      <td>Ian</td>\n",
       "      <td>Jones</td>\n",
       "      <td>72</td>\n",
       "      <td>Head</td>\n",
       "      <td>Single</td>\n",
       "      <td>Male</td>\n",
       "      <td>Retired Systems analyst</td>\n",
       "      <td></td>\n",
       "      <td>Christian</td>\n",
       "    </tr>\n",
       "    <tr>\n",
       "      <th>2012</th>\n",
       "      <td>2012</td>\n",
       "      <td>32</td>\n",
       "      <td>Wakefieldthorpe Street</td>\n",
       "      <td>William</td>\n",
       "      <td>Brown</td>\n",
       "      <td>55</td>\n",
       "      <td>Head</td>\n",
       "      <td>Married</td>\n",
       "      <td>Male</td>\n",
       "      <td>Print production planner</td>\n",
       "      <td></td>\n",
       "      <td>Christian</td>\n",
       "    </tr>\n",
       "    <tr>\n",
       "      <th>2818</th>\n",
       "      <td>2818</td>\n",
       "      <td>2</td>\n",
       "      <td>Aquarius Lane</td>\n",
       "      <td>Vincent</td>\n",
       "      <td>Greenwood</td>\n",
       "      <td>28</td>\n",
       "      <td>Son</td>\n",
       "      <td>Single</td>\n",
       "      <td>Male</td>\n",
       "      <td>Therapeutic radiographer</td>\n",
       "      <td></td>\n",
       "      <td>Christian</td>\n",
       "    </tr>\n",
       "    <tr>\n",
       "      <th>6208</th>\n",
       "      <td>6208</td>\n",
       "      <td>4</td>\n",
       "      <td>Sullivan Ridges</td>\n",
       "      <td>Alice</td>\n",
       "      <td>Cook</td>\n",
       "      <td>15</td>\n",
       "      <td>Daughter</td>\n",
       "      <td>NaN</td>\n",
       "      <td>Female</td>\n",
       "      <td>Student</td>\n",
       "      <td></td>\n",
       "      <td>NaN</td>\n",
       "    </tr>\n",
       "    <tr>\n",
       "      <th>6642</th>\n",
       "      <td>6642</td>\n",
       "      <td>21</td>\n",
       "      <td>Iqbal Plaza</td>\n",
       "      <td>Adrian</td>\n",
       "      <td>Brown</td>\n",
       "      <td>60</td>\n",
       "      <td>Head</td>\n",
       "      <td>Single</td>\n",
       "      <td>Male</td>\n",
       "      <td>Maintenance engineer</td>\n",
       "      <td></td>\n",
       "      <td>Christian</td>\n",
       "    </tr>\n",
       "  </tbody>\n",
       "</table>\n",
       "</div>"
      ],
      "text/plain": [
       "      Unnamed: 0 House Number                  Street First Name    Surname  \\\n",
       "430          430            1          Matthews River   Lawrence     Parker   \n",
       "509          509           23           Butcher Burgs        Ian      Jones   \n",
       "2012        2012           32  Wakefieldthorpe Street    William      Brown   \n",
       "2818        2818            2           Aquarius Lane    Vincent  Greenwood   \n",
       "6208        6208            4         Sullivan Ridges      Alice       Cook   \n",
       "6642        6642           21             Iqbal Plaza     Adrian      Brown   \n",
       "\n",
       "     Age Relationship to Head of House Marital Status  Gender  \\\n",
       "430   45                       Husband        Married    Male   \n",
       "509   72                          Head         Single    Male   \n",
       "2012  55                          Head        Married    Male   \n",
       "2818  28                           Son         Single    Male   \n",
       "6208  15                      Daughter            NaN  Female   \n",
       "6642  60                          Head         Single    Male   \n",
       "\n",
       "                    Occupation Infirmity   Religion  \n",
       "430                     Lawyer            Methodist  \n",
       "509    Retired Systems analyst            Christian  \n",
       "2012  Print production planner            Christian  \n",
       "2818  Therapeutic radiographer            Christian  \n",
       "6208                   Student                  NaN  \n",
       "6642      Maintenance engineer            Christian  "
      ]
     },
     "execution_count": 595,
     "metadata": {},
     "output_type": "execute_result"
    }
   ],
   "source": [
    "age_decimal_values = [430, 509, 2012, 2818, 6208, 6642]\n",
    "census_data.loc[(census_data['Infirmity'] == census_data['Infirmity'][430]) | \\\n",
    "               (census_data['Infirmity'] == census_data['Infirmity'][509]) | \\\n",
    "               (census_data['Infirmity'] == census_data['Infirmity'][2012]) | \\\n",
    "                (census_data['Infirmity'] == census_data['Infirmity'][6208]) | \\\n",
    "                (census_data['Infirmity'] == census_data['Infirmity'][6642]) | \\\n",
    "               (census_data['Infirmity'] == census_data['Infirmity'][2818])]"
   ]
  },
  {
   "cell_type": "markdown",
   "metadata": {},
   "source": [
    "### Religion\n",
    "\n",
    "Religion has countless number of NaN entries.\n",
    "Number of unique responses are shown below."
   ]
  },
  {
   "cell_type": "code",
   "execution_count": 596,
   "metadata": {},
   "outputs": [
    {
     "name": "stdout",
     "output_type": "stream",
     "text": [
      "Number of total records 7773\n",
      "Number of data entry 5910\n",
      "Number of unique responses 15\n",
      "\n",
      "\n",
      "\n",
      "        index  Frequency\n",
      "0        None   0.333719\n",
      "1     Unknown   0.239676\n",
      "2   Christian   0.233243\n",
      "3    Catholic   0.103564\n",
      "4   Methodist   0.063167\n",
      "5      Muslim   0.012865\n",
      "6        Sikh   0.007719\n",
      "7      Jewish   0.004631\n",
      "8               0.000386\n",
      "9     Private   0.000257\n",
      "10      Bahai   0.000257\n",
      "11    Buddist   0.000129\n",
      "12    Baptist   0.000129\n",
      "13  Orthodoxy   0.000129\n",
      "14       Sith   0.000129\n"
     ]
    },
    {
     "data": {
      "text/plain": [
       "<matplotlib.axes._subplots.AxesSubplot at 0x25dfe315c40>"
      ]
     },
     "execution_count": 596,
     "metadata": {},
     "output_type": "execute_result"
    },
    {
     "data": {
      "image/png": "[encoded data removed]",
      "text/plain": [
       "<Figure size 432x288 with 1 Axes>"
      ]
     },
     "metadata": {
      "needs_background": "light"
     },
     "output_type": "display_data"
    }
   ],
   "source": [
    "rel = census_data['Religion'].replace(float('nan'), 'Unknown')\n",
    "rel2 = census_data['Religion'].dropna()\n",
    "print('Number of total records', len(rel))\n",
    "print('Number of data entry', len(rel2))\n",
    "print('Number of unique responses', rel.nunique())\n",
    "#print('Response=', rel.unique())\n",
    "#print('No =', list(rel.value_counts()))\n",
    "print()\n",
    "print()\n",
    "print()\n",
    "#print('Response  |    No')\n",
    "#print('-------------------')\n",
    "print(rel.value_counts(normalize=True).to_frame('Frequency').reset_index())\n",
    "rel.value_counts().plot(kind='barh')"
   ]
  },
  {
   "cell_type": "code",
   "execution_count": 597,
   "metadata": {},
   "outputs": [
    {
     "data": {
      "image/png": "[encoded data removed]",
      "text/plain": [
       "<Figure size 1080x360 with 1 Axes>"
      ]
     },
     "metadata": {
      "needs_background": "light"
     },
     "output_type": "display_data"
    }
   ],
   "source": [
    "#df.a = df.a.astype(np.int32)\n",
    "typed_age_data = pd.to_numeric(census_data['Age'])\n",
    "\n",
    "fig = plt.figure()\n",
    "fig.set_figheight(5)\n",
    "fig.set_figwidth(15)\n",
    "plt.scatter(rel, typed_age_data)\n",
    "plt.ylabel('Age')\n",
    "plt.xlabel('Religion')\n",
    "plt.show()"
   ]
  },
  {
   "cell_type": "code",
   "execution_count": 831,
   "metadata": {},
   "outputs": [
    {
     "name": "stdout",
     "output_type": "stream",
     "text": [
      "\n",
      "Min frequency= 1\n",
      "Max frequency= 829\n",
      "\n",
      "occu Freq\n",
      "1     829\n",
      "2     778\n",
      "3     540\n",
      "4     397\n",
      "5     260\n",
      "6      59\n",
      "7      10\n",
      "10      9\n",
      "12      7\n",
      "11      7\n",
      "8       5\n",
      "9       3\n",
      "15      2\n",
      "18      2\n",
      "14      1\n",
      "16      1\n",
      "20      1\n",
      "22      1\n",
      "Name: Occupancy Density, dtype: int64\n"
     ]
    },
    {
     "data": {
      "text/plain": [
       "<matplotlib.axes._subplots.AxesSubplot at 0x25d8ca1f490>"
      ]
     },
     "execution_count": 831,
     "metadata": {},
     "output_type": "execute_result"
    },
    {
     "data": {
      "image/png": "[encoded data removed]",
      "text/plain": [
       "<Figure size 432x288 with 1 Axes>"
      ]
     },
     "metadata": {
      "needs_background": "light"
     },
     "output_type": "display_data"
    }
   ],
   "source": [
    "#print(census_data.columns)\n",
    "grouped_census = census_data.groupby(['Street', 'House Number'])['House Number'].count()#.reset_index()#['Religion'].count()#.plot(kind='scatter')\n",
    "df = pd.DataFrame([i for i in grouped_census], columns=['Occupancy Density'])\n",
    "gc = df['Occupancy Density'].value_counts()\n",
    "print()\n",
    "print('Min frequency=',min(gc))\n",
    "print('Max frequency=', max(gc))\n",
    "print()\n",
    "print('occu', 'Freq')\n",
    "print(gc)\n",
    "gc.plot(kind='barh')"
   ]
  },
  {
   "cell_type": "code",
   "execution_count": 599,
   "metadata": {},
   "outputs": [
    {
     "name": "stdout",
     "output_type": "stream",
     "text": [
      "Married\n",
      "Divorced\n",
      "Divorced\n",
      "Single\n",
      "Divorced\n",
      "Married\n",
      "Married\n",
      "Widowed\n",
      "Widowed\n",
      "Divorced\n",
      "Widowed\n",
      "Divorced\n",
      "Widowed\n",
      "Widowed\n",
      "Divorced\n",
      "Divorced\n"
     ]
    }
   ],
   "source": [
    "ms_inconsistencies = ['M', 'D', 'S', 'W']\n",
    "ms_inconsistencies_rep = ['Married', 'Divorced', 'Single', 'Widowed']\n",
    "\n",
    "\n",
    "for i in range(len(census_data['Marital Status'])):\n",
    "    for j in range(len(ms_inconsistencies)):\n",
    "        if census_data['Marital Status'][i] == ms_inconsistencies[j]:\n",
    "            census_data.at[[i], 'Marital Status'] = ms_inconsistencies_rep[j]\n",
    "            print(census_data['Marital Status'][i])\n"
   ]
  },
  {
   "cell_type": "code",
   "execution_count": 600,
   "metadata": {},
   "outputs": [
    {
     "name": "stdout",
     "output_type": "stream",
     "text": [
      "Female\n",
      "Female\n",
      "Female\n",
      "Female\n",
      "Female\n",
      "Female\n",
      "Female\n",
      "Female\n",
      "Female\n",
      "Female\n",
      "Female\n",
      "Female\n",
      "Female\n",
      "Female\n",
      "Female\n",
      "Male\n",
      "Female\n",
      "Female\n",
      "Male\n",
      "Female\n",
      "Female\n",
      "Female\n",
      "Female\n",
      "Female\n",
      "Female\n",
      "Male\n",
      "Male\n",
      "Female\n",
      "Female\n",
      "Female\n",
      "Female\n",
      "Male\n",
      "Female\n",
      "Female\n",
      "Female\n",
      "Female\n",
      "Female\n",
      "Female\n",
      "Female\n",
      "Female\n",
      "Female\n",
      "Female\n",
      "Female\n",
      "Female\n",
      "Female\n",
      "Female\n",
      "Female\n",
      "Female\n",
      "Female\n",
      "Male\n",
      "Female\n",
      "Male\n",
      "Female\n",
      "Male\n",
      "Male\n",
      "Female\n",
      "Female\n",
      "Female\n",
      "Female\n",
      "Female\n",
      "Female\n",
      "Male\n",
      "Female\n",
      "Female\n",
      "Female\n",
      "Female\n",
      "Female\n",
      "Female\n",
      "Female\n",
      "Female\n",
      "Male\n",
      "Female\n",
      "Female\n",
      "Female\n",
      "Female\n",
      "Female\n",
      "Female\n",
      "Female\n",
      "Male\n",
      "Female\n",
      "Female\n",
      "Male\n",
      "Male\n",
      "Female\n",
      "Male\n",
      "Female\n",
      "Female\n",
      "Female\n",
      "Female\n",
      "Male\n",
      "Female\n",
      "Male\n",
      "Female\n",
      "Female\n",
      "Female\n",
      "Male\n",
      "Female\n",
      "Female\n",
      "Female\n",
      "Female\n",
      "Female\n",
      "Female\n",
      "Female\n",
      "Female\n",
      "Male\n",
      "Female\n",
      "Female\n",
      "Female\n",
      "Female\n",
      "Female\n",
      "Male\n",
      "Female\n",
      "Female\n",
      "Female\n",
      "Female\n",
      "Male\n",
      "Female\n",
      "Female\n",
      "Female\n",
      "Female\n",
      "Female\n",
      "Female\n",
      "Male\n",
      "Female\n",
      "Female\n",
      "Female\n",
      "Female\n",
      "Female\n",
      "Male\n",
      "Female\n",
      "Female\n",
      "Female\n",
      "Female\n",
      "Female\n",
      "Female\n",
      "Female\n",
      "Female\n",
      "Female\n",
      "Female\n",
      "Male\n",
      "Male\n",
      "Male\n",
      "Female\n",
      "Female\n",
      "Female\n",
      "Female\n",
      "Female\n",
      "Female\n",
      "Female\n",
      "Female\n",
      "Female\n",
      "Female\n",
      "Female\n",
      "Male\n",
      "Female\n",
      "Female\n",
      "Female\n",
      "Male\n",
      "Female\n",
      "Female\n",
      "Female\n",
      "Female\n",
      "Female\n",
      "Female\n",
      "Female\n",
      "Female\n",
      "Female\n",
      "Female\n",
      "Female\n",
      "Female\n",
      "Female\n",
      "Female\n",
      "Female\n",
      "Female\n",
      "Male\n",
      "Female\n",
      "Female\n",
      "Female\n",
      "Male\n",
      "Female\n",
      "Male\n",
      "Female\n",
      "Female\n",
      "Female\n",
      "Female\n",
      "Female\n",
      "Female\n",
      "Female\n",
      "Female\n",
      "Female\n",
      "Female\n",
      "Male\n",
      "Male\n",
      "Female\n",
      "Female\n",
      "Female\n",
      "Female\n",
      "Female\n",
      "Female\n",
      "Male\n",
      "Female\n",
      "Female\n",
      "Female\n",
      "Female\n",
      "Female\n",
      "Female\n",
      "Female\n",
      "Female\n",
      "Female\n",
      "Female\n",
      "Female\n",
      "Female\n",
      "Female\n",
      "Female\n",
      "Male\n",
      "Female\n",
      "Female\n",
      "Male\n",
      "Female\n",
      "Female\n",
      "Female\n",
      "Female\n",
      "Male\n",
      "Female\n",
      "Male\n",
      "Female\n",
      "Female\n",
      "Female\n",
      "Female\n",
      "Female\n",
      "Male\n",
      "Female\n",
      "Female\n",
      "Female\n",
      "Female\n",
      "Female\n",
      "Female\n",
      "Female\n",
      "Female\n",
      "Male\n",
      "Female\n",
      "Male\n",
      "Female\n",
      "Female\n",
      "Female\n",
      "Female\n",
      "Female\n",
      "Male\n",
      "Female\n",
      "Female\n",
      "Female\n",
      "Female\n",
      "Female\n",
      "Female\n",
      "Female\n",
      "Male\n",
      "Female\n",
      "Female\n",
      "Female\n",
      "Female\n",
      "Male\n",
      "Female\n",
      "Female\n",
      "Male\n",
      "Female\n",
      "Male\n",
      "Female\n",
      "Female\n",
      "Female\n",
      "Female\n",
      "Female\n",
      "Female\n",
      "Female\n",
      "Female\n",
      "Female\n",
      "Female\n",
      "Female\n",
      "Female\n",
      "Female\n",
      "Female\n",
      "Female\n",
      "Female\n",
      "Female\n",
      "Female\n",
      "Female\n",
      "Female\n",
      "Female\n",
      "Female\n",
      "Female\n",
      "Female\n",
      "Female\n",
      "Male\n",
      "Female\n",
      "Female\n",
      "Female\n",
      "Male\n",
      "Female\n",
      "Female\n",
      "Male\n",
      "Male\n",
      "Female\n",
      "Female\n",
      "Male\n",
      "Male\n",
      "Female\n",
      "Female\n",
      "Female\n",
      "Female\n",
      "Male\n",
      "Female\n",
      "Female\n",
      "Female\n",
      "Female\n",
      "Female\n",
      "Male\n",
      "Female\n",
      "Female\n"
     ]
    }
   ],
   "source": [
    "gender_inconsistencies = ['female', 'male', 'M', 'F', 'm', 'f']\n",
    "gender_inconsistencies_rep = ['Female', 'Male', 'Female', 'Male', 'Female', 'Male',]\n",
    "\n",
    "\n",
    "for i in range(len(census_data['Gender'])):\n",
    "    for j in range(len(gender_inconsistencies)):\n",
    "        if census_data['Gender'][i] == gender_inconsistencies[j]:\n",
    "            census_data.at[[i], 'Gender'] = gender_inconsistencies_rep[j]\n",
    "            print(census_data['Gender'][i])\n"
   ]
  },
  {
   "cell_type": "code",
   "execution_count": 601,
   "metadata": {},
   "outputs": [
    {
     "name": "stdout",
     "output_type": "stream",
     "text": [
      "Number of total records 7773\n",
      "Number of data entry 5960\n",
      "Number of unique responses 6\n",
      "\n",
      "\n",
      "\n",
      "      index  Frequency\n",
      "0    Single       2661\n",
      "1   Married       2196\n",
      "2   Unknown       1813\n",
      "3  Divorced        702\n",
      "4   Widowed        400\n",
      "5                    1\n"
     ]
    },
    {
     "data": {
      "image/png": "[encoded data removed]",
      "text/plain": [
       "<Figure size 432x288 with 1 Axes>"
      ]
     },
     "metadata": {
      "needs_background": "light"
     },
     "output_type": "display_data"
    },
    {
     "data": {
      "image/png": "[encoded data removed]",
      "text/plain": [
       "<Figure size 864x288 with 1 Axes>"
      ]
     },
     "metadata": {
      "needs_background": "light"
     },
     "output_type": "display_data"
    }
   ],
   "source": [
    "ms = census_data['Marital Status'].replace(float('nan'), 'Unknown')\n",
    "ms2 = census_data['Marital Status'].dropna()\n",
    "print('Number of total records', len(ms))\n",
    "print('Number of data entry', len(ms2))\n",
    "print('Number of unique responses', ms.nunique())\n",
    "#print('Response=', rel.unique())\n",
    "#print('No =', list(rel.value_counts()))\n",
    "print()\n",
    "print()\n",
    "print()\n",
    "#print('Response  |    No')\n",
    "#print('-------------------')\n",
    "print(ms.value_counts().to_frame('Frequency').reset_index())\n",
    "ms.value_counts(normalize=True).plot(kind='barh')\n",
    "import seaborn as sns\n",
    "\n",
    "plt.figure(figsize=(12, 4))\n",
    "a = sns.violinplot(x= ms, y=typed_age_data, hue=census_data['Gender'], scale=\"count\", split=True)"
   ]
  },
  {
   "cell_type": "markdown",
   "metadata": {},
   "source": [
    "#### Demographics"
   ]
  },
  {
   "cell_type": "code",
   "execution_count": 743,
   "metadata": {},
   "outputs": [
    {
     "name": "stdout",
     "output_type": "stream",
     "text": [
      "7764.0\n"
     ]
    },
    {
     "data": {
      "text/html": [
       "<div>\n",
       "<style scoped>\n",
       "    .dataframe tbody tr th:only-of-type {\n",
       "        vertical-align: middle;\n",
       "    }\n",
       "\n",
       "    .dataframe tbody tr th {\n",
       "        vertical-align: top;\n",
       "    }\n",
       "\n",
       "    .dataframe thead th {\n",
       "        text-align: right;\n",
       "    }\n",
       "</style>\n",
       "<table border=\"1\" class=\"dataframe\">\n",
       "  <thead>\n",
       "    <tr style=\"text-align: right;\">\n",
       "      <th></th>\n",
       "      <th>Age</th>\n",
       "      <th>Male</th>\n",
       "      <th>Female</th>\n",
       "    </tr>\n",
       "  </thead>\n",
       "  <tbody>\n",
       "    <tr>\n",
       "      <th>0</th>\n",
       "      <td>0-4</td>\n",
       "      <td>-226</td>\n",
       "      <td>205</td>\n",
       "    </tr>\n",
       "    <tr>\n",
       "      <th>1</th>\n",
       "      <td>5-9</td>\n",
       "      <td>-249</td>\n",
       "      <td>279</td>\n",
       "    </tr>\n",
       "    <tr>\n",
       "      <th>2</th>\n",
       "      <td>10-14</td>\n",
       "      <td>-292</td>\n",
       "      <td>244</td>\n",
       "    </tr>\n",
       "    <tr>\n",
       "      <th>3</th>\n",
       "      <td>15-19</td>\n",
       "      <td>-278</td>\n",
       "      <td>288</td>\n",
       "    </tr>\n",
       "    <tr>\n",
       "      <th>4</th>\n",
       "      <td>20-24</td>\n",
       "      <td>-265</td>\n",
       "      <td>292</td>\n",
       "    </tr>\n",
       "    <tr>\n",
       "      <th>5</th>\n",
       "      <td>25-29</td>\n",
       "      <td>-255</td>\n",
       "      <td>296</td>\n",
       "    </tr>\n",
       "    <tr>\n",
       "      <th>6</th>\n",
       "      <td>30-34</td>\n",
       "      <td>-251</td>\n",
       "      <td>302</td>\n",
       "    </tr>\n",
       "    <tr>\n",
       "      <th>7</th>\n",
       "      <td>35-39</td>\n",
       "      <td>-277</td>\n",
       "      <td>389</td>\n",
       "    </tr>\n",
       "    <tr>\n",
       "      <th>8</th>\n",
       "      <td>40-44</td>\n",
       "      <td>-288</td>\n",
       "      <td>340</td>\n",
       "    </tr>\n",
       "    <tr>\n",
       "      <th>9</th>\n",
       "      <td>45-49</td>\n",
       "      <td>-245</td>\n",
       "      <td>330</td>\n",
       "    </tr>\n",
       "    <tr>\n",
       "      <th>10</th>\n",
       "      <td>50-54</td>\n",
       "      <td>-217</td>\n",
       "      <td>261</td>\n",
       "    </tr>\n",
       "    <tr>\n",
       "      <th>11</th>\n",
       "      <td>55-59</td>\n",
       "      <td>-209</td>\n",
       "      <td>223</td>\n",
       "    </tr>\n",
       "    <tr>\n",
       "      <th>12</th>\n",
       "      <td>60-64</td>\n",
       "      <td>-178</td>\n",
       "      <td>178</td>\n",
       "    </tr>\n",
       "    <tr>\n",
       "      <th>13</th>\n",
       "      <td>65-69</td>\n",
       "      <td>-101</td>\n",
       "      <td>153</td>\n",
       "    </tr>\n",
       "    <tr>\n",
       "      <th>14</th>\n",
       "      <td>70-74</td>\n",
       "      <td>-101</td>\n",
       "      <td>152</td>\n",
       "    </tr>\n",
       "    <tr>\n",
       "      <th>15</th>\n",
       "      <td>75-79</td>\n",
       "      <td>-80</td>\n",
       "      <td>102</td>\n",
       "    </tr>\n",
       "    <tr>\n",
       "      <th>16</th>\n",
       "      <td>80-84</td>\n",
       "      <td>-56</td>\n",
       "      <td>67</td>\n",
       "    </tr>\n",
       "    <tr>\n",
       "      <th>17</th>\n",
       "      <td>85-89</td>\n",
       "      <td>-38</td>\n",
       "      <td>35</td>\n",
       "    </tr>\n",
       "    <tr>\n",
       "      <th>18</th>\n",
       "      <td>90-94</td>\n",
       "      <td>-7</td>\n",
       "      <td>5</td>\n",
       "    </tr>\n",
       "    <tr>\n",
       "      <th>19</th>\n",
       "      <td>95-99</td>\n",
       "      <td>-5</td>\n",
       "      <td>5</td>\n",
       "    </tr>\n",
       "  </tbody>\n",
       "</table>\n",
       "</div>"
      ],
      "text/plain": [
       "      Age  Male  Female\n",
       "0     0-4  -226     205\n",
       "1     5-9  -249     279\n",
       "2   10-14  -292     244\n",
       "3   15-19  -278     288\n",
       "4   20-24  -265     292\n",
       "5   25-29  -255     296\n",
       "6   30-34  -251     302\n",
       "7   35-39  -277     389\n",
       "8   40-44  -288     340\n",
       "9   45-49  -245     330\n",
       "10  50-54  -217     261\n",
       "11  55-59  -209     223\n",
       "12  60-64  -178     178\n",
       "13  65-69  -101     153\n",
       "14  70-74  -101     152\n",
       "15  75-79   -80     102\n",
       "16  80-84   -56      67\n",
       "17  85-89   -38      35\n",
       "18  90-94    -7       5\n",
       "19  95-99    -5       5"
      ]
     },
     "execution_count": 743,
     "metadata": {},
     "output_type": "execute_result"
    },
    {
     "data": {
      "image/png": "[encoded data removed]",
      "text/plain": [
       "<Figure size 432x288 with 1 Axes>"
      ]
     },
     "metadata": {
      "needs_background": "light"
     },
     "output_type": "display_data"
    }
   ],
   "source": [
    "# Function: Copy-pasted from question and modified\n",
    "# Create DataFrame\n",
    "def get_num_people_by_age_category(census_data, bins):\n",
    "    census_data[\"Age Group\"] = pd.cut(x=typed_age_data, bins=bins, right=False)\n",
    "    return census_data\n",
    "\n",
    "# Create DataFrame\n",
    "census_copy = census_data.copy()\n",
    "bins = [i for i in range(0,105,5)]\n",
    "\n",
    "# Call function\n",
    "df = get_num_people_by_age_category(census_copy, bins)\n",
    "result =census_copy.groupby(['Age Group', 'Gender'])['Age'].count()#count().plot(kind='barh', figsize=(7, 4))\n",
    "result = [i for i in result]\n",
    "print(math.fsum(result))\n",
    "male=[] \n",
    "female=[]\n",
    "for i in range(len(result)):\n",
    "    if i%2 == 0:\n",
    "        female.append(result[i])\n",
    "    else:\n",
    "        male.append(result[i] * -1)\n",
    "bins = [str(i)+'-'+str(i+4) for i in range(0,100,5)] \n",
    "\n",
    "df =pd.DataFrame({'Age': bins, 'Male': male, 'Female': female}, \\\n",
    "                 columns=['Age', 'Male', 'Female'])\n",
    "#print(male, female)\n",
    "\n",
    "\n",
    "bins = [str(i)+'-'+str(i+4) for i in range(100,0,-5)] \n",
    "AgeClass = bins# ['100+','95-99','90-94','85-89','80-84','75-79','70-74','65-69','60-64','55-59','50-54','45-49','40-44','35-39','30-34','25-29','20-24','15-19','10-14','5-9','0-4']\n",
    "\n",
    "bar_plot = sns.barplot(x='Male', y='Age', data=df, order=AgeClass)\n",
    "\n",
    "bar_plot = sns.barplot(x='Female', y='Age', data=df, order=AgeClass)\n",
    "\n",
    "bar_plot.set(xlabel=\"Population Distribution\", ylabel=\"Age-Group\", title = \"Population Pyramid\")\n",
    "df"
   ]
  },
  {
   "cell_type": "code",
   "execution_count": null,
   "metadata": {},
   "outputs": [],
   "source": [
    "#b = d.as_integer_ratio()"
   ]
  },
  {
   "cell_type": "markdown",
   "metadata": {},
   "source": [
    "### Simpler group count\n",
    "#----------------------\n",
    "#### 1. Children and Youth\n",
    "#### 2. Mid-aged\n",
    "#### 3. Retiring\n",
    "#### 4. Aging"
   ]
  },
  {
   "cell_type": "code",
   "execution_count": 666,
   "metadata": {},
   "outputs": [
    {
     "name": "stdout",
     "output_type": "stream",
     "text": [
      " Male   Female\n"
     ]
    },
    {
     "data": {
      "text/html": [
       "<div>\n",
       "<style scoped>\n",
       "    .dataframe tbody tr th:only-of-type {\n",
       "        vertical-align: middle;\n",
       "    }\n",
       "\n",
       "    .dataframe tbody tr th {\n",
       "        vertical-align: top;\n",
       "    }\n",
       "\n",
       "    .dataframe thead th {\n",
       "        text-align: right;\n",
       "    }\n",
       "</style>\n",
       "<table border=\"1\" class=\"dataframe\">\n",
       "  <thead>\n",
       "    <tr style=\"text-align: right;\">\n",
       "      <th></th>\n",
       "      <th>Male</th>\n",
       "      <th>Female</th>\n",
       "    </tr>\n",
       "  </thead>\n",
       "  <tbody>\n",
       "    <tr>\n",
       "      <th>Children and Youth</th>\n",
       "      <td>1045</td>\n",
       "      <td>1016</td>\n",
       "    </tr>\n",
       "    <tr>\n",
       "      <th>Mid-aged</th>\n",
       "      <td>1071</td>\n",
       "      <td>1327</td>\n",
       "    </tr>\n",
       "    <tr>\n",
       "      <th>Retiring</th>\n",
       "      <td>387</td>\n",
       "      <td>401</td>\n",
       "    </tr>\n",
       "    <tr>\n",
       "      <th>Aging</th>\n",
       "      <td>282</td>\n",
       "      <td>361</td>\n",
       "    </tr>\n",
       "  </tbody>\n",
       "</table>\n",
       "</div>"
      ],
      "text/plain": [
       "                    Male  Female\n",
       "Children and Youth  1045    1016\n",
       "Mid-aged            1071    1327\n",
       "Retiring             387     401\n",
       "Aging                282     361"
      ]
     },
     "execution_count": 666,
     "metadata": {},
     "output_type": "execute_result"
    }
   ],
   "source": [
    "print(' Male', '  Female')\n",
    "pd.DataFrame([[df.iloc[0:4, 1].sum()*-1, df.iloc[0:4, 2].sum()],\n",
    "[df.iloc[5:9, 1].sum()*-1, df.iloc[5:9, 2].sum()],\n",
    "[df.iloc[11:13, 1].sum()*-1, df.iloc[11:13, 2].sum()],\n",
    "[df.iloc[14:19, 1].sum()*-1, df.iloc[14:19, 2].sum()]], columns=['Male', 'Female'], \\\n",
    "            index=['Children and Youth', 'Mid-aged', 'Retiring', 'Aging'])"
   ]
  },
  {
   "cell_type": "code",
   "execution_count": 682,
   "metadata": {},
   "outputs": [
    {
     "name": "stdout",
     "output_type": "stream",
     "text": [
      "False\n"
     ]
    },
    {
     "data": {
      "text/plain": [
       "0"
      ]
     },
     "execution_count": 682,
     "metadata": {},
     "output_type": "execute_result"
    }
   ],
   "source": [
    "print(0 == True)\n",
    "-1 +1"
   ]
  },
  {
   "cell_type": "code",
   "execution_count": 667,
   "metadata": {},
   "outputs": [],
   "source": [
    "#X_train_data.loc[(X_train_data.Age < 13),  'AgeGroup'] = 'Kid'"
   ]
  },
  {
   "cell_type": "markdown",
   "metadata": {},
   "source": [
    "#### Occupation analysis"
   ]
  },
  {
   "cell_type": "code",
   "execution_count": 729,
   "metadata": {},
   "outputs": [
    {
     "name": "stdout",
     "output_type": "stream",
     "text": [
      "Number of total records 7773\n",
      "Number of data entry 7773\n",
      "\n",
      "\n",
      "\n",
      "7773 7773 7773\n",
      "            Percentage\n",
      "Employed      0.532227\n",
      "Student       0.254599\n",
      "Retired       0.102920\n",
      "Child         0.055706\n",
      "Unemployed    0.054548\n"
     ]
    },
    {
     "data": {
      "text/plain": [
       "<matplotlib.axes._subplots.AxesSubplot at 0x25d89d9a880>"
      ]
     },
     "execution_count": 729,
     "metadata": {},
     "output_type": "execute_result"
    },
    {
     "data": {
      "image/png": "[encoded data removed]",
      "text/plain": [
       "<Figure size 432x288 with 1 Axes>"
      ]
     },
     "metadata": {
      "needs_background": "light"
     },
     "output_type": "display_data"
    }
   ],
   "source": [
    "#Occupation analysis (descriptive)\n",
    "ms = census_data['Occupation'].replace(float('nan'), 'Unknown')\n",
    "ms2 = census_data['Occupation'].dropna()\n",
    "print('Number of total records', len(ms))\n",
    "print('Number of data entry', len(ms2))\n",
    "#print('Response=', ms.unique())\n",
    "#print('No =', list(ms.value_counts()))\n",
    "print()\n",
    "print()\n",
    "print()\n",
    "# Occupation groups\n",
    "occupation_groups = []\n",
    "i = 0\n",
    "for val in census_copy['Occupation']:\n",
    "    if (val.find('Unemployed') != -1) & (typed_age_data[i] > 60):\n",
    "        occupation_groups.append('Retired')\n",
    "    elif (val.find('Child') != -1) & (typed_age_data[i] > 15):\n",
    "        occupation_groups.append('Unemployed')\n",
    "    elif val.find('Unemployed') != -1:\n",
    "        occupation_groups.append('Unemployed')\n",
    "    elif val.find('Retired') != -1:\n",
    "        occupation_groups.append('Retired')\n",
    "    elif val.find('Student') != -1:\n",
    "        occupation_groups.append('Student')\n",
    "    elif val.find('Child') != -1:\n",
    "        occupation_groups.append('Child')\n",
    "    else:\n",
    "        occupation_groups.append('Employed')\n",
    "    i+=1\n",
    "    \n",
    "print(len(occupation_groups), len(typed_age_data), len(census_copy))\n",
    "        \n",
    "occupation_series = pd.DataFrame(data=occupation_groups)\n",
    "print(occupation_series[0].value_counts(normalize=True).to_frame('Percentage'))\n",
    "occupation_series[0].value_counts().plot(kind='barh')\n",
    "\n",
    "#import seaborn as sns\n",
    "\n",
    "#plt.figure(figsize=(12, 4))\n",
    "#a = sns.violinplot(x= ms, y=typed_age_data, hue=census_data['Gender'], scale=\"count\", split=True)"
   ]
  },
  {
   "cell_type": "code",
   "execution_count": 742,
   "metadata": {},
   "outputs": [
    {
     "data": {
      "text/plain": [
       "<matplotlib.axes._subplots.AxesSubplot at 0x25d8187e670>"
      ]
     },
     "execution_count": 742,
     "metadata": {},
     "output_type": "execute_result"
    },
    {
     "data": {
      "image/png": "[encoded data removed]",
      "text/plain": [
       "<Figure size 432x288 with 1 Axes>"
      ]
     },
     "metadata": {
      "needs_background": "light"
     },
     "output_type": "display_data"
    }
   ],
   "source": [
    "census_copy['Scaled Occupation'] = occupation_groups\n",
    "census_copy['Typed Age'] = typed_age_data\n",
    "sns.stripplot(data=census_copy, x=\"Scaled Occupation\", y=\"Typed Age\", hue=\"Gender\")"
   ]
  },
  {
   "cell_type": "code",
   "execution_count": 738,
   "metadata": {},
   "outputs": [
    {
     "data": {
      "text/plain": [
       "<matplotlib.axes._subplots.AxesSubplot at 0x25d8b13dd60>"
      ]
     },
     "execution_count": 738,
     "metadata": {},
     "output_type": "execute_result"
    },
    {
     "data": {
      "image/png": "[encoded data removed]",
      "text/plain": [
       "<Figure size 432x288 with 1 Axes>"
      ]
     },
     "metadata": {
      "needs_background": "light"
     },
     "output_type": "display_data"
    }
   ],
   "source": [
    "sns.boxplot(data=census_copy, x=\"Scaled Occupation\", y=\"Typed Age\", hue=\"Gender\")"
   ]
  },
  {
   "cell_type": "code",
   "execution_count": null,
   "metadata": {},
   "outputs": [],
   "source": [
    "#### Age distribution of marital status"
   ]
  },
  {
   "cell_type": "code",
   "execution_count": 787,
   "metadata": {},
   "outputs": [
    {
     "name": "stdout",
     "output_type": "stream",
     "text": [
      "Number of total records 7773\n",
      "Number of data entry 5960\n",
      "\n",
      "\n",
      "\n",
      "Age Range\t Frequency\n",
      "0-50\t\t3592\n",
      "15-105\t\t2418\n",
      "16-50\t\t1205\n",
      "18-50\t\t473\n",
      "18-48\t\t84\n",
      "22-22\t\t1\n",
      "          Percentage\n",
      "Single      0.462112\n",
      "Unknown     0.311077\n",
      "Married     0.155024\n",
      "Divorced    0.060852\n",
      "Widowed     0.010807\n",
      "            0.000129\n"
     ]
    },
    {
     "data": {
      "text/plain": [
       "<matplotlib.axes._subplots.AxesSubplot at 0x25d8ca0f220>"
      ]
     },
     "execution_count": 787,
     "metadata": {},
     "output_type": "execute_result"
    },
    {
     "data": {
      "image/png": "[encoded data removed]",
      "text/plain": [
       "<Figure size 432x288 with 1 Axes>"
      ]
     },
     "metadata": {
      "needs_background": "light"
     },
     "output_type": "display_data"
    }
   ],
   "source": [
    "#Marital Status analysis (descriptive)\n",
    "ms = census_data['Marital Status'].replace(float('nan'), 'Unknown')\n",
    "ms2 = census_data['Marital Status'].dropna()\n",
    "print('Number of total records', len(ms))\n",
    "print('Number of data entry', len(ms2))\n",
    "#print('Response=', ms.unique())\n",
    "#print('No =', list(ms.value_counts()))\n",
    "print()\n",
    "print()\n",
    "print()\n",
    "# Occupation groups\n",
    "status_groups = []\n",
    "Married_age_groups = []\n",
    "Single_age_groups = []\n",
    "Divorced_age_groups = []\n",
    "Widowed_age_groups = []\n",
    "Unknown_age_groups = []\n",
    "Other_age_groups = []\n",
    "\n",
    "i = 0\n",
    "for val in ms:\n",
    "    if typed_age_data[i] < 15:\n",
    "        status_groups.append('Single')\n",
    "        Single_age_groups.append(typed_age_data[i])\n",
    "\n",
    "    elif val.find('Single') != -1 & typed_age_data[i] > 50:\n",
    "        status_groups.append('Unknown')\n",
    "        Unknown_age_groups.append(typed_age_data[i])\n",
    "    elif val.find('Single') != -1:\n",
    "        status_groups.append('Single')\n",
    "        Single_age_groups.append(typed_age_data[i])\n",
    "    elif val.find('Married') != -1:\n",
    "            status_groups.append('Married')\n",
    "            Married_age_groups.append(typed_age_data[i])\n",
    "    elif val.find('Divorced') != -1:\n",
    "            status_groups.append('Divorced')\n",
    "            Divorced_age_groups.append(typed_age_data[i])\n",
    "    elif val.find('Widowed') != -1:\n",
    "            status_groups.append('Widowed')\n",
    "            Widowed_age_groups.append(typed_age_data[i])\n",
    "    elif val.find('Unknown') != -1:\n",
    "            status_groups.append('Unknown')\n",
    "            Unknown_age_groups.append(typed_age_data[i])\n",
    "    else:\n",
    "        status_groups.append(val)\n",
    "        Other_age_groups.append(typed_age_data[i])\n",
    "    i+=1\n",
    "\n",
    "age_groups = [\n",
    "                Single_age_groups,\n",
    "                Unknown_age_groups,\n",
    "                Married_age_groups,\n",
    "                Divorced_age_groups,\n",
    "                Widowed_age_groups,                \n",
    "                Other_age_groups]\n",
    "print('Age Range\\t', 'Frequency')\n",
    "for ag in age_groups:\n",
    "    print(str(min(ag)) + '-' + str(max(ag)) + '\\t\\t'+ str(len(ag)))\n",
    "\n",
    "status_series = pd.DataFrame(data=status_groups)\n",
    "print(status_series[0].value_counts(normalize=True).to_frame('Percentage'))\n",
    "status_series[0].value_counts().plot(kind='barh')"
   ]
  },
  {
   "cell_type": "code",
   "execution_count": null,
   "metadata": {},
   "outputs": [],
   "source": []
  },
  {
   "cell_type": "code",
   "execution_count": 848,
   "metadata": {},
   "outputs": [
    {
     "name": "stdout",
     "output_type": "stream",
     "text": [
      "Occupation\t\t\t   Count\n"
     ]
    },
    {
     "data": {
      "text/plain": [
       "<matplotlib.axes._subplots.AxesSubplot at 0x25d8b5d31f0>"
      ]
     },
     "execution_count": 848,
     "metadata": {},
     "output_type": "execute_result"
    },
    {
     "data": {
      "image/png": "[encoded data removed]",
      "text/plain": [
       "<Figure size 432x288 with 1 Axes>"
      ]
     },
     "metadata": {
      "needs_background": "light"
     },
     "output_type": "display_data"
    }
   ],
   "source": [
    "#Commuter analysis\n",
    "import re\n",
    "comm = ['university','student', 'lecturer', 'Lecturer', 'University','Student', 'higher', 'Higher']\n",
    "retired = ['Retired']\n",
    "j = 0\n",
    "index_array = []\n",
    "for i in census_copy['Occupation']:\n",
    "    checked = re.findall(r\"(?=(\"+'|'.join(comm)+r\"))\", i)\n",
    "    checked2 = re.findall(r\"(?=(\"+'|'.join(retired)+r\"))\", i)\n",
    "    if len(checked) > 0 and len(checked2) < 1:\n",
    "        index_array.append(j)\n",
    "    j+=1\n",
    "\n",
    "print('Occupation\\t\\t\\t  ', 'Count')\n",
    "census_copy.loc[index_array, 'Occupation'].value_counts().plot(kind='bar')"
   ]
  },
  {
   "cell_type": "code",
   "execution_count": 853,
   "metadata": {},
   "outputs": [
    {
     "name": "stdout",
     "output_type": "stream",
     "text": [
      "Number of total records 7773\n",
      "Number of data entry 7773\n",
      "Number of unique responses 8\n",
      "\n",
      "\n",
      "\n",
      "                 index  Frequency\n",
      "0                 None       7721\n",
      "1    Unknown Infection         10\n",
      "2                Blind         10\n",
      "3  Physical Disability          8\n",
      "4             Disabled          7\n",
      "5                               6\n",
      "6    Mental Disability          6\n",
      "7                 Deaf          5\n"
     ]
    },
    {
     "data": {
      "text/plain": [
       "'\\nimport seaborn as sns\\n\\nplt.figure(figsize=(12, 4))\\na = sns.violinplot(x= ms, y=typed_age_data, hue=census_data[\\'Gender\\'], scale=\"count\", split=True)\\n'"
      ]
     },
     "execution_count": 853,
     "metadata": {},
     "output_type": "execute_result"
    },
    {
     "data": {
      "image/png": "[encoded data removed]",
      "text/plain": [
       "<Figure size 432x288 with 1 Axes>"
      ]
     },
     "metadata": {
      "needs_background": "light"
     },
     "output_type": "display_data"
    }
   ],
   "source": [
    "# Infirmity Analysis\n",
    "ms = census_data['Infirmity'].replace(float('nan'), 'Unknown')\n",
    "ms2 = census_data['Infirmity'].dropna()\n",
    "print('Number of total records', len(ms))\n",
    "print('Number of data entry', len(ms2))\n",
    "print('Number of unique responses', ms.nunique())\n",
    "#print('Response=', rel.unique())\n",
    "#print('No =', list(rel.value_counts()))\n",
    "print()\n",
    "print()\n",
    "print()\n",
    "#print('Response  |    No')\n",
    "#print('-------------------')\n",
    "print(ms.value_counts().to_frame('Frequency').reset_index())\n",
    "ms.value_counts(normalize=True).plot(kind='barh')\n",
    "'''\n",
    "import seaborn as sns\n",
    "\n",
    "plt.figure(figsize=(12, 4))\n",
    "a = sns.violinplot(x= ms, y=typed_age_data, hue=census_data['Gender'], scale=\"count\", split=True)\n",
    "'''"
   ]
  },
  {
   "cell_type": "code",
   "execution_count": 553,
   "metadata": {},
   "outputs": [
    {
     "data": {
      "text/plain": [
       "'\\nAlternative to plot:\\n\\nmale=[] \\nfemale=[]\\nfor i in range(len(result)):\\n    if i%2 == 0:\\n        female.append(result[i])\\n    else:\\n        male.append(result[i] * -1)\\nbins = [str(i)+\\'-\\'+str(i+5) for i in range(0,100,5)] \\narray=np.array([bins, male, female])\\ndf = pd.DataFrame(data=array, index=[\\'Age\\', \\'Male\\', \\'Female\\'])\\n\\ndf\\nbins = [str(i)+\\'-\\'+str(i+5) for i in range(100,0,-5)] \\nAgeClass = bins# [\\'100+\\',\\'95-99\\',\\'90-94\\',\\'85-89\\',\\'80-84\\',\\'75-79\\',\\'70-74\\',\\'65-69\\',\\'60-64\\',\\'55-59\\',\\'50-54\\',\\'45-49\\',\\'40-44\\',\\'35-39\\',\\'30-34\\',\\'25-29\\',\\'20-24\\',\\'15-19\\',\\'10-14\\',\\'5-9\\',\\'0-4\\']\\n\\nbar_plot = sns.barplot(x=bins, y=df.loc[\\'Male\\'].to_numpy(), label=\"Male\")\\n\\nbar_plot = sns.barplot(x=bins, y = df.loc[\\'Female\\'].to_numpy(), label=\\'Female\\')\\nbar_plot.set(xlabel=\"Population Distribution\", ylabel=\"Age-Group\", title = \"Population Pyramid\")\\n\\nplt.xticks(bins)\\nplt.yticks(bins)\\n\\nplt.legend(frameon = False)\\n\\nplt.tight_layout()\\n'"
      ]
     },
     "execution_count": 553,
     "metadata": {},
     "output_type": "execute_result"
    }
   ],
   "source": [
    "'''\n",
    "Alternative to plot:\n",
    "\n",
    "male=[] \n",
    "female=[]\n",
    "for i in range(len(result)):\n",
    "    if i%2 == 0:\n",
    "        female.append(result[i])\n",
    "    else:\n",
    "        male.append(result[i] * -1)\n",
    "bins = [str(i)+'-'+str(i+5) for i in range(0,100,5)] \n",
    "array=np.array([bins, male, female])\n",
    "df = pd.DataFrame(data=array, index=['Age', 'Male', 'Female'])\n",
    "\n",
    "df\n",
    "bins = [str(i)+'-'+str(i+5) for i in range(100,0,-5)] \n",
    "AgeClass = bins# ['100+','95-99','90-94','85-89','80-84','75-79','70-74','65-69','60-64','55-59','50-54','45-49','40-44','35-39','30-34','25-29','20-24','15-19','10-14','5-9','0-4']\n",
    "\n",
    "bar_plot = sns.barplot(x=bins, y=df.loc['Male'].to_numpy(), label=\"Male\")\n",
    "\n",
    "bar_plot = sns.barplot(x=bins, y = df.loc['Female'].to_numpy(), label='Female')\n",
    "bar_plot.set(xlabel=\"Population Distribution\", ylabel=\"Age-Group\", title = \"Population Pyramid\")\n",
    "\n",
    "plt.xticks(bins)\n",
    "plt.yticks(bins)\n",
    "\n",
    "plt.legend(frameon = False)\n",
    "\n",
    "plt.tight_layout()\n",
    "'''"
   ]
  },
  {
   "cell_type": "code",
   "execution_count": 545,
   "metadata": {},
   "outputs": [
    {
     "name": "stdout",
     "output_type": "stream",
     "text": [
      "          0  1  2\n",
      "Positive  1  5  9\n",
      "Negative  3  5  7\n"
     ]
    },
    {
     "data": {
      "image/png": "[encoded data removed]",
      "text/plain": [
       "<Figure size 576x432 with 1 Axes>"
      ]
     },
     "metadata": {
      "needs_background": "light"
     },
     "output_type": "display_data"
    }
   ],
   "source": [
    "'''\n",
    "Trying to get label\n",
    "\n",
    "array = np.array([[1,5,9],[3,5,7]])\n",
    "\n",
    "df = pd.DataFrame(data=array, index=['Positive', 'Negative'])\n",
    "\n",
    "f, ax = plt.subplots(figsize=(8, 6))\n",
    "\n",
    "current_palette = sns.color_palette('colorblind')\n",
    "sns.barplot(x = np.arange(0,3,1), y = df.loc['Positive'].to_numpy(), color = current_palette[2], alpha = 0.66, label = \"Positive\")\n",
    "sns.barplot(x = np.arange(0,3,1), y = df.loc['Negative'].to_numpy(), color = current_palette[4], alpha = 0.66, label = \"Negative\")\n",
    "\n",
    "plt.xticks(np.arange(0,3,1), fontsize = 20)\n",
    "plt.yticks(np.arange(0,10,1), fontsize = 20)\n",
    "\n",
    "plt.legend(frameon = False)\n",
    "\n",
    "plt.tight_layout()\n",
    "'''"
   ]
  },
  {
   "cell_type": "code",
   "execution_count": 493,
   "metadata": {},
   "outputs": [
    {
     "data": {
      "image/png": "[encoded data removed]",
      "text/plain": [
       "<Figure size 432x288 with 1 Axes>"
      ]
     },
     "metadata": {
      "needs_background": "light"
     },
     "output_type": "display_data"
    }
   ],
   "source": [
    "fig.set_figheight(10)\n",
    "fig.set_figwidth(12)\n",
    "\n",
    "plt.hist(rel)\n",
    "plt.ylabel('Frequency')\n",
    "plt.xlabel('Religion')\n",
    "\n",
    "plt.show()"
   ]
  },
  {
   "cell_type": "markdown",
   "metadata": {},
   "source": [
    "Frequency by Age and Religion"
   ]
  },
  {
   "cell_type": "code",
   "execution_count": null,
   "metadata": {},
   "outputs": [],
   "source": []
  },
  {
   "cell_type": "code",
   "execution_count": 494,
   "metadata": {},
   "outputs": [
    {
     "name": "stdout",
     "output_type": "stream",
     "text": [
      "5909\n",
      "      Unnamed: 0 House Number              Street First Name    Surname Age  \\\n",
      "0              0            1   Forgotten Gardens      Laura      White  56   \n",
      "1              1            1   Forgotten Gardens     Elliot      White  57   \n",
      "3              3            2   Forgotten Gardens   Michelle       John  44   \n",
      "5              5            3   Forgotten Gardens      Emily  Henderson  72   \n",
      "6              6            4   Forgotten Gardens      Harry      Mills  38   \n",
      "...          ...          ...                 ...        ...        ...  ..   \n",
      "7765        7765            1       Adams Cottage    Barbara      Singh  43   \n",
      "7768        7768            1  Fletcher Farmhouse   Beverley     Hudson  30   \n",
      "7770        7770            1  Fletcher Farmhouse    Stephen   Shepherd  54   \n",
      "7771        7771            1  Fletcher Farmhouse    William     French  48   \n",
      "7772        7772            1  Fletcher Farmhouse    Deborah      Yates  34   \n",
      "\n",
      "     Relationship to Head of House Marital Status  Gender  \\\n",
      "0                             Head        Married  Female   \n",
      "1                          Husband        Married    Male   \n",
      "3                             Head       Divorced  Female   \n",
      "5                             Head        Widowed  Female   \n",
      "6                             Head       Divorced    Male   \n",
      "...                            ...            ...     ...   \n",
      "7765                          Head        Widowed  Female   \n",
      "7768                          Head       Divorced  Female   \n",
      "7770                       Sibling       Divorced    Male   \n",
      "7771                        Lodger         Single    Male   \n",
      "7772                        Lodger         Single  Female   \n",
      "\n",
      "                                    Occupation          Infirmity   Religion  \n",
      "0                                   Unemployed               None  Christian  \n",
      "1                 Education officer, community               None  Christian  \n",
      "3                          Administrator, arts               None  Christian  \n",
      "5                     Retired Public librarian  Unknown Infection       None  \n",
      "6                             Technical brewer               None   Catholic  \n",
      "...                                        ...                ...        ...  \n",
      "7765                  Administrator, education               None  Christian  \n",
      "7768             Research officer, trade union               None  Christian  \n",
      "7770      Accountant, chartered public finance               None       None  \n",
      "7771                                Unemployed               None  Christian  \n",
      "7772  Geographical information systems officer               None       None  \n",
      "\n",
      "[5909 rows x 12 columns]\n"
     ]
    }
   ],
   "source": [
    "\n",
    "cd = census_data.dropna(0)\n",
    "\n",
    "age = [0 if i == None else i for i in cd['Age']]\n",
    "\n",
    "relationship = cd['Relationship to Head of House']\n",
    "marital_status = ['other' if type(i) == float and math.isnan(i) else i for i in cd['Marital Status']]\n",
    "gender = cd['Gender']\n",
    "street = cd['Street']\n",
    "print(len(marital_status))\n",
    "\n",
    "census_data = census_data.reset_index(drop=True)\n",
    "\n",
    "print (cd)"
   ]
  },
  {
   "cell_type": "code",
   "execution_count": 495,
   "metadata": {},
   "outputs": [
    {
     "data": {
      "image/png": "[encoded data removed]",
      "text/plain": [
       "<Figure size 1440x720 with 1 Axes>"
      ]
     },
     "metadata": {
      "needs_background": "light"
     },
     "output_type": "display_data"
    }
   ],
   "source": [
    "# Plotting a figure of width 10 and height 5\n",
    "fig = plt.figure()\n",
    "fig.set_figheight(10)\n",
    "fig.set_figwidth(20)\n",
    "\n",
    "plt.hist(age, bins=30)\n",
    "plt.ylabel('Frequency')\n",
    "plt.xlabel('Age')\n",
    "\n",
    "plt.show()"
   ]
  },
  {
   "cell_type": "markdown",
   "metadata": {},
   "source": [
    "### Other things we could do...\n",
    "One other thing we could do is compare ages, relationships to head of house, marital status and gender to find possible error data entry. For instance, there could be people below marital ages, males that are wives and vice versa, individuals that are too young or too old to work etc."
   ]
  },
  {
   "cell_type": "markdown",
   "metadata": {},
   "source": [
    "I thought there would be people from the same houses, streets with same surnames constituting the same family which could be useful later (e.g. to determine living standards, alongside occupation, unemployment rate or for envisaging the economic growth or declination of the city), as a family is the smallest unit of a society or city for which census data should be collected and analysed. \n",
    "\n",
    "I also thought that age, gender and marital status variables could reveal information about birth and death rate, gender issues, population growth, political involvement, etc.\n",
    "\n",
    "Finally, I also thought that infirmity and religion could play a big part in suggesting hygiene status or other unhealthy practices and social relationships and interactions between residents."
   ]
  },
  {
   "cell_type": "code",
   "execution_count": 496,
   "metadata": {},
   "outputs": [
    {
     "data": {
      "image/png": "[encoded data removed]",
      "text/plain": [
       "<Figure size 1440x1080 with 1 Axes>"
      ]
     },
     "metadata": {
      "needs_background": "light"
     },
     "output_type": "display_data"
    }
   ],
   "source": [
    "fig = plt.figure()\n",
    "fig.set_figheight(10)\n",
    "fig.set_figwidth(20)\n",
    "age.sort()\n",
    "\n",
    "plt.scatter(age, marital_status)\n",
    "\n",
    "plt.ylabel('Age')\n",
    "plt.title('Marital Status')\n",
    "\n",
    "fig.set_figheight(15)\n",
    "fig.set_figwidth(20)\n",
    "\n",
    "plt.show()"
   ]
  },
  {
   "cell_type": "code",
   "execution_count": null,
   "metadata": {},
   "outputs": [],
   "source": []
  }
 ],
 "metadata": {
  "kernelspec": {
   "display_name": "Python 3",
   "language": "python",
   "name": "python3"
  },
  "language_info": {
   "codemirror_mode": {
    "name": "ipython",
    "version": 3
   },
   "file_extension": ".py",
   "mimetype": "text/x-python",
   "name": "python",
   "nbconvert_exporter": "python",
   "pygments_lexer": "ipython3",
   "version": "3.8.3"
  }
 },
 "nbformat": 4,
 "nbformat_minor": 4
}
